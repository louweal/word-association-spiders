{
 "cells": [
  {
   "cell_type": "markdown",
   "metadata": {},
   "source": [
    "# Wordgame Word2Vec features\n",
    "Welcome to the second notebook in my wordgame project. In this notebook our goal is to extract a the similarity of the word pairs based on Word2Vec. Word2Vec is a model.. \n",
    "\n",
    "a) open tail\n",
    "b) compute sim \n",
    "1) Compare sim with sim of random word pairs (shift) \n",
    "2) Plot all sim dists \n",
    "3) Plot specific. word "
   ]
  },
  {
   "cell_type": "code",
   "execution_count": 152,
   "metadata": {},
   "outputs": [
    {
     "data": {
      "text/html": [
       "<div>\n",
       "<table border=\"1\" class=\"dataframe\">\n",
       "  <thead>\n",
       "    <tr style=\"text-align: right;\">\n",
       "      <th></th>\n",
       "      <th>author</th>\n",
       "      <th>word1</th>\n",
       "      <th>word2</th>\n",
       "      <th>source</th>\n",
       "      <th>sourceID</th>\n",
       "      <th>nt</th>\n",
       "      <th>len1</th>\n",
       "      <th>len2</th>\n",
       "      <th>d_len</th>\n",
       "      <th>edit</th>\n",
       "      <th>n_edit</th>\n",
       "    </tr>\n",
       "  </thead>\n",
       "  <tbody>\n",
       "    <tr>\n",
       "      <th>0</th>\n",
       "      <td>1203</td>\n",
       "      <td>jailed</td>\n",
       "      <td>imprisoned</td>\n",
       "      <td>ecig</td>\n",
       "      <td>4</td>\n",
       "      <td>True</td>\n",
       "      <td>6</td>\n",
       "      <td>10</td>\n",
       "      <td>4</td>\n",
       "      <td>7</td>\n",
       "      <td>0.051471</td>\n",
       "    </tr>\n",
       "    <tr>\n",
       "      <th>1</th>\n",
       "      <td>5839</td>\n",
       "      <td>me</td>\n",
       "      <td>liverbird</td>\n",
       "      <td>wrongplanet</td>\n",
       "      <td>9</td>\n",
       "      <td>False</td>\n",
       "      <td>2</td>\n",
       "      <td>9</td>\n",
       "      <td>7</td>\n",
       "      <td>8</td>\n",
       "      <td>0.094118</td>\n",
       "    </tr>\n",
       "    <tr>\n",
       "      <th>2</th>\n",
       "      <td>2962</td>\n",
       "      <td>reach</td>\n",
       "      <td>up</td>\n",
       "      <td>sas</td>\n",
       "      <td>7</td>\n",
       "      <td>True</td>\n",
       "      <td>5</td>\n",
       "      <td>2</td>\n",
       "      <td>3</td>\n",
       "      <td>5</td>\n",
       "      <td>0.172414</td>\n",
       "    </tr>\n",
       "    <tr>\n",
       "      <th>3</th>\n",
       "      <td>1066</td>\n",
       "      <td>owie</td>\n",
       "      <td>band-aid</td>\n",
       "      <td>ecig</td>\n",
       "      <td>4</td>\n",
       "      <td>True</td>\n",
       "      <td>4</td>\n",
       "      <td>8</td>\n",
       "      <td>4</td>\n",
       "      <td>7</td>\n",
       "      <td>0.087500</td>\n",
       "    </tr>\n",
       "    <tr>\n",
       "      <th>4</th>\n",
       "      <td>5006</td>\n",
       "      <td>water</td>\n",
       "      <td>river</td>\n",
       "      <td>wrongplanet</td>\n",
       "      <td>9</td>\n",
       "      <td>False</td>\n",
       "      <td>5</td>\n",
       "      <td>5</td>\n",
       "      <td>0</td>\n",
       "      <td>3</td>\n",
       "      <td>0.060000</td>\n",
       "    </tr>\n",
       "  </tbody>\n",
       "</table>\n",
       "</div>"
      ],
      "text/plain": [
       "   author   word1       word2       source  sourceID     nt  len1  len2  \\\n",
       "0    1203  jailed  imprisoned         ecig         4   True     6    10   \n",
       "1    5839      me   liverbird  wrongplanet         9  False     2     9   \n",
       "2    2962   reach          up          sas         7   True     5     2   \n",
       "3    1066    owie    band-aid         ecig         4   True     4     8   \n",
       "4    5006   water       river  wrongplanet         9  False     5     5   \n",
       "\n",
       "   d_len  edit    n_edit  \n",
       "0      4     7  0.051471  \n",
       "1      7     8  0.094118  \n",
       "2      3     5  0.172414  \n",
       "3      4     7  0.087500  \n",
       "4      0     3  0.060000  "
      ]
     },
     "execution_count": 152,
     "metadata": {},
     "output_type": "execute_result"
    }
   ],
   "source": [
    "import pandas as pd\n",
    "import numpy as np\n",
    "import matplotlib.pyplot as plt\n",
    "import seaborn as sns\n",
    "\n",
    "\n",
    "df = pd.read_csv('../data/processed/wordgame_20170628_basicfeatures.csv', dtype={'nt': np.bool, 'word1':str, 'word2':str})\n",
    "\n",
    "df.head()"
   ]
  },
  {
   "cell_type": "code",
   "execution_count": 2,
   "metadata": {},
   "outputs": [
    {
     "name": "stdout",
     "output_type": "stream",
     "text": [
      "Loading word embeddings...\n"
     ]
    }
   ],
   "source": [
    "from gensim.models.keyedvectors import KeyedVectors\n",
    "\n",
    "w2v_model = KeyedVectors.load_word2vec_format('../data/external/GoogleNews-vectors-negative300.bin', binary=True)\n",
    "print('Loaded word embeddings')"
   ]
  },
  {
   "cell_type": "code",
   "execution_count": 154,
   "metadata": {},
   "outputs": [],
   "source": [
    "def similarity(r):\n",
    "\n",
    "\tif (r.word1 in w2v_model.vocab) & (r.word2 in w2v_model.vocab):\n",
    "\t\twv1 = w2v_model.word_vec(r.word1)\n",
    "\t\twv2 = w2v_model.word_vec(r.word2)\n",
    "\t\t\n",
    "\t\treturn w2v_model.similarity(r.word1, r.word2)\n",
    "\telse:\n",
    "\t\treturn 100\n",
    "\n",
    "\n",
    "df['sim'] = df.apply(similarity, axis=1) \n"
   ]
  },
  {
   "cell_type": "code",
   "execution_count": 156,
   "metadata": {},
   "outputs": [
    {
     "name": "stdout",
     "output_type": "stream",
     "text": [
      "Number of remaining word pairs: 272570\n",
      "Mean similariy score: 0.268536773247\n"
     ]
    },
    {
     "data": {
      "text/html": [
       "<div>\n",
       "<table border=\"1\" class=\"dataframe\">\n",
       "  <thead>\n",
       "    <tr style=\"text-align: right;\">\n",
       "      <th></th>\n",
       "      <th>author</th>\n",
       "      <th>word1</th>\n",
       "      <th>word2</th>\n",
       "      <th>source</th>\n",
       "      <th>sourceID</th>\n",
       "      <th>nt</th>\n",
       "      <th>len1</th>\n",
       "      <th>len2</th>\n",
       "      <th>d_len</th>\n",
       "      <th>edit</th>\n",
       "      <th>n_edit</th>\n",
       "      <th>sim</th>\n",
       "      <th>simr</th>\n",
       "    </tr>\n",
       "  </thead>\n",
       "  <tbody>\n",
       "    <tr>\n",
       "      <th>0</th>\n",
       "      <td>1203</td>\n",
       "      <td>jailed</td>\n",
       "      <td>imprisoned</td>\n",
       "      <td>ecig</td>\n",
       "      <td>4</td>\n",
       "      <td>True</td>\n",
       "      <td>6</td>\n",
       "      <td>10</td>\n",
       "      <td>4</td>\n",
       "      <td>7</td>\n",
       "      <td>0.051471</td>\n",
       "      <td>0.757315</td>\n",
       "      <td>100.000000</td>\n",
       "    </tr>\n",
       "    <tr>\n",
       "      <th>2</th>\n",
       "      <td>2962</td>\n",
       "      <td>reach</td>\n",
       "      <td>up</td>\n",
       "      <td>sas</td>\n",
       "      <td>7</td>\n",
       "      <td>True</td>\n",
       "      <td>5</td>\n",
       "      <td>2</td>\n",
       "      <td>3</td>\n",
       "      <td>5</td>\n",
       "      <td>0.172414</td>\n",
       "      <td>0.190445</td>\n",
       "      <td>100.000000</td>\n",
       "    </tr>\n",
       "    <tr>\n",
       "      <th>4</th>\n",
       "      <td>5006</td>\n",
       "      <td>water</td>\n",
       "      <td>river</td>\n",
       "      <td>wrongplanet</td>\n",
       "      <td>9</td>\n",
       "      <td>False</td>\n",
       "      <td>5</td>\n",
       "      <td>5</td>\n",
       "      <td>0</td>\n",
       "      <td>3</td>\n",
       "      <td>0.060000</td>\n",
       "      <td>0.576898</td>\n",
       "      <td>100.000000</td>\n",
       "    </tr>\n",
       "    <tr>\n",
       "      <th>5</th>\n",
       "      <td>229</td>\n",
       "      <td>tiger</td>\n",
       "      <td>lion</td>\n",
       "      <td>aspiecentral</td>\n",
       "      <td>0</td>\n",
       "      <td>False</td>\n",
       "      <td>5</td>\n",
       "      <td>4</td>\n",
       "      <td>1</td>\n",
       "      <td>4</td>\n",
       "      <td>0.097561</td>\n",
       "      <td>0.512104</td>\n",
       "      <td>0.170251</td>\n",
       "    </tr>\n",
       "    <tr>\n",
       "      <th>6</th>\n",
       "      <td>4705</td>\n",
       "      <td>spray</td>\n",
       "      <td>gun</td>\n",
       "      <td>the_fishy</td>\n",
       "      <td>8</td>\n",
       "      <td>True</td>\n",
       "      <td>5</td>\n",
       "      <td>3</td>\n",
       "      <td>2</td>\n",
       "      <td>5</td>\n",
       "      <td>0.147059</td>\n",
       "      <td>0.274585</td>\n",
       "      <td>0.008356</td>\n",
       "    </tr>\n",
       "  </tbody>\n",
       "</table>\n",
       "</div>"
      ],
      "text/plain": [
       "   author   word1       word2        source  sourceID     nt  len1  len2  \\\n",
       "0    1203  jailed  imprisoned          ecig         4   True     6    10   \n",
       "2    2962   reach          up           sas         7   True     5     2   \n",
       "4    5006   water       river   wrongplanet         9  False     5     5   \n",
       "5     229   tiger        lion  aspiecentral         0  False     5     4   \n",
       "6    4705   spray         gun     the_fishy         8   True     5     3   \n",
       "\n",
       "   d_len  edit    n_edit       sim        simr  \n",
       "0      4     7  0.051471  0.757315  100.000000  \n",
       "2      3     5  0.172414  0.190445  100.000000  \n",
       "4      0     3  0.060000  0.576898  100.000000  \n",
       "5      1     4  0.097561  0.512104    0.170251  \n",
       "6      2     5  0.147059  0.274585    0.008356  "
      ]
     },
     "execution_count": 156,
     "metadata": {},
     "output_type": "execute_result"
    }
   ],
   "source": [
    "# remove a words (pairs) that are not in vocabulary\n",
    "df = df[df['sim'] <= 1.0]\n",
    "print(\"Number of remaining word pairs: \" +str(len(df)))\n",
    "print(\"Mean similariy score: \" +str(df['sim'].mean()))\n"
   ]
  },
  {
   "cell_type": "markdown",
   "metadata": {},
   "source": [
    "81% of pairs in vocabulary. sim = 0.27\n",
    "\n",
    "Now random.."
   ]
  },
  {
   "cell_type": "code",
   "execution_count": 157,
   "metadata": {},
   "outputs": [
    {
     "name": "stdout",
     "output_type": "stream",
     "text": [
      "Number of remaining word pairs: 241520\n",
      "Mean similariy score: 0.0819491034274\n"
     ]
    },
    {
     "data": {
      "text/html": [
       "<div>\n",
       "<table border=\"1\" class=\"dataframe\">\n",
       "  <thead>\n",
       "    <tr style=\"text-align: right;\">\n",
       "      <th></th>\n",
       "      <th>author</th>\n",
       "      <th>word1</th>\n",
       "      <th>word2</th>\n",
       "      <th>source</th>\n",
       "      <th>sourceID</th>\n",
       "      <th>nt</th>\n",
       "      <th>len1</th>\n",
       "      <th>len2</th>\n",
       "      <th>d_len</th>\n",
       "      <th>edit</th>\n",
       "      <th>n_edit</th>\n",
       "      <th>sim</th>\n",
       "      <th>simr</th>\n",
       "    </tr>\n",
       "  </thead>\n",
       "  <tbody>\n",
       "    <tr>\n",
       "      <th>5</th>\n",
       "      <td>229</td>\n",
       "      <td>tiger</td>\n",
       "      <td>lion</td>\n",
       "      <td>aspiecentral</td>\n",
       "      <td>0</td>\n",
       "      <td>False</td>\n",
       "      <td>5</td>\n",
       "      <td>4</td>\n",
       "      <td>1</td>\n",
       "      <td>4</td>\n",
       "      <td>0.097561</td>\n",
       "      <td>0.512104</td>\n",
       "      <td>0.170251</td>\n",
       "    </tr>\n",
       "    <tr>\n",
       "      <th>6</th>\n",
       "      <td>4705</td>\n",
       "      <td>spray</td>\n",
       "      <td>gun</td>\n",
       "      <td>the_fishy</td>\n",
       "      <td>8</td>\n",
       "      <td>True</td>\n",
       "      <td>5</td>\n",
       "      <td>3</td>\n",
       "      <td>2</td>\n",
       "      <td>5</td>\n",
       "      <td>0.147059</td>\n",
       "      <td>0.274585</td>\n",
       "      <td>0.008356</td>\n",
       "    </tr>\n",
       "    <tr>\n",
       "      <th>7</th>\n",
       "      <td>1056</td>\n",
       "      <td>absorb</td>\n",
       "      <td>osmosis</td>\n",
       "      <td>ecig</td>\n",
       "      <td>4</td>\n",
       "      <td>True</td>\n",
       "      <td>6</td>\n",
       "      <td>7</td>\n",
       "      <td>1</td>\n",
       "      <td>6</td>\n",
       "      <td>0.070588</td>\n",
       "      <td>0.232177</td>\n",
       "      <td>-0.046622</td>\n",
       "    </tr>\n",
       "    <tr>\n",
       "      <th>8</th>\n",
       "      <td>12</td>\n",
       "      <td>between</td>\n",
       "      <td>betwixt</td>\n",
       "      <td>aspiecentral</td>\n",
       "      <td>0</td>\n",
       "      <td>False</td>\n",
       "      <td>7</td>\n",
       "      <td>7</td>\n",
       "      <td>0</td>\n",
       "      <td>3</td>\n",
       "      <td>0.030612</td>\n",
       "      <td>0.433192</td>\n",
       "      <td>-0.061407</td>\n",
       "    </tr>\n",
       "    <tr>\n",
       "      <th>9</th>\n",
       "      <td>838</td>\n",
       "      <td>scissors</td>\n",
       "      <td>cutting</td>\n",
       "      <td>bleeping_computer</td>\n",
       "      <td>2</td>\n",
       "      <td>True</td>\n",
       "      <td>8</td>\n",
       "      <td>7</td>\n",
       "      <td>1</td>\n",
       "      <td>7</td>\n",
       "      <td>0.061947</td>\n",
       "      <td>0.271847</td>\n",
       "      <td>0.140529</td>\n",
       "    </tr>\n",
       "  </tbody>\n",
       "</table>\n",
       "</div>"
      ],
      "text/plain": [
       "   author     word1    word2             source  sourceID     nt  len1  len2  \\\n",
       "5     229     tiger     lion       aspiecentral         0  False     5     4   \n",
       "6    4705     spray      gun          the_fishy         8   True     5     3   \n",
       "7    1056    absorb  osmosis               ecig         4   True     6     7   \n",
       "8      12   between  betwixt       aspiecentral         0  False     7     7   \n",
       "9     838  scissors  cutting  bleeping_computer         2   True     8     7   \n",
       "\n",
       "   d_len  edit    n_edit       sim      simr  \n",
       "5      1     4  0.097561  0.512104  0.170251  \n",
       "6      2     5  0.147059  0.274585  0.008356  \n",
       "7      1     6  0.070588  0.232177 -0.046622  \n",
       "8      0     3  0.030612  0.433192 -0.061407  \n",
       "9      1     7  0.061947  0.271847  0.140529  "
      ]
     },
     "execution_count": 157,
     "metadata": {},
     "output_type": "execute_result"
    }
   ],
   "source": [
    "#\n",
    "df['word2'] = df['word2'].shift(1)\n",
    "\n",
    "df['simr'] = df.apply(similarity, axis=1)\n",
    "#and.. shift back!\n",
    "df['word2'] = df['word2'].shift(-1)\n",
    "\n",
    "# remove a words (pairs) that are not in vocabulary\n",
    "df = df[df['simr'] <= 1.0]\n",
    "print(\"Number of remaining word pairs: \" +str(len(df)))\n",
    "print(\"Mean similariy score: \" +str(df['simr'].mean()))"
   ]
  },
  {
   "cell_type": "markdown",
   "metadata": {},
   "source": [
    "sim = 3.5 times lower"
   ]
  },
  {
   "cell_type": "markdown",
   "metadata": {},
   "source": [
    "cats 'n dogs"
   ]
  },
  {
   "cell_type": "code",
   "execution_count": 186,
   "metadata": {
    "collapsed": true
   },
   "outputs": [],
   "source": [
    "word1_list = ['music','water']\n",
    "word2_list = ['music','water']\n",
    "tdf = df[(df['word1'].isin(word_list)) | (df['word2'].isin(word2_list))]\n",
    "#tdf = df"
   ]
  },
  {
   "cell_type": "code",
   "execution_count": 187,
   "metadata": {},
   "outputs": [
    {
     "name": "stdout",
     "output_type": "stream",
     "text": [
      "Number of NT word pairs: 1155\n",
      "\tMean similarity: 0.275190000997\n",
      "Number of ASD word pairs: 378\n",
      "\tMean similarity: 0.296289939793\n"
     ]
    },
    {
     "data": {
      "image/png": "[encoded data removed]",
      "text/plain": [
       "<matplotlib.figure.Figure at 0x7fec416a1080>"
      ]
     },
     "metadata": {},
     "output_type": "display_data"
    }
   ],
   "source": [
    "nt = tdf[tdf['nt']].sim\n",
    "asd = tdf[tdf['nt']==False].sim\n",
    "\n",
    "print(\"Number of NT word pairs: \" + str(len(nt)))\n",
    "print(\"\\tMean similarity: \" + str(nt.mean()))\n",
    "print(\"Number of ASD word pairs: \" + str(len(asd)))\n",
    "print(\"\\tMean similarity: \" + str(asd.mean()))\n",
    "\n",
    "#plot\n",
    "w1 = np.ones_like(nt)/len(nt)\n",
    "w2 = np.ones_like(asd)/len(asd)\n",
    "bins = np.arange(-2,2,0.05)\n",
    "\n",
    "plt.figure(figsize=(20, 5))\n",
    "plt.hist(nt, bins=bins, alpha=0.5, label=\"NT\", weights=w1)\n",
    "plt.hist(asd, bins=bins, alpha=0.5, label=\"ASD\", weights=w2)\n",
    "plt.title('Histogram of similarity')\n",
    "plt.xlabel('Similarity')\n",
    "plt.ylabel('Frequency')\n",
    "plt.legend(loc='upper right')\n",
    "axes = plt.gca()\n",
    "axes.set_xlim([-0.1,0.8])\n",
    "plt.show()"
   ]
  },
  {
   "cell_type": "markdown",
   "metadata": {},
   "source": [
    "1000 assocations! Still differences! I think that is good? or overfitting...? \n",
    "\n",
    "What to do?? \n"
   ]
  },
  {
   "cell_type": "code",
   "execution_count": 188,
   "metadata": {},
   "outputs": [
    {
     "name": "stdout",
     "output_type": "stream",
     "text": [
      "Number of A word pairs: 1167\n",
      "\tMean similarity: 0.275190000997\n",
      "Number of B word pairs: 366\n",
      "\tMean similarity: 0.296289939793\n"
     ]
    },
    {
     "data": {
      "image/png": "[encoded data removed]",
      "text/plain": [
       "<matplotlib.figure.Figure at 0x7fec40e6b9b0>"
      ]
     },
     "metadata": {},
     "output_type": "display_data"
    }
   ],
   "source": [
    "a = tdf[tdf['author']%5!=0].sim\n",
    "b = tdf[tdf['author']%5==0].sim\n",
    "\n",
    "print(\"Number of A word pairs: \" + str(len(a)))\n",
    "print(\"\\tMean similarity: \" + str(nt.mean()))\n",
    "print(\"Number of B word pairs: \" + str(len(b)))\n",
    "print(\"\\tMean similarity: \" + str(asd.mean()))\n",
    "\n",
    "#plot\n",
    "w1 = np.ones_like(a)/len(a)\n",
    "w2 = np.ones_like(b)/len(b)\n",
    "bins = np.arange(-2,2,0.05)\n",
    "\n",
    "plt.figure(figsize=(20, 5))\n",
    "plt.hist(a, bins=bins, alpha=0.5, label=\"A\", weights=w1)\n",
    "plt.hist(b, bins=bins, alpha=0.5, label=\"B\", weights=w2)\n",
    "plt.title('Histogram of similarity')\n",
    "plt.xlabel('Similarity')\n",
    "plt.ylabel('Frequency')\n",
    "plt.legend(loc='upper right')\n",
    "axes = plt.gca()\n",
    "axes.set_xlim([-0.1,0.8])\n",
    "plt.show()"
   ]
  },
  {
   "cell_type": "markdown",
   "metadata": {},
   "source": [
    "Shit shit shit... :( "
   ]
  }
 ],
 "metadata": {
  "kernelspec": {
   "display_name": "Python 3",
   "language": "python",
   "name": "python3"
  },
  "language_info": {
   "codemirror_mode": {
    "name": "ipython",
    "version": 3
   },
   "file_extension": ".py",
   "mimetype": "text/x-python",
   "name": "python",
   "nbconvert_exporter": "python",
   "pygments_lexer": "ipython3",
   "version": "3.5.2"
  }
 },
 "nbformat": 4,
 "nbformat_minor": 2
}
