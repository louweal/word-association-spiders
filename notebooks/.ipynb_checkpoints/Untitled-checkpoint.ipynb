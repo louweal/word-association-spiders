{
 "cells": [
  {
   "cell_type": "code",
   "execution_count": 20,
   "metadata": {},
   "outputs": [
    {
     "data": {
      "text/html": [
       "<div>\n",
       "<table border=\"1\" class=\"dataframe\">\n",
       "  <thead>\n",
       "    <tr style=\"text-align: right;\">\n",
       "      <th></th>\n",
       "      <th>author</th>\n",
       "      <th>word1</th>\n",
       "      <th>word2</th>\n",
       "      <th>source</th>\n",
       "      <th>sourceID</th>\n",
       "      <th>nt</th>\n",
       "      <th>len1</th>\n",
       "      <th>len2</th>\n",
       "      <th>d_len</th>\n",
       "      <th>edit</th>\n",
       "      <th>n_edit</th>\n",
       "    </tr>\n",
       "  </thead>\n",
       "  <tbody>\n",
       "    <tr>\n",
       "      <th>0</th>\n",
       "      <td>4688</td>\n",
       "      <td>crows</td>\n",
       "      <td>feet</td>\n",
       "      <td>the_fishy</td>\n",
       "      <td>8</td>\n",
       "      <td>True</td>\n",
       "      <td>5</td>\n",
       "      <td>4</td>\n",
       "      <td>1</td>\n",
       "      <td>5</td>\n",
       "      <td>0.12195121951219512</td>\n",
       "    </tr>\n",
       "    <tr>\n",
       "      <th>1</th>\n",
       "      <td>4841</td>\n",
       "      <td>salute</td>\n",
       "      <td>respect</td>\n",
       "      <td>the_fishy</td>\n",
       "      <td>8</td>\n",
       "      <td>True</td>\n",
       "      <td>6</td>\n",
       "      <td>7</td>\n",
       "      <td>1</td>\n",
       "      <td>6</td>\n",
       "      <td>0.07058823529411765</td>\n",
       "    </tr>\n",
       "    <tr>\n",
       "      <th>2</th>\n",
       "      <td>1732</td>\n",
       "      <td>pride</td>\n",
       "      <td>arrogance</td>\n",
       "      <td>gog</td>\n",
       "      <td>5</td>\n",
       "      <td>True</td>\n",
       "      <td>5</td>\n",
       "      <td>9</td>\n",
       "      <td>4</td>\n",
       "      <td>7</td>\n",
       "      <td>0.0660377358490566</td>\n",
       "    </tr>\n",
       "    <tr>\n",
       "      <th>3</th>\n",
       "      <td>1272</td>\n",
       "      <td>knife</td>\n",
       "      <td>butter</td>\n",
       "      <td>gog</td>\n",
       "      <td>5</td>\n",
       "      <td>True</td>\n",
       "      <td>5</td>\n",
       "      <td>6</td>\n",
       "      <td>1</td>\n",
       "      <td>5</td>\n",
       "      <td>0.08196721311475409</td>\n",
       "    </tr>\n",
       "    <tr>\n",
       "      <th>4</th>\n",
       "      <td>418</td>\n",
       "      <td>bed head</td>\n",
       "      <td>my hair right now</td>\n",
       "      <td>atu2</td>\n",
       "      <td>1</td>\n",
       "      <td>True</td>\n",
       "      <td>8</td>\n",
       "      <td>17</td>\n",
       "      <td>9</td>\n",
       "      <td>15</td>\n",
       "      <td>0.042492917847025496</td>\n",
       "    </tr>\n",
       "  </tbody>\n",
       "</table>\n",
       "</div>"
      ],
      "text/plain": [
       "  author     word1              word2     source sourceID    nt len1 len2  \\\n",
       "0   4688     crows               feet  the_fishy        8  True    5    4   \n",
       "1   4841    salute            respect  the_fishy        8  True    6    7   \n",
       "2   1732     pride          arrogance        gog        5  True    5    9   \n",
       "3   1272     knife             butter        gog        5  True    5    6   \n",
       "4    418  bed head  my hair right now       atu2        1  True    8   17   \n",
       "\n",
       "  d_len edit                n_edit  \n",
       "0     1    5   0.12195121951219512  \n",
       "1     1    6   0.07058823529411765  \n",
       "2     4    7    0.0660377358490566  \n",
       "3     1    5   0.08196721311475409  \n",
       "4     9   15  0.042492917847025496  "
      ]
     },
     "execution_count": 20,
     "metadata": {},
     "output_type": "execute_result"
    }
   ],
   "source": [
    "import pandas as pd\n",
    "import numpy as np\n",
    "import matplotlib as plt\n",
    "import seaborn as sns\n",
    "\n",
    "\n",
    "from gensim.models.keyedvectors import KeyedVectors\n",
    "\n",
    "df = pd.read_csv('../data/processed/wordgame_201706_basicfeatures.csv', dtype='object')\n",
    "#store words as string\n",
    "df['word1'] = df['word1'].astype('str') \n",
    "df['word2'] = df['word2'].astype('str') \n",
    "df['nt'] = df['nt'].astype('bool') \n",
    "\n",
    "df['word1'] = df['word1'].map(str).apply(lambda x: x.lower())\n",
    "df['word2'] = df['word2'].map(str).apply(lambda x: x.lower())\n",
    "\n",
    "df.head()"
   ]
  },
  {
   "cell_type": "code",
   "execution_count": 2,
   "metadata": {},
   "outputs": [
    {
     "name": "stdout",
     "output_type": "stream",
     "text": [
      "Loading word embeddings...\n"
     ]
    }
   ],
   "source": [
    "print('Loading word embeddings...')\n",
    "w2v_model = KeyedVectors.load_word2vec_format('../data/external/GoogleNews-vectors-negative300.bin', binary=True)"
   ]
  },
  {
   "cell_type": "code",
   "execution_count": 23,
   "metadata": {
    "collapsed": true
   },
   "outputs": [],
   "source": [
    "def similarity(r):\n",
    "\n",
    "\tif (r.word1 in w2v_model.vocab) & (r.word2 in w2v_model.vocab):\n",
    "\t\twv1 = w2v_model.word_vec(r.word1)\n",
    "\t\twv2 = w2v_model.word_vec(r.word2)\n",
    "\t\t\n",
    "\t\treturn w2v_model.similarity(r.word1, r.word2)\n",
    "\telse:\n",
    "\t\treturn 100\n",
    "\n",
    "\n",
    "df['sim'] = df.apply(similarity, axis=1) "
   ]
  },
  {
   "cell_type": "code",
   "execution_count": 24,
   "metadata": {},
   "outputs": [
    {
     "name": "stdout",
     "output_type": "stream",
     "text": [
      "0.265027306496\n"
     ]
    }
   ],
   "source": [
    "# remove \n",
    "df = df[df['sim'] <= 1.0]\n",
    "\n",
    "lowlen = len(df)\n",
    "print(df['sim'].mean())"
   ]
  },
  {
   "cell_type": "code",
   "execution_count": 27,
   "metadata": {},
   "outputs": [
    {
     "name": "stdout",
     "output_type": "stream",
     "text": [
      "0    0.152007\n",
      "1    0.271863\n",
      "2    0.312933\n",
      "3    0.295923\n",
      "5    0.392312\n",
      "Name: sim, dtype: float64\n"
     ]
    },
    {
     "name": "stderr",
     "output_type": "stream",
     "text": [
      "/usr/lib/python3/dist-packages/matplotlib/axes/_axes.py:5907: UserWarning: 2D hist input should be nsamples x nvariables;\n",
      " this looks transposed (shape is 0 x 1)\n",
      "  '(shape is %d x %d)' % inp.shape[::-1])\n"
     ]
    },
    {
     "data": {
      "image/png": "[encoded data removed]",
      "text/plain": [
       "<matplotlib.figure.Figure at 0x7fb327960630>"
      ]
     },
     "metadata": {},
     "output_type": "display_data"
    }
   ],
   "source": [
    "import matplotlib.pyplot as plt\n",
    "\n",
    "## plot\n",
    "print(df['sim'].head())\n",
    "nt = df[df['nt']].sim\n",
    "asd = df[df['nt']==False].sim\n",
    "\n",
    "w1 = np.ones_like(nt)/len(nt)\n",
    "w2 = np.ones_like(asd)/len(asd)\n",
    "\n",
    "bins = np.arange(-2,2,0.1)\n",
    "\n",
    "plt.figure(figsize=(12, 5))\n",
    "plt.hist(nt, bins=bins, alpha=0.5, label=\"NT\", weights=w1)\n",
    "plt.hist(asd, bins=bins,alpha=0.5, label=\"ASD\", weights=w2)\n",
    "plt.title('Histogram of similarity')\n",
    "plt.xlabel('Similarity')\n",
    "plt.ylabel('Frequency')\n",
    "plt.legend(loc='upper right')\n",
    "axes = plt.gca()\n",
    "axes.set_xlim([-1,1])\n",
    "plt.show()"
   ]
  }
 ],
 "metadata": {
  "kernelspec": {
   "display_name": "Python 3",
   "language": "python",
   "name": "python3"
  },
  "language_info": {
   "codemirror_mode": {
    "name": "ipython",
    "version": 3
   },
   "file_extension": ".py",
   "mimetype": "text/x-python",
   "name": "python",
   "nbconvert_exporter": "python",
   "pygments_lexer": "ipython3",
   "version": "3.5.2"
  }
 },
 "nbformat": 4,
 "nbformat_minor": 2
}
