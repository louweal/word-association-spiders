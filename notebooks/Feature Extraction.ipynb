{
 "cells": [
  {
   "cell_type": "markdown",
   "metadata": {},
   "source": [
    "Todo: \n",
    "    - Create lowercase dataset (make_dataset.py)\n",
    "    - Delete UPPPER and Title words after checking\n",
    "    - Find most likely relation type: \"A B\", \"B A\", \"AB\", \"BA\" \n",
    "    - Store as one-hot data...\n",
    "    - Run NLTK\n",
    "    - Compile new feature dataset\n",
    "    - Split dataset (split data.ipynb)\n",
    "    \n",
    "    \n",
    "Todo 2:\n",
    "    - do something about the low w2v match in lowercased dataset"
   ]
  },
  {
   "cell_type": "code",
   "execution_count": 4,
   "metadata": {
    "collapsed": true
   },
   "outputs": [],
   "source": [
    "import numpy as np # linear algebra\n",
    "import pandas as pd # data processing, CSV file I/O (e.g. pd.read_csv)"
   ]
  },
  {
   "cell_type": "code",
   "execution_count": 5,
   "metadata": {},
   "outputs": [
    {
     "name": "stdout",
     "output_type": "stream",
     "text": [
      "['AC', 'BC', 'CC', 'ECF', 'GOG', 'LEF', 'SAS', 'TF', 'U2', 'WP']\n"
     ]
    },
    {
     "data": {
      "text/html": [
       "<div>\n",
       "<table border=\"1\" class=\"dataframe\">\n",
       "  <thead>\n",
       "    <tr style=\"text-align: right;\">\n",
       "      <th></th>\n",
       "      <th>user</th>\n",
       "      <th>forum</th>\n",
       "      <th>word</th>\n",
       "      <th>association</th>\n",
       "      <th>forumID</th>\n",
       "    </tr>\n",
       "  </thead>\n",
       "  <tbody>\n",
       "    <tr>\n",
       "      <th>0</th>\n",
       "      <td>Hickory</td>\n",
       "      <td>GOG</td>\n",
       "      <td>palm</td>\n",
       "      <td>tree</td>\n",
       "      <td>4</td>\n",
       "    </tr>\n",
       "    <tr>\n",
       "      <th>1</th>\n",
       "      <td>boopme</td>\n",
       "      <td>BC</td>\n",
       "      <td>elbows</td>\n",
       "      <td>fusilli</td>\n",
       "      <td>1</td>\n",
       "    </tr>\n",
       "    <tr>\n",
       "      <th>2</th>\n",
       "      <td>Smogg</td>\n",
       "      <td>GOG</td>\n",
       "      <td>paranormal</td>\n",
       "      <td>apparition</td>\n",
       "      <td>4</td>\n",
       "    </tr>\n",
       "    <tr>\n",
       "      <th>3</th>\n",
       "      <td>ruennsheng</td>\n",
       "      <td>WP</td>\n",
       "      <td>hominid</td>\n",
       "      <td>abstract</td>\n",
       "      <td>9</td>\n",
       "    </tr>\n",
       "    <tr>\n",
       "      <th>4</th>\n",
       "      <td>Jack Jackson</td>\n",
       "      <td>SAS</td>\n",
       "      <td>sweet</td>\n",
       "      <td>candy</td>\n",
       "      <td>6</td>\n",
       "    </tr>\n",
       "  </tbody>\n",
       "</table>\n",
       "</div>"
      ],
      "text/plain": [
       "           user forum        word association  forumID\n",
       "0       Hickory   GOG        palm        tree        4\n",
       "1        boopme    BC      elbows     fusilli        1\n",
       "2         Smogg   GOG  paranormal  apparition        4\n",
       "3    ruennsheng    WP     hominid    abstract        9\n",
       "4  Jack Jackson   SAS       sweet       candy        6"
      ]
     },
     "execution_count": 5,
     "metadata": {},
     "output_type": "execute_result"
    }
   ],
   "source": [
    "df = pd.read_csv('../data/processed/wordgame_20170829.csv') # original cAsE\n",
    "df['word'] = df['word'].astype(str)\n",
    "df['association'] = df['association'].astype(str)\n",
    "\n",
    "# later\n",
    "with open('../data/processed/sources.csv') as f:\n",
    "    sources_list = f.read().splitlines()\n",
    "print(sources_list)\n",
    "df.head()"
   ]
  },
  {
   "cell_type": "code",
   "execution_count": 61,
   "metadata": {},
   "outputs": [
    {
     "name": "stdout",
     "output_type": "stream",
     "text": [
      "Dataset shape: (330395, 5)\n",
      "Number of sources: 10\n"
     ]
    }
   ],
   "source": [
    "print(\"Dataset shape: \" + str(df.shape))\n",
    "print(\"Number of sources: \" + str(len(df['forumID'].unique())))"
   ]
  },
  {
   "cell_type": "markdown",
   "metadata": {},
   "source": [
    "### Syntactic features\n",
    "..."
   ]
  },
  {
   "cell_type": "code",
   "execution_count": 43,
   "metadata": {},
   "outputs": [
    {
     "name": "stdout",
     "output_type": "stream",
     "text": [
      "['water', 'music', 'time', 'love', 'money', 'fire', 'food']\n",
      "Mean: 0.0188429733414\tMedian: 0.008172036501763041\n"
     ]
    }
   ],
   "source": [
    "df['tf'] = (100*df.groupby(['association'])['association'].transform('count'))/len(df) #percentage\n",
    "print(df.word.value_counts().head(7).index.tolist())\n",
    "print(\"Mean: \"+str(df.tf.mean())+\"\\tMedian: \"+str(df.tf.median()))"
   ]
  },
  {
   "cell_type": "code",
   "execution_count": 41,
   "metadata": {},
   "outputs": [
    {
     "data": {
      "text/plain": [
       "['me:you',\n",
       " 'man:woman',\n",
       " 'time:clock',\n",
       " 'up:down',\n",
       " 'meow:meow',\n",
       " 'green:grass',\n",
       " 'house:home']"
      ]
     },
     "execution_count": 41,
     "metadata": {},
     "output_type": "execute_result"
    }
   ],
   "source": [
    "df['pair'] = df.apply(lambda r: str(r.word) + \":\" + str(r.association), axis=1)\n",
    "df['pf'] = (100*df.groupby(['pair'])['pair'].transform('count'))/len(df)\n",
    "df.pair.value_counts().head(7).index.tolist()"
   ]
  },
  {
   "cell_type": "code",
   "execution_count": 64,
   "metadata": {},
   "outputs": [
    {
     "name": "stdout",
     "output_type": "stream",
     "text": [
      "Mean: 6.77352865509\tMedian: 6.0\n",
      "Mean: -0.000853523812406\tMedian: 0.0\n"
     ]
    }
   ],
   "source": [
    "df['len1'] = df['word'].apply(lambda x:len(x))\n",
    "df['len2'] = df['association'].apply(lambda x:len(x))\n",
    "df['ldiff'] = df['len1'] - df['len2'] # length difference\n",
    "print(\"Mean: \"+str(df.len1.mean())+\"\\tMedian: \"+str(df.len1.median()))  \n",
    "print(\"Mean: \"+str(df.ldiff.mean())+\"\\tMedian: \"+str(df.ldiff.median()))  "
   ]
  },
  {
   "cell_type": "code",
   "execution_count": 65,
   "metadata": {},
   "outputs": [
    {
     "name": "stdout",
     "output_type": "stream",
     "text": [
      "Mean: 6.80292982642\tMedian: 6.0\n"
     ]
    }
   ],
   "source": [
    "import Levenshtein\n",
    "df['levenshtein'] = df.apply(lambda r:Levenshtein.distance(r.word, r.association), axis=1)\n",
    "print(\"Mean: \"+str(df.levenshtein.mean())+\"\\tMedian: \"+str(df.levenshtein.median()))"
   ]
  },
  {
   "cell_type": "code",
   "execution_count": 66,
   "metadata": {},
   "outputs": [
    {
     "name": "stdout",
     "output_type": "stream",
     "text": [
      "['', 's', 'c', 'b', 'p', 'm', 'f', 't', 'd', 'a', 'w', 'h', 'r', 'g', 'l', 'e', 're', 'co', 'n', 'i']\n",
      "Mean: 0.0340372050678\tMedian: 0.0\n",
      "['', 'e', 's', 't', 'y', 'n', 'ed', 'er', 'ing', 'r', 'd', 'es', 'l', 'a', 'tion', 'k', 'ion', 'on', 'o', 'ation']\n",
      "Mean: 0.048668958518\tMedian: 0.0\n"
     ]
    }
   ],
   "source": [
    "import os\n",
    "df['prefix'] = df.apply(lambda r: os.path.commonprefix([r.word, r.association]), axis=1)\n",
    "df['pl']= (df['prefix'].apply(lambda x: len(x)))/(0.5*(df['len1']+df['len2']))\n",
    "df['suffix'] = df.apply(lambda r: os.path.commonprefix([r.word[::-1], r.association[::-1]]), axis=1)\n",
    "df['suffix'] = df['suffix'].apply(lambda x:x[::-1]) #re-reverse suffix\n",
    "df['sl']= (df['suffix'].apply(lambda x: len(x)))/(0.5*(df.len1+df.len2))\n",
    "\n",
    "print(df.prefix.value_counts().head(20).index.tolist())\n",
    "print(\"Mean: \"+str(df.pl.mean())+\"\\tMedian: \"+str(df.pl.median()))\n",
    "print(df.suffix.value_counts().head(20).index.tolist())\n",
    "print(\"Mean: \"+str(df.sl.mean())+\"\\tMedian: \"+str(df.sl.median()))"
   ]
  },
  {
   "cell_type": "markdown",
   "metadata": {},
   "source": [
    "## Semantic features\n",
    "### Word2Vec"
   ]
  },
  {
   "cell_type": "code",
   "execution_count": 67,
   "metadata": {},
   "outputs": [
    {
     "name": "stdout",
     "output_type": "stream",
     "text": [
      "Loaded word embeddings\n"
     ]
    }
   ],
   "source": [
    "from gensim.models.keyedvectors import KeyedVectors\n",
    "w2v_model = KeyedVectors.load_word2vec_format('../data/external/GoogleNews-vectors-negative300.bin', binary=True)\n",
    "print('Loaded word embeddings')"
   ]
  },
  {
   "cell_type": "code",
   "execution_count": 68,
   "metadata": {},
   "outputs": [
    {
     "name": "stdout",
     "output_type": "stream",
     "text": [
      "Mean: 0.819273899423\n"
     ]
    },
    {
     "data": {
      "text/plain": [
       "'\\nThis is something for when I\\'m really bored or something <3\\n\\ndf[\\'isUpper1\\'] = False\\ndf[\\'isUpper2\\'] = False\\ndf.ix[~df.inw2v1, \\'isUpper1\\'] = df.ix[~df.inw2v1].apply(lambda r:((r.word.upper() in w2v_model.vocab)), axis=1) \\ndf.ix[~df.inw2v2, \\'isUpper2\\'] = df.ix[~df.inw2v2].apply(lambda r:((r.association.upper() in w2v_model.vocab)), axis=1) \\ndf[\\'inw2v\\'] = df.apply(lambda r:(((r.inw2v1 | r.isUpper1) & (r.inw2v2 | r.isUpper2))), axis=1)\\nprint(\"Mean: \"+str(df.inw2v.mean()))\\n\\ndf.ix[~df.inw2v1, \\'inw2v1\\'] = df.ix[~df.inw2v1].apply(lambda r:((r.word.title() in w2v_model.vocab)), axis=1) \\ndf.ix[~df.inw2v2, \\'inw2v2\\'] = df.ix[~df.inw2v2].apply(lambda r:((r.association.title() in w2v_model.vocab)), axis=1) \\ndf[\\'inw2v\\'] = df.apply(lambda r:(r.inw2v1 & r.inw2v2), axis=1)\\nprint(\"Mean: \"+str(df.inw2v.mean()))\\n\\n'"
      ]
     },
     "execution_count": 68,
     "metadata": {},
     "output_type": "execute_result"
    }
   ],
   "source": [
    "df['inw2v1'] = df['word'].apply(lambda x:(x in w2v_model.vocab))\n",
    "df['inw2v2'] = df['association'].apply(lambda x:(x in w2v_model.vocab)) \n",
    "df['inw2v'] = df.apply(lambda r:(r.inw2v1 & r.inw2v2), axis=1)\n",
    "print(\"Mean: \"+str(df.inw2v.mean()))\n",
    "\n",
    "'''\n",
    "This is something for when I'm really bored or something <3\n",
    "\n",
    "df['isUpper1'] = False\n",
    "df['isUpper2'] = False\n",
    "df.ix[~df.inw2v1, 'isUpper1'] = df.ix[~df.inw2v1].apply(lambda r:((r.word.upper() in w2v_model.vocab)), axis=1) \n",
    "df.ix[~df.inw2v2, 'isUpper2'] = df.ix[~df.inw2v2].apply(lambda r:((r.association.upper() in w2v_model.vocab)), axis=1) \n",
    "df['inw2v'] = df.apply(lambda r:(((r.inw2v1 | r.isUpper1) & (r.inw2v2 | r.isUpper2))), axis=1)\n",
    "print(\"Mean: \"+str(df.inw2v.mean()))\n",
    "\n",
    "df.ix[~df.inw2v1, 'inw2v1'] = df.ix[~df.inw2v1].apply(lambda r:((r.word.title() in w2v_model.vocab)), axis=1) \n",
    "df.ix[~df.inw2v2, 'inw2v2'] = df.ix[~df.inw2v2].apply(lambda r:((r.association.title() in w2v_model.vocab)), axis=1) \n",
    "df['inw2v'] = df.apply(lambda r:(r.inw2v1 & r.inw2v2), axis=1)\n",
    "print(\"Mean: \"+str(df.inw2v.mean()))\n",
    "\n",
    "'''"
   ]
  },
  {
   "cell_type": "code",
   "execution_count": 69,
   "metadata": {},
   "outputs": [
    {
     "data": {
      "text/html": [
       "<div>\n",
       "<table border=\"1\" class=\"dataframe\">\n",
       "  <thead>\n",
       "    <tr style=\"text-align: right;\">\n",
       "      <th></th>\n",
       "      <th>user</th>\n",
       "      <th>forum</th>\n",
       "      <th>word</th>\n",
       "      <th>association</th>\n",
       "      <th>forumID</th>\n",
       "      <th>tf</th>\n",
       "      <th>pair</th>\n",
       "      <th>pf</th>\n",
       "      <th>len1</th>\n",
       "      <th>len2</th>\n",
       "      <th>ldiff</th>\n",
       "      <th>levenshtein</th>\n",
       "      <th>prefix</th>\n",
       "      <th>pl</th>\n",
       "      <th>suffix</th>\n",
       "      <th>sl</th>\n",
       "      <th>inw2v1</th>\n",
       "      <th>inw2v2</th>\n",
       "      <th>inw2v</th>\n",
       "    </tr>\n",
       "  </thead>\n",
       "  <tbody>\n",
       "    <tr>\n",
       "      <th>8</th>\n",
       "      <td>Animeguy</td>\n",
       "      <td>ECF</td>\n",
       "      <td>claim</td>\n",
       "      <td>e-cigarettes</td>\n",
       "      <td>3</td>\n",
       "      <td>0.000303</td>\n",
       "      <td>claim:e-cigarettes</td>\n",
       "      <td>0.000303</td>\n",
       "      <td>5</td>\n",
       "      <td>12</td>\n",
       "      <td>-7</td>\n",
       "      <td>10</td>\n",
       "      <td></td>\n",
       "      <td>0.000000</td>\n",
       "      <td></td>\n",
       "      <td>0.000000</td>\n",
       "      <td>True</td>\n",
       "      <td>False</td>\n",
       "      <td>False</td>\n",
       "    </tr>\n",
       "    <tr>\n",
       "      <th>10</th>\n",
       "      <td>TwisterBE</td>\n",
       "      <td>GOG</td>\n",
       "      <td>a</td>\n",
       "      <td>robot</td>\n",
       "      <td>4</td>\n",
       "      <td>0.018765</td>\n",
       "      <td>a:robot</td>\n",
       "      <td>0.000303</td>\n",
       "      <td>1</td>\n",
       "      <td>5</td>\n",
       "      <td>-4</td>\n",
       "      <td>5</td>\n",
       "      <td></td>\n",
       "      <td>0.000000</td>\n",
       "      <td></td>\n",
       "      <td>0.000000</td>\n",
       "      <td>False</td>\n",
       "      <td>True</td>\n",
       "      <td>False</td>\n",
       "    </tr>\n",
       "    <tr>\n",
       "      <th>11</th>\n",
       "      <td>Golden Wheat</td>\n",
       "      <td>SAS</td>\n",
       "      <td>missing</td>\n",
       "      <td>spark-plug</td>\n",
       "      <td>6</td>\n",
       "      <td>0.000303</td>\n",
       "      <td>missing:spark-plug</td>\n",
       "      <td>0.000303</td>\n",
       "      <td>7</td>\n",
       "      <td>10</td>\n",
       "      <td>-3</td>\n",
       "      <td>9</td>\n",
       "      <td></td>\n",
       "      <td>0.000000</td>\n",
       "      <td>g</td>\n",
       "      <td>0.117647</td>\n",
       "      <td>True</td>\n",
       "      <td>False</td>\n",
       "      <td>False</td>\n",
       "    </tr>\n",
       "    <tr>\n",
       "      <th>13</th>\n",
       "      <td>Judge</td>\n",
       "      <td>AC</td>\n",
       "      <td>role-play</td>\n",
       "      <td>d&amp;d</td>\n",
       "      <td>0</td>\n",
       "      <td>0.000605</td>\n",
       "      <td>role-play:d&amp;d</td>\n",
       "      <td>0.000303</td>\n",
       "      <td>9</td>\n",
       "      <td>3</td>\n",
       "      <td>6</td>\n",
       "      <td>9</td>\n",
       "      <td></td>\n",
       "      <td>0.000000</td>\n",
       "      <td></td>\n",
       "      <td>0.000000</td>\n",
       "      <td>False</td>\n",
       "      <td>False</td>\n",
       "      <td>False</td>\n",
       "    </tr>\n",
       "    <tr>\n",
       "      <th>20</th>\n",
       "      <td>cruachan</td>\n",
       "      <td>WP</td>\n",
       "      <td>bionic woman</td>\n",
       "      <td>styx</td>\n",
       "      <td>9</td>\n",
       "      <td>0.001816</td>\n",
       "      <td>bionic woman:styx</td>\n",
       "      <td>0.000303</td>\n",
       "      <td>12</td>\n",
       "      <td>4</td>\n",
       "      <td>8</td>\n",
       "      <td>12</td>\n",
       "      <td></td>\n",
       "      <td>0.000000</td>\n",
       "      <td></td>\n",
       "      <td>0.000000</td>\n",
       "      <td>False</td>\n",
       "      <td>False</td>\n",
       "      <td>False</td>\n",
       "    </tr>\n",
       "    <tr>\n",
       "      <th>23</th>\n",
       "      <td>StrongGirl</td>\n",
       "      <td>U2</td>\n",
       "      <td>warm</td>\n",
       "      <td>the tropics</td>\n",
       "      <td>8</td>\n",
       "      <td>0.000303</td>\n",
       "      <td>warm:the tropics</td>\n",
       "      <td>0.000303</td>\n",
       "      <td>4</td>\n",
       "      <td>11</td>\n",
       "      <td>-7</td>\n",
       "      <td>10</td>\n",
       "      <td></td>\n",
       "      <td>0.000000</td>\n",
       "      <td></td>\n",
       "      <td>0.000000</td>\n",
       "      <td>True</td>\n",
       "      <td>False</td>\n",
       "      <td>False</td>\n",
       "    </tr>\n",
       "    <tr>\n",
       "      <th>27</th>\n",
       "      <td>Noca</td>\n",
       "      <td>SAS</td>\n",
       "      <td>jacket</td>\n",
       "      <td>full metal</td>\n",
       "      <td>6</td>\n",
       "      <td>0.000303</td>\n",
       "      <td>jacket:full metal</td>\n",
       "      <td>0.000303</td>\n",
       "      <td>6</td>\n",
       "      <td>10</td>\n",
       "      <td>-4</td>\n",
       "      <td>8</td>\n",
       "      <td></td>\n",
       "      <td>0.000000</td>\n",
       "      <td></td>\n",
       "      <td>0.000000</td>\n",
       "      <td>True</td>\n",
       "      <td>False</td>\n",
       "      <td>False</td>\n",
       "    </tr>\n",
       "    <tr>\n",
       "      <th>30</th>\n",
       "      <td>le_chevalier</td>\n",
       "      <td>GOG</td>\n",
       "      <td>ace</td>\n",
       "      <td>spadille</td>\n",
       "      <td>4</td>\n",
       "      <td>0.000303</td>\n",
       "      <td>ace:spadille</td>\n",
       "      <td>0.000303</td>\n",
       "      <td>3</td>\n",
       "      <td>8</td>\n",
       "      <td>-5</td>\n",
       "      <td>6</td>\n",
       "      <td></td>\n",
       "      <td>0.000000</td>\n",
       "      <td>e</td>\n",
       "      <td>0.181818</td>\n",
       "      <td>True</td>\n",
       "      <td>False</td>\n",
       "      <td>False</td>\n",
       "    </tr>\n",
       "    <tr>\n",
       "      <th>31</th>\n",
       "      <td>DarrylZero</td>\n",
       "      <td>WP</td>\n",
       "      <td>superhero</td>\n",
       "      <td>nemesises</td>\n",
       "      <td>9</td>\n",
       "      <td>0.000303</td>\n",
       "      <td>superhero:nemesises</td>\n",
       "      <td>0.000303</td>\n",
       "      <td>9</td>\n",
       "      <td>9</td>\n",
       "      <td>0</td>\n",
       "      <td>8</td>\n",
       "      <td></td>\n",
       "      <td>0.000000</td>\n",
       "      <td></td>\n",
       "      <td>0.000000</td>\n",
       "      <td>True</td>\n",
       "      <td>False</td>\n",
       "      <td>False</td>\n",
       "    </tr>\n",
       "    <tr>\n",
       "      <th>32</th>\n",
       "      <td>TheAP</td>\n",
       "      <td>WP</td>\n",
       "      <td>leave it to beaver</td>\n",
       "      <td>movie</td>\n",
       "      <td>9</td>\n",
       "      <td>0.103210</td>\n",
       "      <td>leave it to beaver:movie</td>\n",
       "      <td>0.000303</td>\n",
       "      <td>18</td>\n",
       "      <td>5</td>\n",
       "      <td>13</td>\n",
       "      <td>15</td>\n",
       "      <td></td>\n",
       "      <td>0.000000</td>\n",
       "      <td></td>\n",
       "      <td>0.000000</td>\n",
       "      <td>False</td>\n",
       "      <td>True</td>\n",
       "      <td>False</td>\n",
       "    </tr>\n",
       "    <tr>\n",
       "      <th>35</th>\n",
       "      <td>StrongGirl</td>\n",
       "      <td>U2</td>\n",
       "      <td>golden slumbers fill your eyes</td>\n",
       "      <td>goldeneye</td>\n",
       "      <td>8</td>\n",
       "      <td>0.000303</td>\n",
       "      <td>golden slumbers fill your eyes:goldeneye</td>\n",
       "      <td>0.000303</td>\n",
       "      <td>30</td>\n",
       "      <td>9</td>\n",
       "      <td>21</td>\n",
       "      <td>21</td>\n",
       "      <td>golden</td>\n",
       "      <td>0.307692</td>\n",
       "      <td></td>\n",
       "      <td>0.000000</td>\n",
       "      <td>False</td>\n",
       "      <td>True</td>\n",
       "      <td>False</td>\n",
       "    </tr>\n",
       "    <tr>\n",
       "      <th>40</th>\n",
       "      <td>Joe90usa</td>\n",
       "      <td>U2</td>\n",
       "      <td>captain von trapp</td>\n",
       "      <td>trapper john</td>\n",
       "      <td>8</td>\n",
       "      <td>0.000303</td>\n",
       "      <td>captain von trapp:trapper john</td>\n",
       "      <td>0.000303</td>\n",
       "      <td>17</td>\n",
       "      <td>12</td>\n",
       "      <td>5</td>\n",
       "      <td>14</td>\n",
       "      <td></td>\n",
       "      <td>0.000000</td>\n",
       "      <td></td>\n",
       "      <td>0.000000</td>\n",
       "      <td>False</td>\n",
       "      <td>False</td>\n",
       "      <td>False</td>\n",
       "    </tr>\n",
       "    <tr>\n",
       "      <th>41</th>\n",
       "      <td>JDelekto</td>\n",
       "      <td>GOG</td>\n",
       "      <td>disarray</td>\n",
       "      <td>arrayal</td>\n",
       "      <td>4</td>\n",
       "      <td>0.000303</td>\n",
       "      <td>disarray:arrayal</td>\n",
       "      <td>0.000303</td>\n",
       "      <td>8</td>\n",
       "      <td>7</td>\n",
       "      <td>1</td>\n",
       "      <td>5</td>\n",
       "      <td></td>\n",
       "      <td>0.000000</td>\n",
       "      <td></td>\n",
       "      <td>0.000000</td>\n",
       "      <td>True</td>\n",
       "      <td>False</td>\n",
       "      <td>False</td>\n",
       "    </tr>\n",
       "    <tr>\n",
       "      <th>43</th>\n",
       "      <td>Judge</td>\n",
       "      <td>AC</td>\n",
       "      <td>scam</td>\n",
       "      <td>caller id</td>\n",
       "      <td>0</td>\n",
       "      <td>0.000303</td>\n",
       "      <td>scam:caller id</td>\n",
       "      <td>0.000303</td>\n",
       "      <td>4</td>\n",
       "      <td>9</td>\n",
       "      <td>-5</td>\n",
       "      <td>8</td>\n",
       "      <td></td>\n",
       "      <td>0.000000</td>\n",
       "      <td></td>\n",
       "      <td>0.000000</td>\n",
       "      <td>True</td>\n",
       "      <td>False</td>\n",
       "      <td>False</td>\n",
       "    </tr>\n",
       "    <tr>\n",
       "      <th>48</th>\n",
       "      <td>dorkynorky</td>\n",
       "      <td>WP</td>\n",
       "      <td>south america</td>\n",
       "      <td>amazon</td>\n",
       "      <td>9</td>\n",
       "      <td>0.006961</td>\n",
       "      <td>south america:amazon</td>\n",
       "      <td>0.000605</td>\n",
       "      <td>13</td>\n",
       "      <td>6</td>\n",
       "      <td>7</td>\n",
       "      <td>11</td>\n",
       "      <td></td>\n",
       "      <td>0.000000</td>\n",
       "      <td></td>\n",
       "      <td>0.000000</td>\n",
       "      <td>False</td>\n",
       "      <td>True</td>\n",
       "      <td>False</td>\n",
       "    </tr>\n",
       "    <tr>\n",
       "      <th>51</th>\n",
       "      <td>MyDogsThoughts</td>\n",
       "      <td>TF</td>\n",
       "      <td>olivers army</td>\n",
       "      <td>adrenoleukodystrophy</td>\n",
       "      <td>7</td>\n",
       "      <td>0.000303</td>\n",
       "      <td>olivers army:adrenoleukodystrophy</td>\n",
       "      <td>0.000303</td>\n",
       "      <td>12</td>\n",
       "      <td>20</td>\n",
       "      <td>-8</td>\n",
       "      <td>16</td>\n",
       "      <td></td>\n",
       "      <td>0.000000</td>\n",
       "      <td>y</td>\n",
       "      <td>0.062500</td>\n",
       "      <td>False</td>\n",
       "      <td>True</td>\n",
       "      <td>False</td>\n",
       "    </tr>\n",
       "    <tr>\n",
       "      <th>55</th>\n",
       "      <td>jennyishere</td>\n",
       "      <td>WP</td>\n",
       "      <td>data</td>\n",
       "      <td>star trek</td>\n",
       "      <td>9</td>\n",
       "      <td>0.007264</td>\n",
       "      <td>data:star trek</td>\n",
       "      <td>0.000605</td>\n",
       "      <td>4</td>\n",
       "      <td>9</td>\n",
       "      <td>-5</td>\n",
       "      <td>7</td>\n",
       "      <td></td>\n",
       "      <td>0.000000</td>\n",
       "      <td></td>\n",
       "      <td>0.000000</td>\n",
       "      <td>True</td>\n",
       "      <td>False</td>\n",
       "      <td>False</td>\n",
       "    </tr>\n",
       "    <tr>\n",
       "      <th>59</th>\n",
       "      <td>richie</td>\n",
       "      <td>WP</td>\n",
       "      <td>the world</td>\n",
       "      <td>cosmos</td>\n",
       "      <td>9</td>\n",
       "      <td>0.005751</td>\n",
       "      <td>the world:cosmos</td>\n",
       "      <td>0.000303</td>\n",
       "      <td>9</td>\n",
       "      <td>6</td>\n",
       "      <td>3</td>\n",
       "      <td>8</td>\n",
       "      <td></td>\n",
       "      <td>0.000000</td>\n",
       "      <td></td>\n",
       "      <td>0.000000</td>\n",
       "      <td>False</td>\n",
       "      <td>True</td>\n",
       "      <td>False</td>\n",
       "    </tr>\n",
       "    <tr>\n",
       "      <th>61</th>\n",
       "      <td>A_Fly_On_The_Wall</td>\n",
       "      <td>U2</td>\n",
       "      <td>christiano ronaldo</td>\n",
       "      <td>portugal</td>\n",
       "      <td>8</td>\n",
       "      <td>0.001211</td>\n",
       "      <td>christiano ronaldo:portugal</td>\n",
       "      <td>0.000303</td>\n",
       "      <td>18</td>\n",
       "      <td>8</td>\n",
       "      <td>10</td>\n",
       "      <td>14</td>\n",
       "      <td></td>\n",
       "      <td>0.000000</td>\n",
       "      <td></td>\n",
       "      <td>0.000000</td>\n",
       "      <td>False</td>\n",
       "      <td>True</td>\n",
       "      <td>False</td>\n",
       "    </tr>\n",
       "    <tr>\n",
       "      <th>66</th>\n",
       "      <td>Ballistic_Peanut</td>\n",
       "      <td>GOG</td>\n",
       "      <td>soylent</td>\n",
       "      <td>people</td>\n",
       "      <td>4</td>\n",
       "      <td>0.056599</td>\n",
       "      <td>soylent:people</td>\n",
       "      <td>0.000303</td>\n",
       "      <td>7</td>\n",
       "      <td>6</td>\n",
       "      <td>1</td>\n",
       "      <td>5</td>\n",
       "      <td></td>\n",
       "      <td>0.000000</td>\n",
       "      <td></td>\n",
       "      <td>0.000000</td>\n",
       "      <td>False</td>\n",
       "      <td>True</td>\n",
       "      <td>False</td>\n",
       "    </tr>\n",
       "  </tbody>\n",
       "</table>\n",
       "</div>"
      ],
      "text/plain": [
       "                 user forum                            word  \\\n",
       "8            Animeguy   ECF                           claim   \n",
       "10          TwisterBE   GOG                               a   \n",
       "11       Golden Wheat   SAS                         missing   \n",
       "13              Judge    AC                       role-play   \n",
       "20           cruachan    WP                    bionic woman   \n",
       "23         StrongGirl    U2                            warm   \n",
       "27               Noca   SAS                          jacket   \n",
       "30       le_chevalier   GOG                             ace   \n",
       "31         DarrylZero    WP                       superhero   \n",
       "32              TheAP    WP              leave it to beaver   \n",
       "35         StrongGirl    U2  golden slumbers fill your eyes   \n",
       "40           Joe90usa    U2               captain von trapp   \n",
       "41           JDelekto   GOG                        disarray   \n",
       "43              Judge    AC                            scam   \n",
       "48         dorkynorky    WP                   south america   \n",
       "51     MyDogsThoughts    TF                    olivers army   \n",
       "55        jennyishere    WP                            data   \n",
       "59             richie    WP                       the world   \n",
       "61  A_Fly_On_The_Wall    U2              christiano ronaldo   \n",
       "66   Ballistic_Peanut   GOG                         soylent   \n",
       "\n",
       "             association  forumID        tf  \\\n",
       "8           e-cigarettes        3  0.000303   \n",
       "10                 robot        4  0.018765   \n",
       "11            spark-plug        6  0.000303   \n",
       "13                   d&d        0  0.000605   \n",
       "20                  styx        9  0.001816   \n",
       "23           the tropics        8  0.000303   \n",
       "27            full metal        6  0.000303   \n",
       "30              spadille        4  0.000303   \n",
       "31             nemesises        9  0.000303   \n",
       "32                 movie        9  0.103210   \n",
       "35             goldeneye        8  0.000303   \n",
       "40          trapper john        8  0.000303   \n",
       "41               arrayal        4  0.000303   \n",
       "43             caller id        0  0.000303   \n",
       "48                amazon        9  0.006961   \n",
       "51  adrenoleukodystrophy        7  0.000303   \n",
       "55             star trek        9  0.007264   \n",
       "59                cosmos        9  0.005751   \n",
       "61              portugal        8  0.001211   \n",
       "66                people        4  0.056599   \n",
       "\n",
       "                                        pair        pf  len1  len2  ldiff  \\\n",
       "8                         claim:e-cigarettes  0.000303     5    12     -7   \n",
       "10                                   a:robot  0.000303     1     5     -4   \n",
       "11                        missing:spark-plug  0.000303     7    10     -3   \n",
       "13                             role-play:d&d  0.000303     9     3      6   \n",
       "20                         bionic woman:styx  0.000303    12     4      8   \n",
       "23                          warm:the tropics  0.000303     4    11     -7   \n",
       "27                         jacket:full metal  0.000303     6    10     -4   \n",
       "30                              ace:spadille  0.000303     3     8     -5   \n",
       "31                       superhero:nemesises  0.000303     9     9      0   \n",
       "32                  leave it to beaver:movie  0.000303    18     5     13   \n",
       "35  golden slumbers fill your eyes:goldeneye  0.000303    30     9     21   \n",
       "40            captain von trapp:trapper john  0.000303    17    12      5   \n",
       "41                          disarray:arrayal  0.000303     8     7      1   \n",
       "43                            scam:caller id  0.000303     4     9     -5   \n",
       "48                      south america:amazon  0.000605    13     6      7   \n",
       "51         olivers army:adrenoleukodystrophy  0.000303    12    20     -8   \n",
       "55                            data:star trek  0.000605     4     9     -5   \n",
       "59                          the world:cosmos  0.000303     9     6      3   \n",
       "61               christiano ronaldo:portugal  0.000303    18     8     10   \n",
       "66                            soylent:people  0.000303     7     6      1   \n",
       "\n",
       "    levenshtein  prefix        pl suffix        sl inw2v1 inw2v2  inw2v  \n",
       "8            10          0.000000         0.000000   True  False  False  \n",
       "10            5          0.000000         0.000000  False   True  False  \n",
       "11            9          0.000000      g  0.117647   True  False  False  \n",
       "13            9          0.000000         0.000000  False  False  False  \n",
       "20           12          0.000000         0.000000  False  False  False  \n",
       "23           10          0.000000         0.000000   True  False  False  \n",
       "27            8          0.000000         0.000000   True  False  False  \n",
       "30            6          0.000000      e  0.181818   True  False  False  \n",
       "31            8          0.000000         0.000000   True  False  False  \n",
       "32           15          0.000000         0.000000  False   True  False  \n",
       "35           21  golden  0.307692         0.000000  False   True  False  \n",
       "40           14          0.000000         0.000000  False  False  False  \n",
       "41            5          0.000000         0.000000   True  False  False  \n",
       "43            8          0.000000         0.000000   True  False  False  \n",
       "48           11          0.000000         0.000000  False   True  False  \n",
       "51           16          0.000000      y  0.062500  False   True  False  \n",
       "55            7          0.000000         0.000000   True  False  False  \n",
       "59            8          0.000000         0.000000  False   True  False  \n",
       "61           14          0.000000         0.000000  False   True  False  \n",
       "66            5          0.000000         0.000000  False   True  False  "
      ]
     },
     "execution_count": 69,
     "metadata": {},
     "output_type": "execute_result"
    }
   ],
   "source": [
    "df[~df['inw2v']].head(20)"
   ]
  },
  {
   "cell_type": "code",
   "execution_count": 70,
   "metadata": {},
   "outputs": [
    {
     "name": "stdout",
     "output_type": "stream",
     "text": [
      "Mean: 0.220326584801\tMedian: 0.18991696406622194\n",
      "['clock:work', 'singer:microphone', 'rattle:snake', 'woman:devil', 'bar:ban']\n"
     ]
    }
   ],
   "source": [
    "df['sim'] = 0\n",
    "df.ix[df.inw2v, 'sim'] = df.ix[df.inw2v].apply(lambda r:w2v_model.similarity(r.word, r.association), axis=1)\n",
    "print(\"Mean: \"+str(df.sim.mean())+\"\\tMedian: \"+str(df.sim.median()))\n",
    "print(df[(df.sim<0.18)&(df.sim>0.17)].pair.head().tolist())"
   ]
  },
  {
   "cell_type": "code",
   "execution_count": 71,
   "metadata": {},
   "outputs": [
    {
     "name": "stdout",
     "output_type": "stream",
     "text": [
      "Mean: 0.0415896124336\tMedian: 0.0\n"
     ]
    }
   ],
   "source": [
    "# Relationships...\n",
    "df['rel1'] = df.apply(lambda r:(str(r.word + \"_\" + r.association) in w2v_model.vocab), axis=1)\n",
    "print(\"Mean: \"+str(df.rel1.mean())+\"\\tMedian: \"+str(df.rel1.median()))"
   ]
  },
  {
   "cell_type": "code",
   "execution_count": 72,
   "metadata": {},
   "outputs": [
    {
     "name": "stdout",
     "output_type": "stream",
     "text": [
      "Mean: 0.0388988937484\tMedian: 0.0\n"
     ]
    }
   ],
   "source": [
    "df['rel2'] = df.apply(lambda r:(str(r.word + r.association) in w2v_model.vocab), axis=1) #compound\n",
    "print(\"Mean: \"+str(df.rel2.mean())+\"\\tMedian: \"+str(df.rel2.median()))"
   ]
  },
  {
   "cell_type": "code",
   "execution_count": 73,
   "metadata": {},
   "outputs": [
    {
     "name": "stdout",
     "output_type": "stream",
     "text": [
      "Mean: 0.0283963135035\n"
     ]
    }
   ],
   "source": [
    "df['rel3'] = df.apply(lambda r:(str(r.association + \"_\" + r.word) in w2v_model.vocab), axis=1)\n",
    "print(\"Mean: \"+str(df.rel3.mean()))"
   ]
  },
  {
   "cell_type": "code",
   "execution_count": 74,
   "metadata": {},
   "outputs": [
    {
     "name": "stdout",
     "output_type": "stream",
     "text": [
      "Mean: 0.018940964603\n"
     ]
    }
   ],
   "source": [
    "df['rel4'] = df.apply(lambda r:(str(r.association + r.word) in w2v_model.vocab), axis=1)\n",
    "print(\"Mean: \"+str(df.rel4.mean()))"
   ]
  },
  {
   "cell_type": "code",
   "execution_count": 75,
   "metadata": {},
   "outputs": [
    {
     "name": "stdout",
     "output_type": "stream",
     "text": [
      "['palm:tree', 'fishing:boat', 'rattle:snake', 'snow:melt', 'burger:fries', 'city:slickers', 'hymn:sheet', 'scuba:gear', 'mop:broom', 'sour:grapes']\n"
     ]
    }
   ],
   "source": [
    "print(df[df.rel1].pair.head(10).tolist())"
   ]
  },
  {
   "cell_type": "code",
   "execution_count": 76,
   "metadata": {
    "collapsed": true
   },
   "outputs": [],
   "source": [
    "#df['wv1'] = df['word'].apply(lambda x: np.zeros(300)) \n",
    "#df['wv2'] = df['word'].apply(lambda x: np.zeros(300)) \n",
    "\n",
    "#df.ix[df.inw2v, 'wv1'] = df.ix[df.inw2v, 'word'].apply(lambda x: w2v_model.word_vec(x)) \n",
    "#df.ix[df.inw2v, 'wv2'] = df.ix[df.inw2v, 'association'].apply(lambda x: w2v_model.word_vec(x)) "
   ]
  },
  {
   "cell_type": "code",
   "execution_count": 77,
   "metadata": {
    "collapsed": true
   },
   "outputs": [],
   "source": [
    "w2v_model = None # in the future use garbage collection! \n",
    "# now memory can be reclamed if needed, does not free memory instantly"
   ]
  },
  {
   "cell_type": "markdown",
   "metadata": {},
   "source": [
    "### NLTK"
   ]
  },
  {
   "cell_type": "code",
   "execution_count": 78,
   "metadata": {
    "collapsed": true
   },
   "outputs": [],
   "source": [
    "from itertools import chain\n",
    "from nltk.corpus import wordnet"
   ]
  },
  {
   "cell_type": "code",
   "execution_count": 79,
   "metadata": {},
   "outputs": [
    {
     "name": "stdout",
     "output_type": "stream",
     "text": [
      "Mean: 0.0386567593335\n"
     ]
    }
   ],
   "source": [
    "def isSynonym(r):\n",
    "    synonyms = wordnet.synsets(r.word)\n",
    "    lemmas = set(chain.from_iterable([w.lemma_names() for w in synonyms]))\n",
    "    return (r.association in lemmas)\n",
    "\n",
    "df['synonym'] = df.apply(isSynonym, axis=1)\n",
    "print(\"Mean: \" + str(df.synonym.mean()))"
   ]
  },
  {
   "cell_type": "code",
   "execution_count": 80,
   "metadata": {},
   "outputs": [
    {
     "name": "stdout",
     "output_type": "stream",
     "text": [
      "330269      hit:strike\n",
      "330315    scorch:singe\n",
      "330346     buck:dollar\n",
      "330356       call:name\n",
      "330357    allow:permit\n",
      "Name: pair, dtype: object\n"
     ]
    }
   ],
   "source": [
    "print(df[df['synonym']].pair.tail())"
   ]
  },
  {
   "cell_type": "code",
   "execution_count": 81,
   "metadata": {},
   "outputs": [
    {
     "name": "stdout",
     "output_type": "stream",
     "text": [
      "0.0088046126606\n"
     ]
    }
   ],
   "source": [
    "def isAntonym(r):\n",
    "    h = []\n",
    "    for syn in wordnet.synsets(r.word):\n",
    "        for l in syn.lemmas():\n",
    "            if l.antonyms():\n",
    "                h.append(l.antonyms()[0].name().split('.')[0]) # how !?! \n",
    "    return (r.association in h)\n",
    "\n",
    "df['antonym'] = df.apply(isAntonym, axis=1)\n",
    "print(df.antonym.mean())    "
   ]
  },
  {
   "cell_type": "code",
   "execution_count": 82,
   "metadata": {},
   "outputs": [
    {
     "data": {
      "text/plain": [
       "329848    inside:outside\n",
       "330001           up:down\n",
       "330037        lost:found\n",
       "330142     end:beginning\n",
       "330161           down:up\n",
       "Name: pair, dtype: object"
      ]
     },
     "execution_count": 82,
     "metadata": {},
     "output_type": "execute_result"
    }
   ],
   "source": [
    "df[df['antonym']].pair.tail()"
   ]
  },
  {
   "cell_type": "code",
   "execution_count": 83,
   "metadata": {},
   "outputs": [
    {
     "data": {
      "text/plain": [
       "2909"
      ]
     },
     "execution_count": 83,
     "metadata": {},
     "output_type": "execute_result"
    }
   ],
   "source": [
    "len(df[df['antonym']])"
   ]
  },
  {
   "cell_type": "code",
   "execution_count": 84,
   "metadata": {},
   "outputs": [
    {
     "name": "stdout",
     "output_type": "stream",
     "text": [
      "0.0213290152696\n"
     ]
    }
   ],
   "source": [
    "def isHypernym(r):\n",
    "    h = []\n",
    "    for syn in wordnet.synsets(r.word):\n",
    "        if syn.hypernyms():\n",
    "#            print(syn.hypernyms()[0].name().split('.')[0])\n",
    "            h.append(syn.hypernyms()[0].name().split('.')[0]) # how !?! \n",
    "    return (r.association in h)\n",
    "\n",
    "df['hypernym'] = df.apply(isHypernym, axis=1)\n",
    "print(df.hypernym.mean())      "
   ]
  },
  {
   "cell_type": "code",
   "execution_count": 85,
   "metadata": {},
   "outputs": [
    {
     "name": "stdout",
     "output_type": "stream",
     "text": [
      "0.00450672679671\n"
     ]
    }
   ],
   "source": [
    "def isHyponym(r):\n",
    "    h = []\n",
    "    for syn in wordnet.synsets(r.word):\n",
    "        if syn.hyponyms():\n",
    "            h.append(syn.hyponyms()[0].name().split('.')[0]) # how !?! \n",
    "    return (r.association in h)\n",
    "\n",
    "df['hyponym'] = df.apply(isHyponym, axis=1)\n",
    "print(df.hyponym.mean())      "
   ]
  },
  {
   "cell_type": "code",
   "execution_count": 86,
   "metadata": {},
   "outputs": [
    {
     "name": "stdout",
     "output_type": "stream",
     "text": [
      "0                 palm:tree\n",
      "16              stream:flow\n",
      "85             bandit:thief\n",
      "313    solitary:confinement\n",
      "403       cyrillic:alphabet\n",
      "Name: pair, dtype: object\n",
      "277        loner:hermit\n",
      "289       cover:blanket\n",
      "1291       love:romance\n",
      "1305       vision:dream\n",
      "1313    dream:nightmare\n",
      "Name: pair, dtype: object\n",
      "12772\n"
     ]
    }
   ],
   "source": [
    "print(df[df['hypernym']].pair.head())\n",
    "print(df[df['hyponym']].pair.head())\n",
    "\n",
    "print(len(df[df['synonym']]))"
   ]
  },
  {
   "cell_type": "code",
   "execution_count": 87,
   "metadata": {},
   "outputs": [
    {
     "data": {
      "text/html": [
       "<div>\n",
       "<table border=\"1\" class=\"dataframe\">\n",
       "  <thead>\n",
       "    <tr style=\"text-align: right;\">\n",
       "      <th></th>\n",
       "      <th>user</th>\n",
       "      <th>forum</th>\n",
       "      <th>word</th>\n",
       "      <th>association</th>\n",
       "      <th>forumID</th>\n",
       "      <th>tf</th>\n",
       "      <th>pair</th>\n",
       "      <th>pf</th>\n",
       "      <th>len1</th>\n",
       "      <th>len2</th>\n",
       "      <th>...</th>\n",
       "      <th>rel1</th>\n",
       "      <th>rel2</th>\n",
       "      <th>rel3</th>\n",
       "      <th>rel4</th>\n",
       "      <th>wv1</th>\n",
       "      <th>wv2</th>\n",
       "      <th>synonym</th>\n",
       "      <th>antonym</th>\n",
       "      <th>hypernym</th>\n",
       "      <th>hyponym</th>\n",
       "    </tr>\n",
       "  </thead>\n",
       "  <tbody>\n",
       "    <tr>\n",
       "      <th>0</th>\n",
       "      <td>Hickory</td>\n",
       "      <td>GOG</td>\n",
       "      <td>palm</td>\n",
       "      <td>tree</td>\n",
       "      <td>4</td>\n",
       "      <td>0.102604</td>\n",
       "      <td>palm:tree</td>\n",
       "      <td>0.002724</td>\n",
       "      <td>4</td>\n",
       "      <td>4</td>\n",
       "      <td>...</td>\n",
       "      <td>True</td>\n",
       "      <td>False</td>\n",
       "      <td>False</td>\n",
       "      <td>False</td>\n",
       "      <td>[0.00915527, -0.207031, -0.337891, 0.233398, -...</td>\n",
       "      <td>[0.484375, 0.122559, -0.157227, 0.034668, -0.2...</td>\n",
       "      <td>False</td>\n",
       "      <td>False</td>\n",
       "      <td>True</td>\n",
       "      <td>False</td>\n",
       "    </tr>\n",
       "    <tr>\n",
       "      <th>1</th>\n",
       "      <td>boopme</td>\n",
       "      <td>BC</td>\n",
       "      <td>elbows</td>\n",
       "      <td>fusilli</td>\n",
       "      <td>1</td>\n",
       "      <td>0.000605</td>\n",
       "      <td>elbows:fusilli</td>\n",
       "      <td>0.000303</td>\n",
       "      <td>6</td>\n",
       "      <td>7</td>\n",
       "      <td>...</td>\n",
       "      <td>False</td>\n",
       "      <td>False</td>\n",
       "      <td>False</td>\n",
       "      <td>False</td>\n",
       "      <td>[-0.168945, -0.244141, 0.00787354, 0.212891, -...</td>\n",
       "      <td>[-0.146484, -0.0449219, -0.00927734, 0.28125, ...</td>\n",
       "      <td>False</td>\n",
       "      <td>False</td>\n",
       "      <td>False</td>\n",
       "      <td>False</td>\n",
       "    </tr>\n",
       "    <tr>\n",
       "      <th>2</th>\n",
       "      <td>Smogg</td>\n",
       "      <td>GOG</td>\n",
       "      <td>paranormal</td>\n",
       "      <td>apparition</td>\n",
       "      <td>4</td>\n",
       "      <td>0.002421</td>\n",
       "      <td>paranormal:apparition</td>\n",
       "      <td>0.000303</td>\n",
       "      <td>10</td>\n",
       "      <td>10</td>\n",
       "      <td>...</td>\n",
       "      <td>False</td>\n",
       "      <td>False</td>\n",
       "      <td>False</td>\n",
       "      <td>False</td>\n",
       "      <td>[0.0825195, -0.060791, 0.0732422, 0.0189209, -...</td>\n",
       "      <td>[0.300781, 0.124023, -0.0549316, 0.115723, -0....</td>\n",
       "      <td>False</td>\n",
       "      <td>False</td>\n",
       "      <td>False</td>\n",
       "      <td>False</td>\n",
       "    </tr>\n",
       "    <tr>\n",
       "      <th>3</th>\n",
       "      <td>ruennsheng</td>\n",
       "      <td>WP</td>\n",
       "      <td>hominid</td>\n",
       "      <td>abstract</td>\n",
       "      <td>9</td>\n",
       "      <td>0.006659</td>\n",
       "      <td>hominid:abstract</td>\n",
       "      <td>0.000303</td>\n",
       "      <td>7</td>\n",
       "      <td>8</td>\n",
       "      <td>...</td>\n",
       "      <td>False</td>\n",
       "      <td>False</td>\n",
       "      <td>False</td>\n",
       "      <td>False</td>\n",
       "      <td>[0.15332, 0.0961914, -0.277344, 0.511719, -0.1...</td>\n",
       "      <td>[0.257812, -0.251953, 0.0441895, 0.285156, -0....</td>\n",
       "      <td>False</td>\n",
       "      <td>False</td>\n",
       "      <td>False</td>\n",
       "      <td>False</td>\n",
       "    </tr>\n",
       "    <tr>\n",
       "      <th>4</th>\n",
       "      <td>Jack Jackson</td>\n",
       "      <td>SAS</td>\n",
       "      <td>sweet</td>\n",
       "      <td>candy</td>\n",
       "      <td>6</td>\n",
       "      <td>0.055086</td>\n",
       "      <td>sweet:candy</td>\n",
       "      <td>0.004540</td>\n",
       "      <td>5</td>\n",
       "      <td>5</td>\n",
       "      <td>...</td>\n",
       "      <td>False</td>\n",
       "      <td>False</td>\n",
       "      <td>False</td>\n",
       "      <td>False</td>\n",
       "      <td>[0.0869141, 0.0300293, -0.0458984, 0.117676, 0...</td>\n",
       "      <td>[-0.0500488, -0.232422, -0.0308838, 0.472656, ...</td>\n",
       "      <td>False</td>\n",
       "      <td>False</td>\n",
       "      <td>False</td>\n",
       "      <td>False</td>\n",
       "    </tr>\n",
       "    <tr>\n",
       "      <th>5</th>\n",
       "      <td>zurb</td>\n",
       "      <td>AC</td>\n",
       "      <td>clock</td>\n",
       "      <td>work</td>\n",
       "      <td>0</td>\n",
       "      <td>0.061744</td>\n",
       "      <td>clock:work</td>\n",
       "      <td>0.003329</td>\n",
       "      <td>5</td>\n",
       "      <td>4</td>\n",
       "      <td>...</td>\n",
       "      <td>False</td>\n",
       "      <td>True</td>\n",
       "      <td>False</td>\n",
       "      <td>False</td>\n",
       "      <td>[-0.078125, 0.0517578, 0.316406, 0.0708008, -0...</td>\n",
       "      <td>[-0.0756836, 0.0336914, -0.0649414, 0.131836, ...</td>\n",
       "      <td>False</td>\n",
       "      <td>False</td>\n",
       "      <td>False</td>\n",
       "      <td>False</td>\n",
       "    </tr>\n",
       "    <tr>\n",
       "      <th>6</th>\n",
       "      <td>Colhad75</td>\n",
       "      <td>SAS</td>\n",
       "      <td>dream</td>\n",
       "      <td>stormy</td>\n",
       "      <td>6</td>\n",
       "      <td>0.007264</td>\n",
       "      <td>dream:stormy</td>\n",
       "      <td>0.000303</td>\n",
       "      <td>5</td>\n",
       "      <td>6</td>\n",
       "      <td>...</td>\n",
       "      <td>False</td>\n",
       "      <td>False</td>\n",
       "      <td>False</td>\n",
       "      <td>False</td>\n",
       "      <td>[-0.074707, -0.101562, 0.129883, 0.022583, 0.2...</td>\n",
       "      <td>[0.0625, 0.259766, -0.210938, -0.18457, 0.1835...</td>\n",
       "      <td>False</td>\n",
       "      <td>False</td>\n",
       "      <td>False</td>\n",
       "      <td>False</td>\n",
       "    </tr>\n",
       "    <tr>\n",
       "      <th>7</th>\n",
       "      <td>Scarabola</td>\n",
       "      <td>WP</td>\n",
       "      <td>girth</td>\n",
       "      <td>heft</td>\n",
       "      <td>9</td>\n",
       "      <td>0.000303</td>\n",
       "      <td>girth:heft</td>\n",
       "      <td>0.000303</td>\n",
       "      <td>5</td>\n",
       "      <td>4</td>\n",
       "      <td>...</td>\n",
       "      <td>False</td>\n",
       "      <td>False</td>\n",
       "      <td>False</td>\n",
       "      <td>False</td>\n",
       "      <td>[0.112305, 0.361328, -0.0693359, -0.0297852, -...</td>\n",
       "      <td>[0.355469, 0.170898, -0.233398, -0.11084, 0.08...</td>\n",
       "      <td>False</td>\n",
       "      <td>False</td>\n",
       "      <td>False</td>\n",
       "      <td>False</td>\n",
       "    </tr>\n",
       "    <tr>\n",
       "      <th>8</th>\n",
       "      <td>Animeguy</td>\n",
       "      <td>ECF</td>\n",
       "      <td>claim</td>\n",
       "      <td>e-cigarettes</td>\n",
       "      <td>3</td>\n",
       "      <td>0.000303</td>\n",
       "      <td>claim:e-cigarettes</td>\n",
       "      <td>0.000303</td>\n",
       "      <td>5</td>\n",
       "      <td>12</td>\n",
       "      <td>...</td>\n",
       "      <td>False</td>\n",
       "      <td>False</td>\n",
       "      <td>False</td>\n",
       "      <td>False</td>\n",
       "      <td>[0.0, 0.0, 0.0, 0.0, 0.0, 0.0, 0.0, 0.0, 0.0, ...</td>\n",
       "      <td>[0.0, 0.0, 0.0, 0.0, 0.0, 0.0, 0.0, 0.0, 0.0, ...</td>\n",
       "      <td>False</td>\n",
       "      <td>False</td>\n",
       "      <td>False</td>\n",
       "      <td>False</td>\n",
       "    </tr>\n",
       "    <tr>\n",
       "      <th>9</th>\n",
       "      <td>Toad Licker</td>\n",
       "      <td>SAS</td>\n",
       "      <td>fishing</td>\n",
       "      <td>boat</td>\n",
       "      <td>6</td>\n",
       "      <td>0.058112</td>\n",
       "      <td>fishing:boat</td>\n",
       "      <td>0.002421</td>\n",
       "      <td>7</td>\n",
       "      <td>4</td>\n",
       "      <td>...</td>\n",
       "      <td>True</td>\n",
       "      <td>False</td>\n",
       "      <td>False</td>\n",
       "      <td>False</td>\n",
       "      <td>[0.019165, 0.0698242, -0.0537109, -0.0354004, ...</td>\n",
       "      <td>[0.244141, 0.115723, -0.176758, -0.279297, -0....</td>\n",
       "      <td>False</td>\n",
       "      <td>False</td>\n",
       "      <td>False</td>\n",
       "      <td>False</td>\n",
       "    </tr>\n",
       "  </tbody>\n",
       "</table>\n",
       "<p>10 rows × 30 columns</p>\n",
       "</div>"
      ],
      "text/plain": [
       "           user forum        word   association  forumID        tf  \\\n",
       "0       Hickory   GOG        palm          tree        4  0.102604   \n",
       "1        boopme    BC      elbows       fusilli        1  0.000605   \n",
       "2         Smogg   GOG  paranormal    apparition        4  0.002421   \n",
       "3    ruennsheng    WP     hominid      abstract        9  0.006659   \n",
       "4  Jack Jackson   SAS       sweet         candy        6  0.055086   \n",
       "5          zurb    AC       clock          work        0  0.061744   \n",
       "6      Colhad75   SAS       dream        stormy        6  0.007264   \n",
       "7     Scarabola    WP       girth          heft        9  0.000303   \n",
       "8      Animeguy   ECF       claim  e-cigarettes        3  0.000303   \n",
       "9   Toad Licker   SAS     fishing          boat        6  0.058112   \n",
       "\n",
       "                    pair        pf  len1  len2   ...      rel1   rel2   rel3  \\\n",
       "0              palm:tree  0.002724     4     4   ...      True  False  False   \n",
       "1         elbows:fusilli  0.000303     6     7   ...     False  False  False   \n",
       "2  paranormal:apparition  0.000303    10    10   ...     False  False  False   \n",
       "3       hominid:abstract  0.000303     7     8   ...     False  False  False   \n",
       "4            sweet:candy  0.004540     5     5   ...     False  False  False   \n",
       "5             clock:work  0.003329     5     4   ...     False   True  False   \n",
       "6           dream:stormy  0.000303     5     6   ...     False  False  False   \n",
       "7             girth:heft  0.000303     5     4   ...     False  False  False   \n",
       "8     claim:e-cigarettes  0.000303     5    12   ...     False  False  False   \n",
       "9           fishing:boat  0.002421     7     4   ...      True  False  False   \n",
       "\n",
       "    rel4                                                wv1  \\\n",
       "0  False  [0.00915527, -0.207031, -0.337891, 0.233398, -...   \n",
       "1  False  [-0.168945, -0.244141, 0.00787354, 0.212891, -...   \n",
       "2  False  [0.0825195, -0.060791, 0.0732422, 0.0189209, -...   \n",
       "3  False  [0.15332, 0.0961914, -0.277344, 0.511719, -0.1...   \n",
       "4  False  [0.0869141, 0.0300293, -0.0458984, 0.117676, 0...   \n",
       "5  False  [-0.078125, 0.0517578, 0.316406, 0.0708008, -0...   \n",
       "6  False  [-0.074707, -0.101562, 0.129883, 0.022583, 0.2...   \n",
       "7  False  [0.112305, 0.361328, -0.0693359, -0.0297852, -...   \n",
       "8  False  [0.0, 0.0, 0.0, 0.0, 0.0, 0.0, 0.0, 0.0, 0.0, ...   \n",
       "9  False  [0.019165, 0.0698242, -0.0537109, -0.0354004, ...   \n",
       "\n",
       "                                                 wv2 synonym antonym hypernym  \\\n",
       "0  [0.484375, 0.122559, -0.157227, 0.034668, -0.2...   False   False     True   \n",
       "1  [-0.146484, -0.0449219, -0.00927734, 0.28125, ...   False   False    False   \n",
       "2  [0.300781, 0.124023, -0.0549316, 0.115723, -0....   False   False    False   \n",
       "3  [0.257812, -0.251953, 0.0441895, 0.285156, -0....   False   False    False   \n",
       "4  [-0.0500488, -0.232422, -0.0308838, 0.472656, ...   False   False    False   \n",
       "5  [-0.0756836, 0.0336914, -0.0649414, 0.131836, ...   False   False    False   \n",
       "6  [0.0625, 0.259766, -0.210938, -0.18457, 0.1835...   False   False    False   \n",
       "7  [0.355469, 0.170898, -0.233398, -0.11084, 0.08...   False   False    False   \n",
       "8  [0.0, 0.0, 0.0, 0.0, 0.0, 0.0, 0.0, 0.0, 0.0, ...   False   False    False   \n",
       "9  [0.244141, 0.115723, -0.176758, -0.279297, -0....   False   False    False   \n",
       "\n",
       "   hyponym  \n",
       "0    False  \n",
       "1    False  \n",
       "2    False  \n",
       "3    False  \n",
       "4    False  \n",
       "5    False  \n",
       "6    False  \n",
       "7    False  \n",
       "8    False  \n",
       "9    False  \n",
       "\n",
       "[10 rows x 30 columns]"
      ]
     },
     "execution_count": 87,
     "metadata": {},
     "output_type": "execute_result"
    }
   ],
   "source": [
    "df.head(10)"
   ]
  },
  {
   "cell_type": "markdown",
   "metadata": {},
   "source": [
    "### Network features"
   ]
  },
  {
   "cell_type": "code",
   "execution_count": 33,
   "metadata": {},
   "outputs": [
    {
     "name": "stdout",
     "output_type": "stream",
     "text": [
      "To make comparison easier list of most frequent words is printed below:\n",
      "\n",
      "['water', 'music', 'time', 'love', 'money', 'fire', 'food', 'game', 'house', 'dog', 'ball', 'red', 'man', 'death', 'life']\n",
      "['water', 'music', 'money', 'food', 'love', 'time', 'life', 'me', 'death', 'dog', 'game', 'movie', 'fire', 'red', 'green']\n"
     ]
    }
   ],
   "source": [
    "#pagerank \n",
    "\n",
    "import networkx as nx\n",
    "\n",
    "print(\"To make comparison easier list of most frequent words is printed below:\")\n",
    "print(df.word.value_counts().head(15).index.tolist())\n",
    "\n",
    "\n",
    "G = nx.from_pandas_dataframe(df, 'word', 'association', create_using=nx.DiGraph())\n",
    "pr = nx.pagerank(G, alpha=0.85)\n",
    "df['pr'] = df['association'].apply(lambda x:pr[x])\n",
    "print(df.drop_duplicates(['association']).sort_values(by=['pr'], ascending=False).head(15).association.tolist())\n",
    "# Frequent words:\n",
    "# Interesting.."
   ]
  },
  {
   "cell_type": "code",
   "execution_count": 37,
   "metadata": {},
   "outputs": [
    {
     "name": "stdout",
     "output_type": "stream",
     "text": [
      "['water', 'music', 'money', 'food', 'love', 'time', 'dog', 'life', 'death', 'game', 'me', 'fire', 'movie', 'green', 'red']\n"
     ]
    }
   ],
   "source": [
    "# in-degree: how often a word replied as association ~= how often it occured in the topics\n",
    "indegree = G.in_degree()\n",
    "df['indeg'] = df['association'].apply(lambda x:indegree[x])\n",
    "print(df.drop_duplicates(['association']).sort_values(by=['indeg'], ascending=False).head(15).association.tolist())"
   ]
  },
  {
   "cell_type": "code",
   "execution_count": 38,
   "metadata": {},
   "outputs": [
    {
     "name": "stdout",
     "output_type": "stream",
     "text": [
      "['water', 'music', 'love', 'food', 'money', 'time', 'death', 'life', 'fire', 'house', 'dog', 'game', 'red', 'green', 'pain']\n"
     ]
    }
   ],
   "source": [
    "# out-degree: how often a (valid) assocation was given to this word ~= how often it occured in the topics\n",
    "outdegree = G.out_degree()\n",
    "df['outdeg'] = df['association'].apply(lambda x:outdegree[x])\n",
    "print(df.drop_duplicates(['association']).sort_values(by=['outdeg'], ascending=False).head(15).association.tolist())"
   ]
  },
  {
   "cell_type": "code",
   "execution_count": 53,
   "metadata": {},
   "outputs": [
    {
     "data": {
      "text/html": [
       "<div>\n",
       "<table border=\"1\" class=\"dataframe\">\n",
       "  <thead>\n",
       "    <tr style=\"text-align: right;\">\n",
       "      <th></th>\n",
       "      <th>association</th>\n",
       "      <th>tf</th>\n",
       "      <th>pr</th>\n",
       "      <th>indeg</th>\n",
       "      <th>outdeg</th>\n",
       "    </tr>\n",
       "  </thead>\n",
       "  <tbody>\n",
       "    <tr>\n",
       "      <th>0</th>\n",
       "      <td>tree</td>\n",
       "      <td>0.102604</td>\n",
       "      <td>0.000462</td>\n",
       "      <td>150</td>\n",
       "      <td>125</td>\n",
       "    </tr>\n",
       "    <tr>\n",
       "      <th>1</th>\n",
       "      <td>fusilli</td>\n",
       "      <td>0.000605</td>\n",
       "      <td>0.000009</td>\n",
       "      <td>2</td>\n",
       "      <td>2</td>\n",
       "    </tr>\n",
       "    <tr>\n",
       "      <th>2</th>\n",
       "      <td>apparition</td>\n",
       "      <td>0.002421</td>\n",
       "      <td>0.000028</td>\n",
       "      <td>8</td>\n",
       "      <td>7</td>\n",
       "    </tr>\n",
       "    <tr>\n",
       "      <th>3</th>\n",
       "      <td>abstract</td>\n",
       "      <td>0.006659</td>\n",
       "      <td>0.000071</td>\n",
       "      <td>21</td>\n",
       "      <td>15</td>\n",
       "    </tr>\n",
       "    <tr>\n",
       "      <th>4</th>\n",
       "      <td>candy</td>\n",
       "      <td>0.055086</td>\n",
       "      <td>0.000392</td>\n",
       "      <td>109</td>\n",
       "      <td>82</td>\n",
       "    </tr>\n",
       "    <tr>\n",
       "      <th>5</th>\n",
       "      <td>work</td>\n",
       "      <td>0.061744</td>\n",
       "      <td>0.000365</td>\n",
       "      <td>119</td>\n",
       "      <td>112</td>\n",
       "    </tr>\n",
       "    <tr>\n",
       "      <th>6</th>\n",
       "      <td>stormy</td>\n",
       "      <td>0.007264</td>\n",
       "      <td>0.000065</td>\n",
       "      <td>18</td>\n",
       "      <td>15</td>\n",
       "    </tr>\n",
       "    <tr>\n",
       "      <th>7</th>\n",
       "      <td>heft</td>\n",
       "      <td>0.000303</td>\n",
       "      <td>0.000004</td>\n",
       "      <td>1</td>\n",
       "      <td>1</td>\n",
       "    </tr>\n",
       "    <tr>\n",
       "      <th>8</th>\n",
       "      <td>e-cigarettes</td>\n",
       "      <td>0.000303</td>\n",
       "      <td>0.000008</td>\n",
       "      <td>1</td>\n",
       "      <td>1</td>\n",
       "    </tr>\n",
       "    <tr>\n",
       "      <th>9</th>\n",
       "      <td>boat</td>\n",
       "      <td>0.058112</td>\n",
       "      <td>0.000285</td>\n",
       "      <td>95</td>\n",
       "      <td>92</td>\n",
       "    </tr>\n",
       "  </tbody>\n",
       "</table>\n",
       "</div>"
      ],
      "text/plain": [
       "    association        tf        pr  indeg  outdeg\n",
       "0          tree  0.102604  0.000462    150     125\n",
       "1       fusilli  0.000605  0.000009      2       2\n",
       "2    apparition  0.002421  0.000028      8       7\n",
       "3      abstract  0.006659  0.000071     21      15\n",
       "4         candy  0.055086  0.000392    109      82\n",
       "5          work  0.061744  0.000365    119     112\n",
       "6        stormy  0.007264  0.000065     18      15\n",
       "7          heft  0.000303  0.000004      1       1\n",
       "8  e-cigarettes  0.000303  0.000008      1       1\n",
       "9          boat  0.058112  0.000285     95      92"
      ]
     },
     "execution_count": 53,
     "metadata": {},
     "output_type": "execute_result"
    }
   ],
   "source": [
    "df[['association','tf','pr','indeg','outdeg']].head(10)\n",
    "#df.outdeg.head()"
   ]
  },
  {
   "cell_type": "markdown",
   "metadata": {},
   "source": [
    "### Feature correlation"
   ]
  },
  {
   "cell_type": "code",
   "execution_count": 57,
   "metadata": {},
   "outputs": [
    {
     "data": {
      "image/png": "[encoded data removed]",
      "text/plain": [
       "<matplotlib.figure.Figure at 0x7ff1fab1a0f0>"
      ]
     },
     "metadata": {},
     "output_type": "display_data"
    },
    {
     "data": {
      "image/png": "[encoded data removed]",
      "text/plain": [
       "<matplotlib.figure.Figure at 0x7ff1fb7e55c0>"
      ]
     },
     "metadata": {},
     "output_type": "display_data"
    }
   ],
   "source": [
    "import matplotlib.pylab as plt\n",
    "\n",
    "plt.matshow(df.corr())\n",
    "plt.show()"
   ]
  },
  {
   "cell_type": "code",
   "execution_count": 58,
   "metadata": {},
   "outputs": [
    {
     "data": {
      "text/html": [
       "<div>\n",
       "<table border=\"1\" class=\"dataframe\">\n",
       "  <thead>\n",
       "    <tr style=\"text-align: right;\">\n",
       "      <th></th>\n",
       "      <th>user</th>\n",
       "      <th>forum</th>\n",
       "      <th>word</th>\n",
       "      <th>association</th>\n",
       "      <th>forumID</th>\n",
       "      <th>pr</th>\n",
       "      <th>indeg</th>\n",
       "      <th>outdeg</th>\n",
       "      <th>pair</th>\n",
       "      <th>pf</th>\n",
       "      <th>tf</th>\n",
       "    </tr>\n",
       "  </thead>\n",
       "  <tbody>\n",
       "    <tr>\n",
       "      <th>0</th>\n",
       "      <td>Hickory</td>\n",
       "      <td>GOG</td>\n",
       "      <td>palm</td>\n",
       "      <td>tree</td>\n",
       "      <td>4</td>\n",
       "      <td>0.000462</td>\n",
       "      <td>150</td>\n",
       "      <td>125</td>\n",
       "      <td>palm:tree</td>\n",
       "      <td>0.002724</td>\n",
       "      <td>0.102604</td>\n",
       "    </tr>\n",
       "    <tr>\n",
       "      <th>1</th>\n",
       "      <td>boopme</td>\n",
       "      <td>BC</td>\n",
       "      <td>elbows</td>\n",
       "      <td>fusilli</td>\n",
       "      <td>1</td>\n",
       "      <td>0.000009</td>\n",
       "      <td>2</td>\n",
       "      <td>2</td>\n",
       "      <td>elbows:fusilli</td>\n",
       "      <td>0.000303</td>\n",
       "      <td>0.000605</td>\n",
       "    </tr>\n",
       "    <tr>\n",
       "      <th>2</th>\n",
       "      <td>Smogg</td>\n",
       "      <td>GOG</td>\n",
       "      <td>paranormal</td>\n",
       "      <td>apparition</td>\n",
       "      <td>4</td>\n",
       "      <td>0.000028</td>\n",
       "      <td>8</td>\n",
       "      <td>7</td>\n",
       "      <td>paranormal:apparition</td>\n",
       "      <td>0.000303</td>\n",
       "      <td>0.002421</td>\n",
       "    </tr>\n",
       "    <tr>\n",
       "      <th>3</th>\n",
       "      <td>ruennsheng</td>\n",
       "      <td>WP</td>\n",
       "      <td>hominid</td>\n",
       "      <td>abstract</td>\n",
       "      <td>9</td>\n",
       "      <td>0.000071</td>\n",
       "      <td>21</td>\n",
       "      <td>15</td>\n",
       "      <td>hominid:abstract</td>\n",
       "      <td>0.000303</td>\n",
       "      <td>0.006659</td>\n",
       "    </tr>\n",
       "    <tr>\n",
       "      <th>4</th>\n",
       "      <td>Jack Jackson</td>\n",
       "      <td>SAS</td>\n",
       "      <td>sweet</td>\n",
       "      <td>candy</td>\n",
       "      <td>6</td>\n",
       "      <td>0.000392</td>\n",
       "      <td>109</td>\n",
       "      <td>82</td>\n",
       "      <td>sweet:candy</td>\n",
       "      <td>0.004540</td>\n",
       "      <td>0.055086</td>\n",
       "    </tr>\n",
       "  </tbody>\n",
       "</table>\n",
       "</div>"
      ],
      "text/plain": [
       "           user forum        word association  forumID        pr  indeg  \\\n",
       "0       Hickory   GOG        palm        tree        4  0.000462    150   \n",
       "1        boopme    BC      elbows     fusilli        1  0.000009      2   \n",
       "2         Smogg   GOG  paranormal  apparition        4  0.000028      8   \n",
       "3    ruennsheng    WP     hominid    abstract        9  0.000071     21   \n",
       "4  Jack Jackson   SAS       sweet       candy        6  0.000392    109   \n",
       "\n",
       "   outdeg                   pair        pf        tf  \n",
       "0     125              palm:tree  0.002724  0.102604  \n",
       "1       2         elbows:fusilli  0.000303  0.000605  \n",
       "2       7  paranormal:apparition  0.000303  0.002421  \n",
       "3      15       hominid:abstract  0.000303  0.006659  \n",
       "4      82            sweet:candy  0.004540  0.055086  "
      ]
     },
     "execution_count": 58,
     "metadata": {},
     "output_type": "execute_result"
    }
   ],
   "source": [
    "df.head()"
   ]
  },
  {
   "cell_type": "code",
   "execution_count": 89,
   "metadata": {},
   "outputs": [
    {
     "name": "stdout",
     "output_type": "stream",
     "text": [
      "Fin\n"
     ]
    }
   ],
   "source": [
    "df = df.drop('wv1',1)\n",
    "df = df.drop('wv2',1)\n",
    "df.to_csv(\"../data/processed/wordgame_20170831_ft.csv\", sep=',', index=False)\n",
    "print('End')"
   ]
  }
 ],
 "metadata": {
  "kernelspec": {
   "display_name": "Python 3",
   "language": "python",
   "name": "python3"
  },
  "language_info": {
   "codemirror_mode": {
    "name": "ipython",
    "version": 3
   },
   "file_extension": ".py",
   "mimetype": "text/x-python",
   "name": "python",
   "nbconvert_exporter": "python",
   "pygments_lexer": "ipython3",
   "version": "3.5.2"
  }
 },
 "nbformat": 4,
 "nbformat_minor": 2
}
