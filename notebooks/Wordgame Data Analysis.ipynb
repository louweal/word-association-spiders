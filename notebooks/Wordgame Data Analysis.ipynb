{
 "cells": [
  {
   "cell_type": "markdown",
   "metadata": {},
   "source": [
    "# WordGame data analysis\n",
    "\n",
    "Welcome to my WordGame project! In this first notebook, our goal is to extract interesting features from the Wordgame dataset, a dataset containing 0.3M word-word associations scraped from Word Association Games running on 10 internet forums. Finding meaningful features in this dataset is necessary to build a classification model and in itself may already provide novel insights into the human mind. \n",
    "\n",
    "Let's open up the dataset."
   ]
  },
  {
   "cell_type": "code",
   "execution_count": 2,
   "metadata": {
    "scrolled": true
   },
   "outputs": [
    {
     "data": {
      "text/html": [
       "<div>\n",
       "<table border=\"1\" class=\"dataframe\">\n",
       "  <thead>\n",
       "    <tr style=\"text-align: right;\">\n",
       "      <th></th>\n",
       "      <th>author</th>\n",
       "      <th>word1</th>\n",
       "      <th>word2</th>\n",
       "      <th>source</th>\n",
       "    </tr>\n",
       "  </thead>\n",
       "  <tbody>\n",
       "    <tr>\n",
       "      <th>0</th>\n",
       "      <td>4688</td>\n",
       "      <td>Crows</td>\n",
       "      <td>Feet</td>\n",
       "      <td>the_fishy</td>\n",
       "    </tr>\n",
       "    <tr>\n",
       "      <th>1</th>\n",
       "      <td>4841</td>\n",
       "      <td>Salute</td>\n",
       "      <td>Respect</td>\n",
       "      <td>the_fishy</td>\n",
       "    </tr>\n",
       "    <tr>\n",
       "      <th>2</th>\n",
       "      <td>1732</td>\n",
       "      <td>Pride</td>\n",
       "      <td>Arrogance</td>\n",
       "      <td>gog</td>\n",
       "    </tr>\n",
       "    <tr>\n",
       "      <th>3</th>\n",
       "      <td>1272</td>\n",
       "      <td>knife</td>\n",
       "      <td>butter</td>\n",
       "      <td>gog</td>\n",
       "    </tr>\n",
       "    <tr>\n",
       "      <th>4</th>\n",
       "      <td>418</td>\n",
       "      <td>Bed Head</td>\n",
       "      <td>My hair right now</td>\n",
       "      <td>atu2</td>\n",
       "    </tr>\n",
       "  </tbody>\n",
       "</table>\n",
       "</div>"
      ],
      "text/plain": [
       "  author     word1              word2     source\n",
       "0   4688     Crows               Feet  the_fishy\n",
       "1   4841    Salute            Respect  the_fishy\n",
       "2   1732     Pride          Arrogance        gog\n",
       "3   1272     knife             butter        gog\n",
       "4    418  Bed Head  My hair right now       atu2"
      ]
     },
     "execution_count": 2,
     "metadata": {},
     "output_type": "execute_result"
    }
   ],
   "source": [
    "import pandas as pd\n",
    "import numpy as np\n",
    "import matplotlib.pyplot as plt\n",
    "import seaborn as sns\n",
    "\n",
    "#df = pd.read_csv('../input/wordgame_201706.csv')\n",
    "df = pd.read_csv('../data/processed/wordgame_201706.csv', dtype='object')\n",
    "#store words as string\n",
    "df['word1'] = df['word1'].astype('str') \n",
    "df['word2'] = df['word2'].astype('str') \n",
    "#print first rows\n",
    "df.head()"
   ]
  },
  {
   "cell_type": "markdown",
   "metadata": {},
   "source": [
    "The dataset contains 4 columns; author, word1, word2 and source. Word1 and word2 can also be a phrase or in some cases even a whole sentence. In each row, word1 is the given word and word2 is the word-association the **author** had after reading that word. Source represents from which forum the information was scraped. Also note that the set words 'word1' is identical to the set 'word2', except for some small differences due to dropping some word pairs in the data cleaning process, the words only appear in a different order in the dataset."
   ]
  },
  {
   "cell_type": "markdown",
   "metadata": {},
   "source": [
    "## Sources\n",
    "We have data from 10 sources, respectively <a href=\"https://www.aspiescentral.com\">Aspies Central</a>, <a href=\"forum.atu2.com\">@U2</a>, <a href=\"bleepingcomputer.com\">BleepingComputer</a>, <a href=\"classiccomics.org\">Classic Comics</a>, <a href=\"https://www.e-cigarette-forum.com\">ECF</a>, GOG, <a href=\"http://learn-english-forum.org/\">Learn English Forum</a>, SAS, The Fishy and <a href=\"www.wrongplanet.net\">Wrong Planet</a>.\n",
    "\n",
    "We do not know details like the gender and the age of the users of the d, so even if we would be able to build a multi-class classification model that can classify all pairs with 100% accuracy (which is impossible offcourse), we still would be unable to say something about specific groups of users. However, 23% of the data was purposely scraped from autism-related websites, Aspies Central (SourceID: 0) and Wrong Planet (SourceID: 9). Research has shown that persons with an ASD have different brain. Therefore, \n"
   ]
  },
  {
   "cell_type": "code",
   "execution_count": 20,
   "metadata": {},
   "outputs": [
    {
     "name": "stdout",
     "output_type": "stream",
     "text": [
      "Number of NT-pairs: 245628\n",
      "Number of ASD-pairs: 70105\n"
     ]
    }
   ],
   "source": [
    "# create a source ID (0, .., 9) sources are alphabetically ordered\n",
    "df['sourceID'] = df['source'].astype('category').cat.codes\n",
    "\n",
    "#returns False for sources 0 and 9 and True for others. \n",
    "def isNt(r):\n",
    "\treturn ((r.sourceID%9)>0)\n",
    "\n",
    "#group sources based on (assumed) brain-structure of their users (neural-typical versus ASD)\n",
    "df['nt'] = df.apply(isNt, axis=1)\n",
    "print(\"Number of NT-pairs: \" + str(len(df[df['nt']])))\n",
    "print(\"Number of ASD-pairs: \" + str(len(df[df['nt']==False])))"
   ]
  },
  {
   "cell_type": "markdown",
   "metadata": {},
   "source": [
    "## Word length\n",
    "We are now ready to extract our first feature, which will be the word length. I do not expect any differences, but I'm simply curious .. Word = post! "
   ]
  },
  {
   "cell_type": "code",
   "execution_count": 11,
   "metadata": {},
   "outputs": [
    {
     "data": {
      "image/png": "[encoded data removed]",
      "text/plain": [
       "<matplotlib.figure.Figure at 0x7f4c3f5bd668>"
      ]
     },
     "metadata": {},
     "output_type": "display_data"
    }
   ],
   "source": [
    "df['len1'] = df['word1'].apply(lambda x:len(x))\n",
    "df['len2'] = df['word2'].apply(lambda x:len(x))\n",
    "\n",
    "## plot word length histogram\n",
    "nt = df[df['nt']].len1\n",
    "asd = df[df['nt']==False].len1\n",
    "\n",
    "w1 = np.ones_like(nt)/len(nt)\n",
    "w2 = np.ones_like(asd)/len(asd)\n",
    "\n",
    "bins = np.arange(1,21)\n",
    "\n",
    "plt.figure(figsize=(12, 5))\n",
    "plt.hist(nt, bins=bins, alpha=0.5, label=\"NT\", weights=w1)\n",
    "plt.hist(asd, bins=bins,alpha=0.5, label=\"ASD\", weights=w2)\n",
    "plt.title('Histogram of word lengths')\n",
    "plt.xlabel('Word length')\n",
    "plt.ylabel('Frequency')\n",
    "plt.legend(loc='upper right')\n",
    "axes = plt.gca()\n",
    "axes.set_xlim([1,20])\n",
    "plt.show()"
   ]
  },
  {
   "cell_type": "markdown",
   "metadata": {},
   "source": [
    "A post contains on average 7 characters. Most words are between 3 and 15 characters long. The longest word is 200 characters long. **NT'ers shorter words, ..**"
   ]
  },
  {
   "cell_type": "markdown",
   "metadata": {},
   "source": [
    "## User activity\n",
    "Another h. important aspect is user activity..\n"
   ]
  },
  {
   "cell_type": "code",
   "execution_count": 24,
   "metadata": {},
   "outputs": [
    {
     "name": "stdout",
     "output_type": "stream",
     "text": [
      "Post count of most active user: 11053\n",
      "Total number of users: 6256\n",
      "\tNumber of NT'ers: 4482\n",
      "\tNumber of ASD'ers: 1774\n"
     ]
    },
    {
     "data": {
      "image/png": "[encoded data removed]",
      "text/plain": [
       "<matplotlib.figure.Figure at 0x7f4c3dbe5048>"
      ]
     },
     "metadata": {},
     "output_type": "display_data"
    }
   ],
   "source": [
    "#\n",
    "print(\"Post count of most active user: \" + str(df['author'].value_counts().max()))\n",
    "print(\"Total number of users: \" + str(len(df.groupby(['author']))))\n",
    "\n",
    "#Plot\n",
    "nt = df[df['nt']]\n",
    "nt = nt['author'].value_counts()\n",
    "asd = df[df['nt']==False]\n",
    "asd = asd['author'].value_counts()\n",
    "print(\"\\tNumber of NT'ers: \" + str(len(nt)))\n",
    "print(\"\\tNumber of ASD'ers: \" + str(len(asd)))\n",
    "\n",
    "bins = np.arange(1,11800,100)\n",
    "w1 = np.ones_like(nt)/len(nt)\n",
    "w2 = np.ones_like(asd)/len(asd)\n",
    "\n",
    "plt.figure(figsize=(20, 5))\n",
    "plt.hist(nt, bins=bins, alpha=0.5, label=\"NT\", weights=w1)\n",
    "plt.hist(asd, bins=bins, alpha=0.5, label=\"ASD\", weights=w2)\n",
    "plt.yscale('log')\n",
    "plt.title('Log-Histogram of posts per author')\n",
    "plt.xlabel('Number of posts')\n",
    "plt.ylabel('Weighted frequency')\n",
    "plt.legend(loc='upper right')\n",
    "axes = plt.gca()\n",
    "axes.set_xlim([1,11800])\n",
    "plt.show()"
   ]
  },
  {
   "cell_type": "markdown",
   "metadata": {},
   "source": [
    "Conserning 11000 posts! (5%!)"
   ]
  },
  {
   "cell_type": "markdown",
   "metadata": {},
   "source": [
    "## Frequent words\n",
    "....\n",
    "Given this enormous bag of words, what would be the most frequently occurring words? Would it be random words like 'fork' or would it represent the most important aspects of life?"
   ]
  },
  {
   "cell_type": "code",
   "execution_count": 63,
   "metadata": {},
   "outputs": [
    {
     "name": "stdout",
     "output_type": "stream",
     "text": [
      "Median word count NT: 4.071197094793753e-06\n",
      "Median word count ASD: 1.4264317809000785e-05\n",
      "water    0.001954\n",
      "time     0.001730\n",
      "music    0.001612\n",
      "love     0.001429\n",
      "house    0.001343\n",
      "fire     0.001335\n",
      "money    0.001331\n",
      "man      0.001331\n",
      "ball     0.001323\n",
      "game     0.001315\n",
      "Name: word2, dtype: float64\n",
      "water    0.002268\n",
      "food     0.001854\n",
      "music    0.001797\n",
      "money    0.001712\n",
      "death    0.001555\n",
      "fire     0.001512\n",
      "dog      0.001483\n",
      "time     0.001398\n",
      "love     0.001355\n",
      "blood    0.001298\n",
      "Name: word2, dtype: float64\n"
     ]
    }
   ],
   "source": [
    "# convert all words to lowercase\n",
    "df['word1'] = df['word1'].map(str).apply(lambda x: x.lower())\n",
    "df['word2'] = df['word2'].map(str).apply(lambda x: x.lower())\n",
    "#print(df['word2'].value_counts().head(7))\n",
    "\n",
    "nt = df[df['nt']]\n",
    "asd = df[df['nt']==False]\n",
    "\n",
    "#relative word count\n",
    "nt = (nt['word2'].value_counts()/len(nt))\n",
    "asd = (asd['word2'].value_counts()/len(asd))\n",
    "#print(\"Median word probability NT: \" +str(nt.median()))\n",
    "#print(\"Median word probability ASD: \" +str(asd.median()))\n",
    "\n",
    "print(nt.head(10))\n",
    "print(asd.head(10))\n"
   ]
  },
  {
   "cell_type": "markdown",
   "metadata": {},
   "source": [
    "The word 'water' is 500\n",
    "\n",
    "I found it really fascinating to discover which words are most likely to pop-up in anyone's head. \n",
    "It appears that the most frequent words occuring in association games, are not random at all. Some of the words even are the most important aspects of life, water and food for example...   "
   ]
  },
  {
   "cell_type": "markdown",
   "metadata": {},
   "source": [
    "## Levenshtein Distance\n",
    "...............\n",
    "..........."
   ]
  },
  {
   "cell_type": "code",
   "execution_count": 9,
   "metadata": {},
   "outputs": [
    {
     "name": "stdout",
     "output_type": "stream",
     "text": [
      "Mean edit distance: 6.81435996312\n"
     ]
    }
   ],
   "source": [
    "import Levenshtein\n",
    "\n",
    "def levenshtein(r):\n",
    "#\treturn 1\n",
    "\treturn Levenshtein.distance(r.word1, r.word2)\n",
    "\n",
    "df['edit'] = df.apply(levenshtein, axis=1)\n",
    "#save interm!\n",
    "\n",
    "print(\"Mean edit distance: \"+ str(df['edit'].mean()))\n",
    "\n",
    "\n",
    "\n"
   ]
  },
  {
   "cell_type": "code",
   "execution_count": 10,
   "metadata": {},
   "outputs": [
    {
     "data": {
      "image/png": "[encoded data removed]",
      "text/plain": [
       "<matplotlib.figure.Figure at 0x7f4c328c34a8>"
      ]
     },
     "metadata": {},
     "output_type": "display_data"
    }
   ],
   "source": [
    "#delete outliers in terms of word length\n",
    "df = df[(2 < df['len1']) & (df['len1'] < 18) & (2 < df['len2']) & (df['len2'] < 18)]\n",
    "\n",
    "nt = df[(df['nt'] == True)]\n",
    "asd = df[(df['nt'] == False)]\n",
    "\n",
    "weights_nt = np.ones_like(nt['edit'])/len(nt['edit'])\n",
    "weights_asd = np.ones_like(asd['edit'])/len(asd['edit'])\n",
    "\n",
    "#nt['edit'].plot.hist(by='edit', bins=15, alpha=0.5, label='NT', weights=weights_nt)\n",
    "#asd['edit'].plot.hist(by='edit', bins=15, alpha=0.5, label='ASD', weights=weights_asd)\n",
    "\n",
    "plt.figure(figsize=(12, 5))\n",
    "plt.hist(nt['edit'], bins=10, alpha=0.5, label=\"NT\", weights=weights_nt)\n",
    "plt.hist(asd['edit'], bins=10, alpha=0.5, label=\"ASD\", weights=weights_asd)\n",
    "plt.title('Histogram of edit distance')\n",
    "plt.xlabel('Edit distance')\n",
    "plt.ylabel('Frequency')\n",
    "plt.legend(loc='upper right')\n",
    "plt.show()"
   ]
  }
 ],
 "metadata": {
  "kernelspec": {
   "display_name": "Python 3",
   "language": "python",
   "name": "python3"
  },
  "language_info": {
   "codemirror_mode": {
    "name": "ipython",
    "version": 3
   },
   "file_extension": ".py",
   "mimetype": "text/x-python",
   "name": "python",
   "nbconvert_exporter": "python",
   "pygments_lexer": "ipython3",
   "version": "3.5.2"
  }
 },
 "nbformat": 4,
 "nbformat_minor": 2
}
