{
 "cells": [
  {
   "cell_type": "code",
   "execution_count": 5,
   "metadata": {},
   "outputs": [
    {
     "name": "stdout",
     "output_type": "stream",
     "text": [
      "          word association  asd\n",
      "0     children        cute    0\n",
      "1      journey   adventure    0\n",
      "3        whale       hello    0\n",
      "4           no  conspiracy    0\n",
      "5   pheromones     emotion    0\n",
      "6      wailing        wall    1\n",
      "7     building     bridges    0\n",
      "8         open        door    0\n",
      "9         fork       knife    0\n",
      "10       maybe     perhaps    0\n",
      "270684\n"
     ]
    }
   ],
   "source": [
    "from sklearn.model_selection import train_test_split\n",
    "import pandas as pd\n",
    "\n",
    "df = pd.read_csv('../data/processed/wordgame_20170807_ft.csv')\n",
    "df['word'] = df['word'].astype(str)\n",
    "df['association'] = df['association'].astype(str)\n",
    "\n",
    "df['asd'] = df['forumID'].apply(lambda x:int((x%9)==0))\n",
    "\n",
    "df['word_count1'] = df['word'].apply(lambda x:(x.replace('  ',' ').count(' ')+1))\n",
    "df = df[df['word_count1']==1]\n",
    "df['word_count2'] = df['association'].apply(lambda x:(x.replace('  ',' ').count(' ')+1))\n",
    "df = df[df['word_count2']==1]\n",
    "\n",
    "df = df[df['inw2v']]\n",
    "df = df[['word','association','asd']]\n",
    "print(df.head(10))\n",
    "\n",
    "train, test = train_test_split(df, test_size = 0.2)\n",
    "\n",
    "train.to_csv(\"../data/processed/wordgame_train.csv\", sep=',', index=False)\n",
    "test.to_csv(\"../data/processed/wordgame_test.csv\", sep=',', index=False)"
   ]
  }
 ],
 "metadata": {
  "kernelspec": {
   "display_name": "Python 3",
   "language": "python",
   "name": "python3"
  },
  "language_info": {
   "codemirror_mode": {
    "name": "ipython",
    "version": 3
   },
   "file_extension": ".py",
   "mimetype": "text/x-python",
   "name": "python",
   "nbconvert_exporter": "python",
   "pygments_lexer": "ipython3",
   "version": "3.5.2"
  }
 },
 "nbformat": 4,
 "nbformat_minor": 2
}
