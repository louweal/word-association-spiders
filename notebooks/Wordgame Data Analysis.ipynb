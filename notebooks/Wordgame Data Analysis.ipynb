{
 "cells": [
  {
   "cell_type": "markdown",
   "metadata": {},
   "source": [
    "# WordGame data analysis¶\n",
    "\n",
    "Welcome to my first notebook. Here, our goal is to extract interesting features from the Wordgame dataset, \n",
    "a dataset containing 0.3M word-word associations scraped from Word Association Games running on 10 internet forums. \n",
    "This basic feature extraction could be useful to gain insight into the the properties of the dataset, \n",
    "which could be used to construct better classification models.\n",
    "\n",
    "## Data exploration\n",
    "\n",
    "Let's open up the dataset."
   ]
  },
  {
   "cell_type": "code",
   "execution_count": 126,
   "metadata": {
    "scrolled": true
   },
   "outputs": [
    {
     "data": {
      "text/html": [
       "<div>\n",
       "<table border=\"1\" class=\"dataframe\">\n",
       "  <thead>\n",
       "    <tr style=\"text-align: right;\">\n",
       "      <th></th>\n",
       "      <th>author</th>\n",
       "      <th>word1</th>\n",
       "      <th>word2</th>\n",
       "      <th>source</th>\n",
       "    </tr>\n",
       "  </thead>\n",
       "  <tbody>\n",
       "    <tr>\n",
       "      <th>0</th>\n",
       "      <td>4688</td>\n",
       "      <td>Crows</td>\n",
       "      <td>Feet</td>\n",
       "      <td>the_fishy</td>\n",
       "    </tr>\n",
       "    <tr>\n",
       "      <th>1</th>\n",
       "      <td>4841</td>\n",
       "      <td>Salute</td>\n",
       "      <td>Respect</td>\n",
       "      <td>the_fishy</td>\n",
       "    </tr>\n",
       "    <tr>\n",
       "      <th>2</th>\n",
       "      <td>1732</td>\n",
       "      <td>Pride</td>\n",
       "      <td>Arrogance</td>\n",
       "      <td>gog</td>\n",
       "    </tr>\n",
       "    <tr>\n",
       "      <th>3</th>\n",
       "      <td>1272</td>\n",
       "      <td>knife</td>\n",
       "      <td>butter</td>\n",
       "      <td>gog</td>\n",
       "    </tr>\n",
       "    <tr>\n",
       "      <th>4</th>\n",
       "      <td>418</td>\n",
       "      <td>Bed Head</td>\n",
       "      <td>My hair right now</td>\n",
       "      <td>atu2</td>\n",
       "    </tr>\n",
       "  </tbody>\n",
       "</table>\n",
       "</div>"
      ],
      "text/plain": [
       "  author     word1              word2     source\n",
       "0   4688     Crows               Feet  the_fishy\n",
       "1   4841    Salute            Respect  the_fishy\n",
       "2   1732     Pride          Arrogance        gog\n",
       "3   1272     knife             butter        gog\n",
       "4    418  Bed Head  My hair right now       atu2"
      ]
     },
     "execution_count": 126,
     "metadata": {},
     "output_type": "execute_result"
    }
   ],
   "source": [
    "import pandas as pd\n",
    "import numpy as np\n",
    "import matplotlib.pyplot as plt\n",
    "import seaborn as sns\n",
    "\n",
    "#df = pd.read_csv('../input/wordgame_201706.csv')\n",
    "df = pd.read_csv('../data/processed/wordgame_201706.csv', dtype='object')\n",
    "#store words as string\n",
    "df['word1'] = df['word1'].astype('str') \n",
    "df['word2'] = df['word2'].astype('str') \n",
    "#print first rows\n",
    "df.head()"
   ]
  },
  {
   "cell_type": "markdown",
   "metadata": {},
   "source": [
    "## Sources\n",
    "We have data from 10 sources, respectively <a href=\"https://www.aspiescentral.com\">aspiecentral.net</a>, atu2.com, bleepingcomputer.com, ... and <a href=\"www.wrongplanet.net\">wrongplanet</a>.\n",
    "\n",
    "We do not know details like the gender and the age of the users, therefore multi-class .. \n",
    "will not .. meaningfull insights \n",
    "\n",
    "However, 23% of the data was purposely scraped from autism-related websites (AspieCentral and WrongPlanet). Research has shown ... different brain structure. Therefore, \n"
   ]
  },
  {
   "cell_type": "code",
   "execution_count": 132,
   "metadata": {},
   "outputs": [],
   "source": [
    "# create a source ID (0, .., 9) sources are alphabetically ordered\n",
    "df['sourceID'] = df['source'].astype('category').cat.codes\n",
    "\n",
    "#returns False for sources 0 and 9 and True for others. \n",
    "def isNt(r):\n",
    "\treturn ((r.sourceID%9)>0)\n",
    "\n",
    "#group sources based on (assumed) brain-structure of their users (neural-typical versus ASD)\n",
    "df['nt'] = df.apply(isNt, axis=1)"
   ]
  },
  {
   "cell_type": "markdown",
   "metadata": {},
   "source": [
    "## Word length\n",
    "We are now ready to extract our first feature, which will be the word length. I do not expect any differences, but I'm simply curious .. Word = post! "
   ]
  },
  {
   "cell_type": "code",
   "execution_count": 150,
   "metadata": {},
   "outputs": [
    {
     "name": "stdout",
     "output_type": "stream",
     "text": [
      "Mean, minimum, maximum and more.\n",
      "count    334012.000000\n",
      "mean          6.771888\n",
      "std           4.523609\n",
      "min           1.000000\n",
      "25%           4.000000\n",
      "50%           6.000000\n",
      "75%           8.000000\n",
      "max         200.000000\n",
      "Name: len2, dtype: float64\n"
     ]
    },
    {
     "data": {
      "image/png": "[encoded data removed]",
      "text/plain": [
       "<matplotlib.figure.Figure at 0x7f124db8a518>"
      ]
     },
     "metadata": {},
     "output_type": "display_data"
    }
   ],
   "source": [
    "df['len1'] = df['word1'].apply(lambda x:len(x))\n",
    "df['len2'] = df['word2'].apply(lambda x:len(x))\n",
    "\n",
    "#word length statistics\n",
    "print(\"Mean, minimum, maximum and more.\\n\" + str(df['len2'].describe()))\n",
    "\n",
    "## plot word length histogram\n",
    "nt = df[df['nt']].len1\n",
    "asd = df[df['nt']==False].len1\n",
    "\n",
    "w1 = np.ones_like(nt)/len(nt)\n",
    "w2 = np.ones_like(asd)/len(asd)\n",
    "\n",
    "bins = np.arange(1,26)\n",
    "\n",
    "plt.figure(figsize=(12, 5))\n",
    "plt.hist(nt, bins=bins, alpha=0.5, label=\"NT\", weights=w1)\n",
    "plt.hist(asd, bins=bins,alpha=0.5, label=\"ASD\", weights=w2)\n",
    "plt.title('Histogram of word lengths')\n",
    "plt.xlabel('Word length')\n",
    "plt.ylabel('Frequency')\n",
    "plt.legend(loc='upper right')\n",
    "axes = plt.gca()\n",
    "axes.set_xlim([1,25])\n",
    "plt.show()"
   ]
  },
  {
   "cell_type": "markdown",
   "metadata": {},
   "source": [
    "A post contains on average 7 characters. Most words are between 3 and 15 characters long. The longest word is 200 characters long. NT'ers shorter words, .."
   ]
  },
  {
   "cell_type": "markdown",
   "metadata": {},
   "source": [
    "## User activity\n",
    "Another h. important aspect is user activity..\n"
   ]
  },
  {
   "cell_type": "code",
   "execution_count": 160,
   "metadata": {},
   "outputs": [
    {
     "name": "stdout",
     "output_type": "stream",
     "text": [
      "Total number of users: 6256\n",
      "11053\n"
     ]
    },
    {
     "data": {
      "image/png": "[encoded data removed]",
      "text/plain": [
       "<matplotlib.figure.Figure at 0x7f124d18d400>"
      ]
     },
     "metadata": {},
     "output_type": "display_data"
    }
   ],
   "source": [
    "#\n",
    "print(\"Total number of users: \" + str(len(df.groupby(['author']))))\n",
    "print(df['author'].value_counts().max())\n",
    "\n",
    "\n",
    "#Plot\n",
    "plt.figure(figsize=(12, 5))\n",
    "plt.hist(df['author'].value_counts(), bins=40)\n",
    "plt.yscale('symlog')\n",
    "plt.title('Log-Histogram of posts per author')\n",
    "plt.xlabel('Number of posts')\n",
    "plt.ylabel('Weighted frequency')\n",
    "axes = plt.gca()\n",
    "axes.set_xlim([1,5000])\n",
    "plt.show()"
   ]
  },
  {
   "cell_type": "markdown",
   "metadata": {},
   "source": [
    "This means that on average, each user has posted a word 53 times. However, on online forums there are always people who post only once and people who are almost obsessed by forum games."
   ]
  },
  {
   "cell_type": "markdown",
   "metadata": {},
   "source": [
    "## Frequent words\n",
    "Indeed we have approximately ~0.3M word-pairs. Considering that each word appears twice in the dataset, we also have ~0.3M words contributed by different users at different forums. Due to filtering of pairs containing NaN (empty) values, this is not exactly true, but we simply ignore that for now. Given this enormous bag of words, what would be the most frequently occurring words? Would it be random words like 'fork' or would it represent the most important aspects of life?"
   ]
  },
  {
   "cell_type": "code",
   "execution_count": null,
   "metadata": {},
   "outputs": [],
   "source": [
    "# convert all words to lowercase, otherwise 'Fork' and 'fork' will be counted seperately\n",
    "df['word1'] = df['word1'].map(str).apply(lambda x: x.lower())\n",
    "df['word2'] = df['word2'].map(str).apply(lambda x: x.lower())\n",
    "print(df['word2'].value_counts().head(7))"
   ]
  },
  {
   "cell_type": "code",
   "execution_count": null,
   "metadata": {},
   "outputs": [],
   "source": [
    "plt.figure(figsize=(12, 5))\n",
    "plt.hist(df['word2'].value_counts(), bins=40)\n",
    "plt.yscale('log')\n",
    "plt.title('Log-Histogram of duplicate words.')\n",
    "plt.xlabel('Number of duplicates')\n",
    "plt.ylabel('Frequency')\n",
    "plt.show()"
   ]
  },
  {
   "cell_type": "markdown",
   "metadata": {},
   "source": [
    "### No forks and spoons\n",
    "It appears that the most frequent words occuring in association games, are not random at all. Some of the words even are the most important aspects of life, water and food for example...   "
   ]
  },
  {
   "cell_type": "markdown",
   "metadata": {
    "collapsed": true
   },
   "source": [
    "(Maybe move to another notebook?)\n",
    "\n"
   ]
  },
  {
   "cell_type": "code",
   "execution_count": null,
   "metadata": {},
   "outputs": [],
   "source": [
    "#print(nt['word2'].value_counts().head())\n",
    "#print(asd['word2'].value_counts().head())"
   ]
  },
  {
   "cell_type": "markdown",
   "metadata": {},
   "source": [
    "## Levenshtein Distance\n"
   ]
  },
  {
   "cell_type": "code",
   "execution_count": 151,
   "metadata": {},
   "outputs": [
    {
     "name": "stdout",
     "output_type": "stream",
     "text": [
      "Mean edit distance: 6.90909907428\n"
     ]
    }
   ],
   "source": [
    "import Levenshtein\n",
    "\n",
    "def levenshtein(r):\n",
    "#\treturn 1\n",
    "\treturn Levenshtein.distance(r.word1, r.word2)\n",
    "\n",
    "df['edit'] = df.apply(levenshtein, axis=1)\n",
    "#save interm!\n",
    "\n",
    "print(\"Mean edit distance: \"+ str(df['edit'].mean()))\n",
    "\n",
    "\n",
    "\n"
   ]
  },
  {
   "cell_type": "code",
   "execution_count": 154,
   "metadata": {},
   "outputs": [
    {
     "data": {
      "image/png": "[encoded data removed]",
      "text/plain": [
       "<matplotlib.figure.Figure at 0x7f124dc03588>"
      ]
     },
     "metadata": {},
     "output_type": "display_data"
    }
   ],
   "source": [
    "#delete outliers in terms of word length\n",
    "df = df[(2 < df['len1']) & (df['len1'] < 18) & (2 < df['len2']) & (df['len2'] < 18)]\n",
    "\n",
    "nt = df[(df['nt'] == True)]\n",
    "asd = df[(df['nt'] == False)]\n",
    "\n",
    "weights_nt = np.ones_like(nt['edit'])/len(nt['edit'])\n",
    "weights_asd = np.ones_like(asd['edit'])/len(asd['edit'])\n",
    "\n",
    "#nt['edit'].plot.hist(by='edit', bins=15, alpha=0.5, label='NT', weights=weights_nt)\n",
    "#asd['edit'].plot.hist(by='edit', bins=15, alpha=0.5, label='ASD', weights=weights_asd)\n",
    "\n",
    "plt.figure(figsize=(12, 5))\n",
    "plt.hist(nt['edit'], bins=10, alpha=0.5, label=\"NT\", weights=weights_nt)\n",
    "plt.hist(asd['edit'], bins=10, alpha=0.5, label=\"ASD\", weights=weights_asd)\n",
    "plt.title('Histogram of edit distance')\n",
    "plt.xlabel('Edit distance')\n",
    "plt.ylabel('Frequency')\n",
    "plt.legend(loc='upper right')\n",
    "plt.show()"
   ]
  }
 ],
 "metadata": {
  "kernelspec": {
   "display_name": "Python 3",
   "language": "python",
   "name": "python3"
  },
  "language_info": {
   "codemirror_mode": {
    "name": "ipython",
    "version": 3
   },
   "file_extension": ".py",
   "mimetype": "text/x-python",
   "name": "python",
   "nbconvert_exporter": "python",
   "pygments_lexer": "ipython3",
   "version": "3.5.2"
  }
 },
 "nbformat": 4,
 "nbformat_minor": 2
}
