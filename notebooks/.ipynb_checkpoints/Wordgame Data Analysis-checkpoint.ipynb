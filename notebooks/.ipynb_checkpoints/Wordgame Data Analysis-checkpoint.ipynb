{
 "cells": [
  {
   "cell_type": "markdown",
   "metadata": {},
   "source": [
    "# WordGame data analysis\n",
    "\n",
    "Welcome to my WordGame project! In this first notebook, our goal is to extract interesting features from the Wordgame dataset, a dataset containing 0.3M word-word associations scraped from Word Association Games running on 10 internet forums. Finding meaningful features in this dataset is necessary to build a classification model and in itself may already provide novel insights into the human mind. \n",
    "\n",
    "Let's open up the dataset."
   ]
  },
  {
   "cell_type": "code",
   "execution_count": 67,
   "metadata": {
    "scrolled": true
   },
   "outputs": [
    {
     "data": {
      "text/html": [
       "<div>\n",
       "<table border=\"1\" class=\"dataframe\">\n",
       "  <thead>\n",
       "    <tr style=\"text-align: right;\">\n",
       "      <th></th>\n",
       "      <th>author</th>\n",
       "      <th>word1</th>\n",
       "      <th>word2</th>\n",
       "      <th>source</th>\n",
       "    </tr>\n",
       "  </thead>\n",
       "  <tbody>\n",
       "    <tr>\n",
       "      <th>0</th>\n",
       "      <td>4688</td>\n",
       "      <td>Crows</td>\n",
       "      <td>Feet</td>\n",
       "      <td>the_fishy</td>\n",
       "    </tr>\n",
       "    <tr>\n",
       "      <th>1</th>\n",
       "      <td>4841</td>\n",
       "      <td>Salute</td>\n",
       "      <td>Respect</td>\n",
       "      <td>the_fishy</td>\n",
       "    </tr>\n",
       "    <tr>\n",
       "      <th>2</th>\n",
       "      <td>1732</td>\n",
       "      <td>Pride</td>\n",
       "      <td>Arrogance</td>\n",
       "      <td>gog</td>\n",
       "    </tr>\n",
       "    <tr>\n",
       "      <th>3</th>\n",
       "      <td>1272</td>\n",
       "      <td>knife</td>\n",
       "      <td>butter</td>\n",
       "      <td>gog</td>\n",
       "    </tr>\n",
       "    <tr>\n",
       "      <th>4</th>\n",
       "      <td>418</td>\n",
       "      <td>Bed Head</td>\n",
       "      <td>My hair right now</td>\n",
       "      <td>atu2</td>\n",
       "    </tr>\n",
       "  </tbody>\n",
       "</table>\n",
       "</div>"
      ],
      "text/plain": [
       "  author     word1              word2     source\n",
       "0   4688     Crows               Feet  the_fishy\n",
       "1   4841    Salute            Respect  the_fishy\n",
       "2   1732     Pride          Arrogance        gog\n",
       "3   1272     knife             butter        gog\n",
       "4    418  Bed Head  My hair right now       atu2"
      ]
     },
     "execution_count": 67,
     "metadata": {},
     "output_type": "execute_result"
    }
   ],
   "source": [
    "import pandas as pd\n",
    "import numpy as np\n",
    "import matplotlib.pyplot as plt\n",
    "import seaborn as sns\n",
    "\n",
    "#df = pd.read_csv('../input/wordgame_201706.csv')\n",
    "df = pd.read_csv('../data/processed/wordgame_201706.csv', dtype='object')\n",
    "#store words as string\n",
    "df['word1'] = df['word1'].astype('str') \n",
    "df['word2'] = df['word2'].astype('str') \n",
    "#print first rows\n",
    "df.head()"
   ]
  },
  {
   "cell_type": "markdown",
   "metadata": {},
   "source": [
    "The dataset contains 4 columns; author, word1, word2 and source. Word1 and word2 can also be a phrase or in some cases even a whole sentence. In each row, word1 is the given word and word2 is the word-association the **author** had after reading that word. Source represents from which forum the information was scraped. Note that the set words 'word1' is identical to the set 'word2', except for some small differences due to dropping some word pairs in the data cleaning process, since a word association game is basically a long chain of words in which each new word is always followed by a next association and so on. Also note, that a 'word' usually consists of only one term, but it can also be a phrase (e.g. Game of Thrones) or in some cases a whole sentence.  "
   ]
  },
  {
   "cell_type": "markdown",
   "metadata": {},
   "source": [
    "## Sources\n",
    "We have data from 10 sources, respectively <a href=\"https://www.aspiescentral.com\">Aspies Central</a>, <a href=\"forum.atu2.com\">@U2</a>, <a href=\"bleepingcomputer.com\">BleepingComputer</a>, <a href=\"classiccomics.org\">Classic Comics</a>, <a href=\"https://www.e-cigarette-forum.com\">ECF</a>, GOG, <a href=\"http://learn-english-forum.org/\">Learn English Forum</a>, SAS, The Fishy and <a href=\"www.wrongplanet.net\">Wrong Planet</a>. We do not know details like the gender and the age of the users of the different online communities, so even if we would be able to build a multi-class classification model that can classify all pairs with 100% accuracy, we still would be unable to make any conclusions. \n",
    "\n",
    "However, 23% of the data was purposely scraped from autism-related websites, Aspies Central (SourceID: 0) and Wrong Planet (SourceID: 9). Research has shown that persons with an ASD have different brain structure and functionality compared to persons with a neuro-typical (NT) brain, which may lead to different behaviour whilst playing an online Word Association Game. Since we do not have of diagnosical data of all persons in the dataset, we will make the assumption that everyone from the Aspies Central community and the Wrong Planet commununity has autism, and all users from other communities do not have autism. In reality approximately 10% of all people have autism, who will offcourse also be present on non-autism related websites, while also not everyone in a autism-related community has autism themselves (for example NT parents seeking for advise for their autistic child). Thus this assumption will be approximately 90% correct."
   ]
  },
  {
   "cell_type": "code",
   "execution_count": 68,
   "metadata": {},
   "outputs": [
    {
     "name": "stdout",
     "output_type": "stream",
     "text": [
      "Number of NT-pairs: 259770\n",
      "Number of ASD-pairs: 74242\n"
     ]
    }
   ],
   "source": [
    "# create a source ID \n",
    "df['sourceID'] = df['source'].astype('category').cat.codes\n",
    "\n",
    "#returns False for sources 0 and 9 and True for others. \n",
    "def isNt(r):\n",
    "\treturn ((r.sourceID%9)>0)\n",
    "\n",
    "#group sources based on (assumed) brain-structure of their users (neural-typical versus ASD)\n",
    "df['nt'] = df.apply(isNt, axis=1)\n",
    "print(\"Number of NT-pairs: \" + str(len(df[df['nt']])))\n",
    "print(\"Number of ASD-pairs: \" + str(len(df[df['nt']==False])))"
   ]
  },
  {
   "cell_type": "markdown",
   "metadata": {},
   "source": [
    "## Word length\n",
    "We are now ready to extract our first feature, which will be the word length. I do not expect any differences between NT'ers and ASD'ers, although I'm curious to what is the average length of English words. "
   ]
  },
  {
   "cell_type": "code",
   "execution_count": 69,
   "metadata": {},
   "outputs": [
    {
     "name": "stdout",
     "output_type": "stream",
     "text": [
      "Longest word: 200\n"
     ]
    },
    {
     "data": {
      "image/png": "[encoded data removed]",
      "text/plain": [
       "<matplotlib.figure.Figure at 0x7f4c30ea5e48>"
      ]
     },
     "metadata": {},
     "output_type": "display_data"
    }
   ],
   "source": [
    "df['len1'] = df['word1'].apply(lambda x:len(x))\n",
    "df['len2'] = df['word2'].apply(lambda x:len(x))\n",
    "print(\"Longest word: \" +str(df['len1'].max()))\n",
    "\n",
    "## plot word length histogram\n",
    "nt = df[df['nt']].len1\n",
    "asd = df[df['nt']==False].len1\n",
    "\n",
    "w1 = np.ones_like(nt)/len(nt)\n",
    "w2 = np.ones_like(asd)/len(asd)\n",
    "\n",
    "bins = np.arange(1,21)\n",
    "\n",
    "plt.figure(figsize=(12, 5))\n",
    "plt.hist(nt, bins=bins, alpha=0.5, label=\"NT\", weights=w1)\n",
    "plt.hist(asd, bins=bins,alpha=0.5, label=\"ASD\", weights=w2)\n",
    "plt.title('Histogram of word lengths')\n",
    "plt.xlabel('Word length')\n",
    "plt.ylabel('Frequency')\n",
    "plt.legend(loc='upper right')\n",
    "axes = plt.gca()\n",
    "axes.set_xlim([1,20])\n",
    "plt.show()"
   ]
  },
  {
   "cell_type": "markdown",
   "metadata": {},
   "source": [
    "A post contains on average 7 characters. Most words are between 3 and 15 characters long. The longest word (although it is probably a sentence) is 200 characters long. Interestingly, both NT'ers and ASD'ers use words with exactly 7 characters with similar frequency although **ASD'ers tend to use words shorter than 7 characters less frequently and longer words slightly more frequently.**"
   ]
  },
  {
   "cell_type": "markdown",
   "metadata": {},
   "source": [
    "## User activity\n",
    "Another highly important aspect is the number and distribution of users, because ultimately we want to develop a generalizable model and not a model that models the the difference between user A and user B. Fortunately, we have a very large dataset, which makes the distribution of users a little less important. "
   ]
  },
  {
   "cell_type": "code",
   "execution_count": 24,
   "metadata": {},
   "outputs": [
    {
     "name": "stdout",
     "output_type": "stream",
     "text": [
      "Post count of most active user: 11053\n",
      "Total number of users: 6256\n",
      "\tNumber of NT'ers: 4482\n",
      "\tNumber of ASD'ers: 1774\n"
     ]
    },
    {
     "data": {
      "image/png": "[encoded data removed]",
      "text/plain": [
       "<matplotlib.figure.Figure at 0x7f4c3dbe5048>"
      ]
     },
     "metadata": {},
     "output_type": "display_data"
    }
   ],
   "source": [
    "#\n",
    "print(\"Post count of most active user: \" + str(df['author'].value_counts().max()))\n",
    "print(\"Total number of users: \" + str(len(df.groupby(['author']))))\n",
    "\n",
    "nt = df[df['nt']]\n",
    "asd = df[df['nt']==False]\n",
    "nt = nt['author'].value_counts()\n",
    "asd = asd['author'].value_counts()\n",
    "\n",
    "print(\"\\tNumber of NT'ers: \" + str(len(nt)))\n",
    "print(\"\\tNumber of ASD'ers: \" + str(len(asd)))\n",
    "\n",
    "bins = np.arange(1,11800,100)\n",
    "w1 = np.ones_like(nt)/len(nt)\n",
    "w2 = np.ones_like(asd)/len(asd)\n",
    "\n",
    "#Plot\n",
    "plt.figure(figsize=(20, 5))\n",
    "plt.hist(nt, bins=bins, alpha=0.5, label=\"NT\", weights=w1)\n",
    "plt.hist(asd, bins=bins, alpha=0.5, label=\"ASD\", weights=w2)\n",
    "plt.yscale('log')\n",
    "plt.title('Log-Histogram of posts per author')\n",
    "plt.xlabel('Number of posts')\n",
    "plt.ylabel('Weighted frequency')\n",
    "plt.legend(loc='upper right')\n",
    "axes = plt.gca()\n",
    "axes.set_xlim([1,11800])\n",
    "plt.show()"
   ]
  },
  {
   "cell_type": "markdown",
   "metadata": {},
   "source": [
    "Fortunately, almost 100% of all users in both datasets have 100 or less posts. However, there are are also 3 users in the NT set who have more than 7000 posts each, one of these users even has 11053 posts, accounting for 5% of the whole NT dataset. I think he is bit obsessed with the word game.. It might be better randomly drop most of their posts from the dataset, but for now I will leave them in. "
   ]
  },
  {
   "cell_type": "markdown",
   "metadata": {},
   "source": [
    "## Frequent words\n",
    "So far we know that we have more 300000 posts from more than 6000 users, but what are the most frequently occurring words? Will these words be very meaningful or just random?"
   ]
  },
  {
   "cell_type": "code",
   "execution_count": 72,
   "metadata": {},
   "outputs": [
    {
     "name": "stdout",
     "output_type": "stream",
     "text": [
      "NT'ers most frequent words:\n",
      "water    488\n",
      "time     437\n",
      "music    404\n",
      "love     364\n",
      "fire     340\n",
      "house    337\n",
      "ball     334\n",
      "money    332\n",
      "game     330\n",
      "man      330\n",
      "Name: word2, dtype: int64\n",
      "ASD'ers most frequent words:\n",
      "water    159\n",
      "food     131\n",
      "music    130\n",
      "money    122\n",
      "death    112\n",
      "dog      107\n",
      "fire     106\n",
      "time     101\n",
      "love      95\n",
      "blood     92\n",
      "Name: word2, dtype: int64\n"
     ]
    }
   ],
   "source": [
    "# convert all words to lowercase\n",
    "df['word1'] = df['word1'].map(str).apply(lambda x: x.lower())\n",
    "df['word2'] = df['word2'].map(str).apply(lambda x: x.lower())\n",
    "\n",
    "# split NT and ASD data\n",
    "nt = df[df['nt']]\n",
    "asd = df[df['nt']==False]\n",
    "\n",
    "#word count\n",
    "print(\"NT'ers most frequent words:\\n\" + str(nt['word2'].value_counts().head(10)))\n",
    "print(\"ASD'ers most frequent words:\\n\" + str(asd['word2'].value_counts().head(10)))"
   ]
  },
  {
   "cell_type": "markdown",
   "metadata": {},
   "source": [
    "The most frequent words are definitely meaningful and **NT'ers and ASD'ers seem to use the same words most frequently.** Both groups even agree that *water* is (by far) the most important word of all and that *music* is the third most important word. "
   ]
  },
  {
   "cell_type": "markdown",
   "metadata": {},
   "source": [
    "## Levenshtein Distance\n",
    "We can expect that the pairs word1-word2 contain the most the most information about the human mind. For example, when someone says *rice* you might say *food* whereas I might say *mice* (because rice sounds like mice). Which of these types of word associations can be considered to be more typically autistic?\n",
    "\n",
    "To determine this, we will use the **Levensthein Distance** (also called edit distance), which measures the similarity of two words by counting the minimum number of character *edits* (insertion, deletion or substitution) required to change one word into the other. In our example rice->food will has edit distance 4, whereas rice->mice has edit distance 1.  "
   ]
  },
  {
   "cell_type": "code",
   "execution_count": 73,
   "metadata": {},
   "outputs": [
    {
     "name": "stdout",
     "output_type": "stream",
     "text": [
      "Mean edit distance: 6.81435996312\n"
     ]
    }
   ],
   "source": [
    "import Levenshtein\n",
    "\n",
    "def levenshtein(r):\n",
    "\treturn Levenshtein.distance(r.word1, r.word2)\n",
    "\n",
    "#calculate levenstein distance on each row and add to dataframe\n",
    "df['edit'] = df.apply(levenshtein, axis=1)\n",
    "\n",
    "#print mean edit distance\n",
    "print(\"Mean edit distance: \"+ str(df['edit'].mean()))"
   ]
  },
  {
   "cell_type": "code",
   "execution_count": 81,
   "metadata": {},
   "outputs": [
    {
     "data": {
      "image/png": "[encoded data removed]",
      "text/plain": [
       "<matplotlib.figure.Figure at 0x7f4c31124b70>"
      ]
     },
     "metadata": {},
     "output_type": "display_data"
    }
   ],
   "source": [
    "#delete outliers in terms of word length\n",
    "#df = df[(2 < df['len1']) & (df['len1'] < 18) & (2 < df['len2']) & (df['len2'] < 18)]\n",
    "\n",
    "#split data into NT and ASD set\n",
    "nt = df[(df['nt'] == True)]\n",
    "asd = df[(df['nt'] == False)]\n",
    "\n",
    "bins = np.arange(0,20)\n",
    "weights_nt = np.ones_like(nt['edit'])/len(nt['edit'])\n",
    "weights_asd = np.ones_like(asd['edit'])/len(asd['edit'])\n",
    "\n",
    "#Plot\n",
    "plt.figure(figsize=(12, 5))\n",
    "plt.hist(nt['edit'], bins=bins, alpha=0.5, label=\"NT\", weights=weights_nt)\n",
    "plt.hist(asd['edit'], bins=bins, alpha=0.5, label=\"ASD\", weights=weights_asd)\n",
    "plt.title('Histogram of edit distance')\n",
    "plt.xlabel('Edit distance')\n",
    "plt.ylabel('Frequency')\n",
    "plt.legend(loc='upper right')\n",
    "axes = plt.gca()\n",
    "axes.set_xlim([0,19])\n",
    "plt.show()"
   ]
  },
  {
   "cell_type": "markdown",
   "metadata": {},
   "source": [
    "The edit distance distribution is consistent with the word length distribution, thus there are **no differences between NT'ers and ASD'ers in terms of edit distance.**"
   ]
  },
  {
   "cell_type": "code",
   "execution_count": null,
   "metadata": {
    "collapsed": true
   },
   "outputs": [],
   "source": [
    "Next notebook.."
   ]
  }
 ],
 "metadata": {
  "kernelspec": {
   "display_name": "Python 3",
   "language": "python",
   "name": "python3"
  },
  "language_info": {
   "codemirror_mode": {
    "name": "ipython",
    "version": 3
   },
   "file_extension": ".py",
   "mimetype": "text/x-python",
   "name": "python",
   "nbconvert_exporter": "python",
   "pygments_lexer": "ipython3",
   "version": "3.5.2"
  }
 },
 "nbformat": 4,
 "nbformat_minor": 2
}
