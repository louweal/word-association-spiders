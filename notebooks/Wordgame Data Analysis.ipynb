{
 "cells": [
  {
   "cell_type": "markdown",
   "metadata": {},
   "source": [
    "#The mysteries behind word associations¶\n",
    "\n",
    "Welcome to my first notebook. Here, our goal is to extract interesting features from the Wordgame dataset, \n",
    "a dataset containing 0.3M word-word associations scraped from Word Association Games running on 10 internet forums. \n",
    "This basic feature extraction could be useful to gain insight into the the properties of the dataset, \n",
    "which could be used to construct better classification models.\n",
    "\n",
    "##Data exploration\n",
    "\n",
    "Let's open up the dataset."
   ]
  },
  {
   "cell_type": "code",
   "execution_count": 4,
   "metadata": {},
   "outputs": [
    {
     "data": {
      "text/html": [
       "<div>\n",
       "<table border=\"1\" class=\"dataframe\">\n",
       "  <thead>\n",
       "    <tr style=\"text-align: right;\">\n",
       "      <th></th>\n",
       "      <th>author</th>\n",
       "      <th>word1</th>\n",
       "      <th>word2</th>\n",
       "      <th>source</th>\n",
       "    </tr>\n",
       "  </thead>\n",
       "  <tbody>\n",
       "    <tr>\n",
       "      <th>0</th>\n",
       "      <td>4688</td>\n",
       "      <td>Crows</td>\n",
       "      <td>Feet</td>\n",
       "      <td>the_fishy</td>\n",
       "    </tr>\n",
       "    <tr>\n",
       "      <th>1</th>\n",
       "      <td>4841</td>\n",
       "      <td>Salute</td>\n",
       "      <td>Respect</td>\n",
       "      <td>the_fishy</td>\n",
       "    </tr>\n",
       "    <tr>\n",
       "      <th>2</th>\n",
       "      <td>1732</td>\n",
       "      <td>Pride</td>\n",
       "      <td>Arrogance</td>\n",
       "      <td>gog</td>\n",
       "    </tr>\n",
       "    <tr>\n",
       "      <th>3</th>\n",
       "      <td>1272</td>\n",
       "      <td>knife</td>\n",
       "      <td>butter</td>\n",
       "      <td>gog</td>\n",
       "    </tr>\n",
       "    <tr>\n",
       "      <th>4</th>\n",
       "      <td>418</td>\n",
       "      <td>Bed Head</td>\n",
       "      <td>My hair right now</td>\n",
       "      <td>atu2</td>\n",
       "    </tr>\n",
       "    <tr>\n",
       "      <th>5</th>\n",
       "      <td>383</td>\n",
       "      <td>emotion</td>\n",
       "      <td>Feeling</td>\n",
       "      <td>atu2</td>\n",
       "    </tr>\n",
       "    <tr>\n",
       "      <th>6</th>\n",
       "      <td>3213</td>\n",
       "      <td>drive</td>\n",
       "      <td>taxi</td>\n",
       "      <td>sas</td>\n",
       "    </tr>\n",
       "    <tr>\n",
       "      <th>7</th>\n",
       "      <td>4688</td>\n",
       "      <td>Faraway</td>\n",
       "      <td>Distant</td>\n",
       "      <td>the_fishy</td>\n",
       "    </tr>\n",
       "    <tr>\n",
       "      <th>8</th>\n",
       "      <td>483</td>\n",
       "      <td>Respect</td>\n",
       "      <td>RELEVANT</td>\n",
       "      <td>atu2</td>\n",
       "    </tr>\n",
       "    <tr>\n",
       "      <th>9</th>\n",
       "      <td>1804</td>\n",
       "      <td>suburb</td>\n",
       "      <td>downtown</td>\n",
       "      <td>gog</td>\n",
       "    </tr>\n",
       "    <tr>\n",
       "      <th>10</th>\n",
       "      <td>1022</td>\n",
       "      <td>hip</td>\n",
       "      <td>replacement</td>\n",
       "      <td>ecig</td>\n",
       "    </tr>\n",
       "    <tr>\n",
       "      <th>11</th>\n",
       "      <td>4688</td>\n",
       "      <td>Change</td>\n",
       "      <td>Clothing</td>\n",
       "      <td>the_fishy</td>\n",
       "    </tr>\n",
       "    <tr>\n",
       "      <th>12</th>\n",
       "      <td>1751</td>\n",
       "      <td>censored</td>\n",
       "      <td>Mosaic</td>\n",
       "      <td>gog</td>\n",
       "    </tr>\n",
       "    <tr>\n",
       "      <th>13</th>\n",
       "      <td>318</td>\n",
       "      <td>Heeeeyy</td>\n",
       "      <td>Teens</td>\n",
       "      <td>atu2</td>\n",
       "    </tr>\n",
       "    <tr>\n",
       "      <th>14</th>\n",
       "      <td>6193</td>\n",
       "      <td>Glug</td>\n",
       "      <td>Gulp</td>\n",
       "      <td>wrongplanet</td>\n",
       "    </tr>\n",
       "  </tbody>\n",
       "</table>\n",
       "</div>"
      ],
      "text/plain": [
       "    author     word1              word2       source\n",
       "0     4688     Crows               Feet    the_fishy\n",
       "1     4841    Salute            Respect    the_fishy\n",
       "2     1732     Pride          Arrogance          gog\n",
       "3     1272     knife             butter          gog\n",
       "4      418  Bed Head  My hair right now         atu2\n",
       "5      383   emotion            Feeling         atu2\n",
       "6     3213     drive               taxi          sas\n",
       "7     4688   Faraway            Distant    the_fishy\n",
       "8      483   Respect           RELEVANT         atu2\n",
       "9     1804    suburb           downtown          gog\n",
       "10    1022       hip        replacement         ecig\n",
       "11    4688    Change           Clothing    the_fishy\n",
       "12    1751  censored             Mosaic          gog\n",
       "13     318   Heeeeyy              Teens         atu2\n",
       "14    6193      Glug               Gulp  wrongplanet"
      ]
     },
     "execution_count": 4,
     "metadata": {},
     "output_type": "execute_result"
    }
   ],
   "source": [
    "import pandas as pd\n",
    "import numpy as np\n",
    "\n",
    "df = pd.read_csv('../data/processed/wordgame_201706.csv')\n",
    "df.head(15)"
   ]
  },
  {
   "cell_type": "markdown",
   "metadata": {},
   "source": [
    "And print some statistics of the dataset."
   ]
  },
  {
   "cell_type": "code",
   "execution_count": 5,
   "metadata": {},
   "outputs": [
    {
     "name": "stdout",
     "output_type": "stream",
     "text": [
      "Total number of word pairs: 334012\n"
     ]
    }
   ],
   "source": [
    "print(\"Total number of word pairs: \" + str(len(df)))\n",
    "# and more.."
   ]
  },
  {
   "cell_type": "markdown",
   "metadata": {},
   "source": [
    "Indeed we have approximately ~0.3M word-pairs. Considering that each word appears twice in the dataset, we also have ~0.3M words contributed by different users at different forums. Due to filtering of pairs containing NaN (empty) values, this is not exactly true, but we simply ignore that for now. Given this enormous bag of words, what would be the most frequently occurring words? Would it be random words like 'fork' or would it represent the most important aspects of life?"
   ]
  },
  {
   "cell_type": "code",
   "execution_count": 6,
   "metadata": {},
   "outputs": [
    {
     "name": "stdout",
     "output_type": "stream",
     "text": [
      "water    647\n",
      "time     538\n",
      "music    534\n",
      "love     459\n",
      "money    454\n",
      "fire     446\n",
      "food     439\n",
      "Name: word2, dtype: int64\n"
     ]
    }
   ],
   "source": [
    "# convert all words to lowercase, otherwise 'Fork' and 'fork' will be counted seperately\n",
    "df['word1'] = df['word1'].map(str).apply(lambda x: x.lower())\n",
    "df['word2'] = df['word2'].map(str).apply(lambda x: x.lower())\n",
    "print(df['word2'].value_counts().head(7))"
   ]
  },
  {
   "cell_type": "markdown",
   "metadata": {},
   "source": [
    "## No forks...\n",
    "It appears that the most frequent words occuring in association games, are not random at all. Some of the words even are the most important aspects of life, water and food for example...   "
   ]
  },
  {
   "cell_type": "markdown",
   "metadata": {
    "collapsed": true
   },
   "source": [
    "(Maybe move to another notebook?)\n",
    "\n"
   ]
  },
  {
   "cell_type": "code",
   "execution_count": 16,
   "metadata": {},
   "outputs": [
    {
     "name": "stdout",
     "output_type": "stream",
     "text": [
      "water    647\n",
      "time     538\n",
      "music    534\n",
      "love     459\n",
      "money    454\n",
      "fire     446\n",
      "food     439\n",
      "game     407\n",
      "house    405\n",
      "dog      405\n",
      "ball     393\n",
      "man      391\n",
      "red      387\n",
      "life     373\n",
      "green    373\n",
      "death    372\n",
      "light    357\n",
      "Name: word2, dtype: int64\n",
      "water        159\n",
      "food         131\n",
      "music        130\n",
      "money        122\n",
      "death        112\n",
      "dog          107\n",
      "fire         106\n",
      "time         101\n",
      "love          95\n",
      "blood         92\n",
      "cat           91\n",
      "red           87\n",
      "tree          85\n",
      "chocolate     85\n",
      "green         85\n",
      "war           83\n",
      "fish          83\n",
      "Name: word2, dtype: int64\n"
     ]
    }
   ],
   "source": [
    "nt = df[(df['source'] != \"wrongplanet\") | (df['source'] != \"aspiecentral\")]\n",
    "#nt['nt'] = 1\n",
    "asd  = df[(df['source'] == \"wrongplanet\") | (df['source'] == \"aspiecentral\")]\n",
    "#asd['nt'] = 0\n",
    "print(nt['word2'].value_counts().head(17))\n",
    "print(asd['word2'].value_counts().head(17))"
   ]
  },
  {
   "cell_type": "code",
   "execution_count": null,
   "metadata": {
    "collapsed": true
   },
   "outputs": [],
   "source": []
  }
 ],
 "metadata": {
  "kernelspec": {
   "display_name": "Python 3",
   "language": "python",
   "name": "python3"
  },
  "language_info": {
   "codemirror_mode": {
    "name": "ipython",
    "version": 3
   },
   "file_extension": ".py",
   "mimetype": "text/x-python",
   "name": "python",
   "nbconvert_exporter": "python",
   "pygments_lexer": "ipython3",
   "version": "3.5.2"
  }
 },
 "nbformat": 4,
 "nbformat_minor": 2
}
