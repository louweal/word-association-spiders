{
 "cells": [
  {
   "cell_type": "markdown",
   "metadata": {
    "_cell_guid": "1a2b0469-07ab-4f2e-94e3-1a9b449e1da8",
    "_uuid": "cfdc22b3b52f2804a55909c2148ac24cde25ee77"
   },
   "source": [
    "# Words and Brains - Basic Features\n",
    "\n",
    "Welcome to my WordGame project! In this first notebook, we are going to divide the people in this dataset into two neuro-classes and extract some features basic features, such as average word length, for each of these classes.\n",
    " \n",
    "Let's open up the dataset."
   ]
  },
  {
   "cell_type": "code",
   "execution_count": 20,
   "metadata": {
    "_cell_guid": "deb62cff-5811-43ea-97a4-d44f939f708c",
    "_execution_state": "idle",
    "_uuid": "8a2705ef2fd85191f2a276164e99f51188fa0298",
    "collapsed": true,
    "scrolled": true
   },
   "outputs": [],
   "source": [
    "# This Python 3 environment comes with many helpful analytics libraries installed\n",
    "# It is defined by the kaggle/python docker image: https://github.com/kaggle/docker-python\n",
    "# For example, here's several helpful packages to load in \n",
    "\n",
    "import numpy as np # linear algebra\n",
    "import pandas as pd # data processing, CSV file I/O (e.g. pd.read_csv)\n",
    "import matplotlib.pyplot as plt #plotting\n",
    "import seaborn as sns #data visualization\n",
    "\n",
    "# Input data files are available in the \"../input/\" directory.\n",
    "# For example, running this (by clicking run or pressing Shift+Enter) will list the files in the input directory\n",
    "\n",
    "from subprocess import check_output\n",
    "#print(check_output([\"ls\", \"../input/wordgame\"]).decode(\"utf8\"))\n",
    "\n",
    "# Any results you write to the current directory are saved as output."
   ]
  },
  {
   "cell_type": "code",
   "execution_count": 21,
   "metadata": {
    "_execution_state": "idle",
    "_uuid": "1744180f7bd72a3bbc40e847bae8236e293084ba"
   },
   "outputs": [
    {
     "data": {
      "text/html": [
       "<div>\n",
       "<table border=\"1\" class=\"dataframe\">\n",
       "  <thead>\n",
       "    <tr style=\"text-align: right;\">\n",
       "      <th></th>\n",
       "      <th>author</th>\n",
       "      <th>word1</th>\n",
       "      <th>word2</th>\n",
       "      <th>source</th>\n",
       "    </tr>\n",
       "  </thead>\n",
       "  <tbody>\n",
       "    <tr>\n",
       "      <th>0</th>\n",
       "      <td>1203</td>\n",
       "      <td>jailed</td>\n",
       "      <td>imprisoned</td>\n",
       "      <td>ecig</td>\n",
       "    </tr>\n",
       "    <tr>\n",
       "      <th>1</th>\n",
       "      <td>5839</td>\n",
       "      <td>me</td>\n",
       "      <td>liverbird</td>\n",
       "      <td>wrongplanet</td>\n",
       "    </tr>\n",
       "    <tr>\n",
       "      <th>2</th>\n",
       "      <td>2962</td>\n",
       "      <td>reach</td>\n",
       "      <td>up</td>\n",
       "      <td>sas</td>\n",
       "    </tr>\n",
       "    <tr>\n",
       "      <th>3</th>\n",
       "      <td>1066</td>\n",
       "      <td>owie</td>\n",
       "      <td>band-aid</td>\n",
       "      <td>ecig</td>\n",
       "    </tr>\n",
       "    <tr>\n",
       "      <th>4</th>\n",
       "      <td>5006</td>\n",
       "      <td>water</td>\n",
       "      <td>river</td>\n",
       "      <td>wrongplanet</td>\n",
       "    </tr>\n",
       "  </tbody>\n",
       "</table>\n",
       "</div>"
      ],
      "text/plain": [
       "  author   word1       word2       source\n",
       "0   1203  jailed  imprisoned         ecig\n",
       "1   5839      me   liverbird  wrongplanet\n",
       "2   2962   reach          up          sas\n",
       "3   1066    owie    band-aid         ecig\n",
       "4   5006   water       river  wrongplanet"
      ]
     },
     "execution_count": 21,
     "metadata": {},
     "output_type": "execute_result"
    }
   ],
   "source": [
    "pal = sns.color_palette()\n",
    "\n",
    "#df = pd.read_csv('../input/wordgame/wordgame_20170628.csv', dtype='object')\n",
    "df = pd.read_csv('../data/processed/wordgame_20170628.csv', dtype='object')\n",
    "#store words as string\n",
    "df['word1'] = df['word1'].astype('str') \n",
    "df['word2'] = df['word2'].astype('str') \n",
    "\n",
    "# convert all words to lowercase\n",
    "df['word1'] = df['word1'].map(str).apply(lambda x: x.lower())\n",
    "df['word2'] = df['word2'].map(str).apply(lambda x: x.lower())\n",
    "\n",
    "#print first rows\n",
    "df.head()"
   ]
  },
  {
   "cell_type": "markdown",
   "metadata": {
    "_cell_guid": "42bf4bf5-9d8a-4413-acc6-2bfa76c4bd79",
    "_uuid": "f6ead72763253781b7965f079561dd8ff3762dc6"
   },
   "source": [
    "Some word association are really obvious (e.g. jailed -> imprisoned), whereas as others are absolutely not (e.g. ME -> Liverbird?). "
   ]
  },
  {
   "cell_type": "markdown",
   "metadata": {
    "_cell_guid": "c00a326a-e368-4fca-9015-81162717f8ca",
    "_uuid": "6846713d88ae3a03adcee96d09234b684202f698"
   },
   "source": [
    "## Sources\n",
    "We have data from 10 sources. 23% of the data was purposely scraped from autism-related websites, Aspies Central and Wrong Planet. Research has shown that persons with an ASD have different brain structure and functionality compared to persons with a neuro-typical (NT) brain, which may lead to different behaviour whilst playing an online Word Association Game. Since we do not have of diagnosical data of all persons in the dataset, we will make the assumption that everyone from the Aspies Central and Wrong Planet communities have autism, and all users from other communities do not have autism. In reality approximately 10% of all people have autism, and these people will also be present on non-autism related websites, while also not everyone in a autism-related community has autism themselves (for example NT parents seeking for advise for their autistic child). Thus this assumption will be approximately 90% correct."
   ]
  },
  {
   "cell_type": "code",
   "execution_count": 22,
   "metadata": {
    "_cell_guid": "d2517328-a677-4552-b669-c42c1275fabd",
    "_execution_state": "idle",
    "_uuid": "44de61a95a07bdbeaafd284794c0e795011f950e"
   },
   "outputs": [
    {
     "name": "stdout",
     "output_type": "stream",
     "text": [
      "Number of NT-pairs: 259792\n",
      "Number of ASD-pairs: 74244\n"
     ]
    }
   ],
   "source": [
    "# create a source ID \n",
    "df['sourceID'] = df['source'].astype('category').cat.codes\n",
    "\n",
    "#returns False for sources 0 (AspiesCentral) and 9 (WrongPlanet) and True for others. \n",
    "def isNt(r):\n",
    "\treturn ((r.sourceID%9)>0)\n",
    "\n",
    "#group sources based on (assumed) brain-structure of their users (neural-typical versus ASD)\n",
    "df['nt'] = df.apply(isNt, axis=1)\n",
    "print(\"Number of NT-pairs: \" + str(len(df[df['nt']])))\n",
    "print(\"Number of ASD-pairs: \" + str(len(df[df['nt']==False])))"
   ]
  },
  {
   "cell_type": "markdown",
   "metadata": {},
   "source": [
    "# Term frequency"
   ]
  },
  {
   "cell_type": "code",
   "execution_count": 64,
   "metadata": {},
   "outputs": [
    {
     "name": "stdout",
     "output_type": "stream",
     "text": [
      "Number of unique words : 60862\n",
      "Mean term frequency (word1): 0.000252927754057\n",
      "Median term frequency (word1): 0.00012033513334636964\n",
      "NT vs. ASD\n",
      "\tMean term frequency (word1): 0.00019317817985\n",
      "\tMedian term frequency (word1): 8.468313112028084e-05\n"
     ]
    }
   ],
   "source": [
    "#doc length normalization!?\n",
    "#.value_counts()['myword']\n",
    "\n",
    "#10 documents\n",
    "#term frequency without normalization\n",
    "df['tf10_wn'] = df.groupby(['word1','source'])['word1'].transform('count')\n",
    "\n",
    "# normalized term frequency\n",
    "N10 = df.sourceID.value_counts(sort=False).tolist()\n",
    "\n",
    "def normTF10(r):\n",
    "    return r.tf10_wn/(N10[r.sourceID])\n",
    "\n",
    "df['tf10'] = df.apply(normTF10, axis=1)\n",
    "#df.drop('tf10_wn', 1)\n",
    "\n",
    "#2 documents\n",
    "df['tf2_wn'] = df.groupby(['word1','nt'])['word1'].transform('count')\n",
    "\n",
    "# normalized term frequency\n",
    "N2 = df.nt.value_counts(sort=False).tolist()\n",
    "\n",
    "def normTF2(r):\n",
    "    return r.tf2_wn/(N2[r.nt])\n",
    "\n",
    "df['tf2'] = df.apply(normTF2, axis=1)\n",
    "#df.drop('tf2_wn', 1)\n",
    "\n",
    "print(\"Number of unique words : \" + str(len(df['word1'].unique())))\n",
    "print(\"Mean term frequency (word1): \" + str(df['tf10'].mean()))\n",
    "print(\"Median term frequency (word1): \" + str(df['tf10'].median()))\n",
    "\n",
    "print(\"NT vs. ASD\")\n",
    "print(\"\\tMean term frequency (word1): \" + str(df['tf2'].mean()))\n",
    "print(\"\\tMedian term frequency (word1): \" + str(df['tf2'].median()))\n"
   ]
  },
  {
   "cell_type": "markdown",
   "metadata": {},
   "source": [
    "Skewed. Small: large datasets"
   ]
  },
  {
   "cell_type": "code",
   "execution_count": 77,
   "metadata": {},
   "outputs": [
    {
     "name": "stdout",
     "output_type": "stream",
     "text": [
      "334036\n"
     ]
    },
    {
     "data": {
      "image/png": "[encoded data removed]",
      "text/plain": [
       "<matplotlib.figure.Figure at 0x7f62a6654f60>"
      ]
     },
     "metadata": {},
     "output_type": "display_data"
    }
   ],
   "source": [
    "#print(df.groupby(['word1'])['word1'].transform('count').median())\n",
    "#print(df.tf2_wn.median())\n",
    "\n",
    "#\n",
    "sample = df#[df['tf2_wn']>15]\n",
    "print(len(sample))\n",
    "\n",
    "## plot word length histogram\n",
    "nt = sample[sample['nt']==True].tf2\n",
    "asd = sample[sample['nt']==False].tf2\n",
    "\n",
    "w1 = np.ones_like(nt)#/len(nt)\n",
    "w2 = np.ones_like(asd)#/len(asd)\n",
    "\n",
    "bins = np.arange(0,0.0011,0.00002)\n",
    "\n",
    "plt.figure(figsize=(12, 5))\n",
    "plt.hist(nt, bins=bins, alpha=0.5, label=\"NT\", weights=w1)\n",
    "plt.hist(asd, bins=bins,alpha=0.5, label=\"ASD\", weights=w2)\n",
    "#plt.yscale('log')\n",
    "plt.title('Histogram of term frequency')\n",
    "plt.xlabel('normalized term frequency (tf2)')\n",
    "plt.ylabel('Frequency')\n",
    "plt.legend(loc='upper right')\n",
    "axes = plt.gca()\n",
    "#axes.set_xlim([0,0.0003])\n",
    "#axes.set_ylim([0,0.6])\n",
    "plt.show()"
   ]
  },
  {
   "cell_type": "markdown",
   "metadata": {},
   "source": [
    "The ASD set contains more words with a low term frequency. This frequency is normalized by dividing the raw term count by the dataset size, so this is not due to the smaller size of the ASD dataset. Appearantly ASD'ers use more relatively uncommon words. "
   ]
  },
  {
   "cell_type": "markdown",
   "metadata": {},
   "source": [
    "# Document frequency\n"
   ]
  },
  {
   "cell_type": "code",
   "execution_count": 82,
   "metadata": {},
   "outputs": [
    {
     "name": "stdout",
     "output_type": "stream",
     "text": [
      "0     2\n",
      "1    10\n",
      "2     5\n",
      "3     2\n",
      "4    10\n",
      "Name: df10, dtype: int64\n"
     ]
    }
   ],
   "source": [
    "#create postings lists\n",
    "aspieslist = (df['word1'][df['source']==\"aspiecentral\"]).unique().tolist()\n",
    "atu2list = (df['word1'][df['source']==\"atu2\"]).unique().tolist()\n",
    "bleeplist = (df['word1'][df['source']==\"bleeping_computer\"]).unique().tolist()\n",
    "comicslist = (df['word1'][df['source']==\"classic_comics\"]).unique().tolist()\n",
    "eciglist = (df['word1'][df['source']==\"ecig\"]).unique().tolist()\n",
    "goglist = (df['word1'][df['source']==\"gog\"]).unique().tolist()\n",
    "englishlist = (df['word1'][df['source']==\"learn_english\"]).unique().tolist()\n",
    "saslist = (df['word1'][df['source']==\"sas\"]).unique().tolist()\n",
    "fishlist = (df['word1'][df['source']==\"the_fishy\"]).unique().tolist()\n",
    "wronglist = (df['word1'][df['source']==\"wrongplanet\"]).unique().tolist()\n",
    "\n",
    "df['df10'] = (df['word1'].isin(aspieslist).astype(int) + df['word1'].isin(atu2list).astype(int) \n",
    "             + df['word1'].isin(bleeplist).astype(int) + df['word1'].isin(comicslist).astype(int)\n",
    "             + df['word1'].isin(eciglist).astype(int) + df['word1'].isin(goglist).astype(int)\n",
    "             + df['word1'].isin(englishlist).astype(int) + df['word1'].isin(saslist).astype(int)\n",
    "             + df['word1'].isin(fishlist).astype(int) + df['word1'].isin(wronglist).astype(int))\n",
    "\n",
    "ntlist = (df['word1'][df['nt']==True]).unique().tolist()\n",
    "asdlist = (df['word1'][df['nt']==False]).unique().tolist()\n",
    "df['df2'] = (df['word1'].isin(ntlist).astype(int) + df['word1'].isin(asdlist).astype(int))\n",
    "\n",
    "print(df.df10.head())"
   ]
  },
  {
   "cell_type": "markdown",
   "metadata": {},
   "source": [
    "# Pair frequency!"
   ]
  },
  {
   "cell_type": "code",
   "execution_count": 80,
   "metadata": {},
   "outputs": [
    {
     "name": "stdout",
     "output_type": "stream",
     "text": [
      "Number of unique pairs : 249951\n",
      "Mean pair frequency: 1.40698607336\n",
      "Median pair frequency: 1.0\n",
      "Top 20 most frequent word pairs: \n",
      "\t['me:you', 'man:woman', 'up:down', 'time:clock', 'meow:meow', 'green:grass', 'dog:cat', 'house:home', 'lost:found', 'out:in', 'down:under', 'life:death', 'book:worm', 'out:side', 'doctor:who', 'day:night', 'red:blood', 'movie:film', 'king:queen', 'love:hate']\n"
     ]
    }
   ],
   "source": [
    "#concatenate word1 and word2 separated by a special character which does not appear in the words itself\n",
    "def concat(r):\n",
    "    return r.word1 + \":\" + r.word2\n",
    "\n",
    "#normalization!!\n",
    "df['pair'] = df.apply(concat, axis=1)\n",
    "\n",
    "df['pf'] = df.groupby(['pair'])['pair'].transform('count')\n",
    "df['pf2'] = df.groupby(['pair','nt'])['pair'].transform('count')\n",
    "df['pf10'] = df.groupby(['pair','source'])['pair'].transform('count')\n",
    "\n",
    "print(\"Number of unique pairs : \" + str(len(df['pair'].unique())))\n",
    "\n",
    "#10s\n",
    "print(\"Mean pair frequency: \" + str(df['pf10'].mean()))\n",
    "print(\"Median pair frequency: \" + str(df['pf10'].median()))\n",
    "\n",
    "freq_pairs = df.sort_values(by=['pf'], ascending=False)['pair'].unique().tolist()\n",
    "\n",
    "print(\"Top 20 most frequent word pairs: \\n\\t\"+str(freq_pairs[0:20]))"
   ]
  },
  {
   "cell_type": "markdown",
   "metadata": {},
   "source": [
    "# TFIDF"
   ]
  },
  {
   "cell_type": "code",
   "execution_count": 87,
   "metadata": {
    "collapsed": true
   },
   "outputs": [],
   "source": [
    "#smoothed\n",
    "\n",
    "#although unsmoothed also provides interesting insights (all words in all 10 documents are ignored)\n",
    "# explain 10+1 and 2+3\n",
    "def tfidf10(r):\n",
    "    return (r.tf10)*(np.log(1+(10/r.df10)))\n",
    "\n",
    "#numpy log = math.log?? =?\n",
    "df['tfidf10'] = df.apply(tfidf10, axis=1)\n",
    "\n",
    "\n",
    "def tfidf2(r):\n",
    "    return (r.tf2)*(np.log(1+(2/r.df2)))\n",
    "\n",
    "#numpy log = math.log?? =?\n",
    "df['tfidf2'] = df.apply(tfidf2, axis=1)\n",
    "\n",
    "#print(df['tfidf10'].head(60))\n",
    "#print(df['tfidf2'].head(60))"
   ]
  },
  {
   "cell_type": "code",
   "execution_count": 8,
   "metadata": {},
   "outputs": [
    {
     "name": "stdout",
     "output_type": "stream",
     "text": [
      "326738    aspiecentral\n",
      "Name: source, dtype: object\n",
      "['music' 'dog' 'fish' 'cat' 'chocolate' 'man' 'game' 'water' 'house' 'time']\n",
      "319118    atu2\n",
      "Name: source, dtype: object\n",
      "['bono' 'u2' 'love' 'music' 'the edge' 'me' 'macphisto' 'green'\n",
      " \"visitors can't see pics\" 'money']\n",
      "254002    bleeping_computer\n",
      "Name: source, dtype: object\n",
      "['time' 'food' 'head' 'cake' 'music' 'pie' 'ball' 'fish' 'water' 'ship']\n",
      "307084    classic_comics\n",
      "Name: source, dtype: object\n",
      "['man' 'water' 'dog' 'house' 'bird' 'black' 'money' 'power' 'cat' 'game']\n",
      "184902    ecig\n",
      "Name: source, dtype: object\n",
      "['out' 'down' 'ball' 'house' 'up' 'deter' 'happy' 'fire' 'play' 'party']\n",
      "61872    gog\n",
      "Name: source, dtype: object\n",
      "['dickory' \"ninja'd\" 'water' 'death' 'game' 'time' 'fire' 'food' 'space'\n",
      " 'music']\n",
      "63897    learn_english\n",
      "Name: source, dtype: object\n",
      "['love' 'life' 'winter' 'music' 'fun' 'food' 'mother' 'night' 'soul' 'cold']\n",
      "73938    sas\n",
      "Name: source, dtype: object\n",
      "['water' 'time' 'house' 'music' 'light' 'down' 'car' 'life' 'ball' 'money']\n",
      "329063    the_fishy\n",
      "Name: source, dtype: object\n",
      "['grimsby' 'man' 'time' 'scunthorpe' 'black' 'ball' 'mariners' 'dog' 'fish'\n",
      " 'out']\n",
      "95412    wrongplanet\n",
      "Name: source, dtype: object\n",
      "['water' 'food' 'death' 'music' 'money' 'fire' 'time' 'love' 'blood' 'dog']\n"
     ]
    }
   ],
   "source": [
    "temp = df.sort_values(by=['tfidf10'], ascending=False)\n",
    "for i in range(0,10):\n",
    "    tslice = temp[temp['sourceID']==i]\n",
    "    print(tslice['source'].head(1))\n",
    "    tslice = tslice['word1'].unique()\n",
    "    print(tslice[0:10])\n",
    "    "
   ]
  },
  {
   "cell_type": "markdown",
   "metadata": {},
   "source": [
    "OMG wrongplanet is sooo nerdy O_o"
   ]
  },
  {
   "cell_type": "markdown",
   "metadata": {},
   "source": [
    "# PFIDF\n",
    "\n"
   ]
  },
  {
   "cell_type": "code",
   "execution_count": 84,
   "metadata": {
    "scrolled": true
   },
   "outputs": [
    {
     "name": "stdout",
     "output_type": "stream",
     "text": [
      "['gasket:seal' 'fargo:bank' 'rutgers:university' 'my word:my word'\n",
      " 'reenactment:civil war' 'standard deviation:math' 'walkie talkie:patient'\n",
      " 'galactica:pegasus' 'the old country:ireland' 'thunderstorms:lightning']\n",
      "['no line on the horizon:magnificent' 'bono:edge' \"o'connell street:dublin\"\n",
      " 'guitar hero:the edge' 'brad pitt:angelina jolie' 'bono:vox'\n",
      " \"the claw:edge's spaceship\" \"bono:o'connell street\" 'bono:glasses'\n",
      " 'dublin:ireland']\n",
      "['epidermis:skin' 'bleeping:sound' 'concourse:airport' 'zorba:ouzo'\n",
      " 'basketbtw:basketbtw' 'ivories:elephant' 'solver:detective' 'sass:afrass'\n",
      " 'heals:wounds' 'litigation:court']\n",
      "['nathaniel:hawthorne' 'jerry lewis:dean martin' 'irving:forbush'\n",
      " 'encounters:brief' 'wight:barrow' 'simon:says' 'scrotum:sac' 'emma:frost'\n",
      " 'peregrine:france' 'masking:tape']\n",
      "['plugged:up' 'grabbed:snatched' 'racks:shelves' 'deter:dissuade'\n",
      " 'demonstrate:exhibit' 'came:went' 'harass:bother' 'bother:pester'\n",
      " 'squeal:pig' 'jubilant:happy']\n",
      "['kombat:mortal' 'dollie:tuna' 'pussy:cat' 'glimmer:despair'\n",
      " 'quaffing:hickoring' 'sycophant:crawl' 'avian:flu' 'gog:bear'\n",
      " 'blowsy:dickory' 'copycat:killer']\n",
      "['landownership:property' 'sing along:karaoke'\n",
      " 'eye sight:short-sightedness' 'fish and chips - london:london eye'\n",
      " 'vivtory:what' 'motherday:respect'\n",
      " 'silver lining playbook:mysterious girl' 'elbrus:russia'\n",
      " 'honor killing:tomato bullfight' 'lynne:social work']\n",
      "['abilify:medication' 'meow:meow' 'audio:video' 'sedan:coupe'\n",
      " 'social anxiety:disorder' 'sas:anxiety' 'autumnal:colors' 'upside:down'\n",
      " 'habits:routine' 'besotted:infatuated']\n",
      "['test 1:test 2' 'test 2:test 3' 'grimsby:town' 'grimsby:docks'\n",
      " 'grimsby:great' 'docks:fish' 'mariners:rest' 'scunthorpe:dump'\n",
      " 'haystacks:giant' 'beano:dandy']\n",
      "['sails:wind' \"asperger's:syndrome\" 'fauna:flora'\n",
      " 'superboyian:supergirlian' 'armegeddon:apocalypse' 'overused:worn'\n",
      " 'pot of gold:rainbow' 'high voltage:electricity' 'routemaster:london'\n",
      " 'bobbies:pins']\n"
     ]
    }
   ],
   "source": [
    "def pfidf10(r):\n",
    "    return (r.pf10)*(np.log(10/r.df10))\n",
    "\n",
    "#numpy log = math.log?? =?\n",
    "df['pfidf10'] = df.apply(pfidf10, axis=1)\n",
    "\n",
    "temp = df.sort_values(by=['pfidf10'], ascending=False)\n",
    "for i in range(0,10):\n",
    "    tslice = temp[temp['sourceID']==i]\n",
    "    tslice = tslice['pair'].unique()\n",
    "    print(tslice[0:10])\n",
    "    \n",
    "def pfidf2(r):\n",
    "    return (r.pf2)*(np.log(2/r.df2))\n",
    "\n",
    "#numpy log = math.log?? =?\n",
    "df['pfidf2'] = df.apply(pfidf2, axis=1)\n",
    "\n"
   ]
  },
  {
   "cell_type": "markdown",
   "metadata": {},
   "source": [
    "# Plot"
   ]
  },
  {
   "cell_type": "code",
   "execution_count": 121,
   "metadata": {},
   "outputs": [
    {
     "name": "stdout",
     "output_type": "stream",
     "text": [
      "82291\n"
     ]
    },
    {
     "data": {
      "image/png": "[encoded data removed]",
      "text/plain": [
       "<matplotlib.figure.Figure at 0x7f62b95b6630>"
      ]
     },
     "metadata": {},
     "output_type": "display_data"
    }
   ],
   "source": [
    "sample = df[df['df10']>9] #garbage out\n",
    "print(len(sample))\n",
    "\n",
    "bins = np.arange(0,0.002,0.00005)\n",
    "\n",
    "plt.figure(figsize=(12, 5))\n",
    "\n",
    "for i in reversed(range(0,2)):\n",
    "    s = sample[sample['nt']==i]\n",
    "    tfidf = s.tf2\n",
    "    #print(s.head())\n",
    "    plt.hist(tfidf, bins=bins, alpha=0.5, label=str(s.iloc[0]['nt']), weights=(np.ones_like(tfidf)/len(tfidf)))  \n",
    "\n",
    "for i in range(0,10,9):\n",
    "    s = sample[sample['sourceID']==i]\n",
    "    tfidf = s.tfidf10\n",
    "    #plt.hist(tfidf, bins=bins, alpha=0.3, label=s.iloc[0]['source'], weights=(np.ones_like(tfidf)/len(tfidf)))  \n",
    "\n",
    "\n",
    "#plt.hist(asd, bins=bins,alpha=0.5, label=\"ASD\", weights=w2)\n",
    "#plt.yscale('log')\n",
    "plt.title('Log-histogram of tf (only words occuring in all documents)')\n",
    "plt.xlabel('tf')\n",
    "plt.ylabel('Frequency')\n",
    "plt.legend(loc='upper right')\n",
    "axes = plt.gca()\n",
    "#axes.set_xlim([-5,160])\n",
    "plt.show()"
   ]
  },
  {
   "cell_type": "markdown",
   "metadata": {},
   "source": [
    "buhbuh :(\n",
    "\n",
    "to do make a nice plot:\n",
    "\n",
    "https://juliasilge.com/blog/term-frequency-tf-idf/ \n",
    "\n",
    "maybe df is better?"
   ]
  },
  {
   "cell_type": "code",
   "execution_count": 13,
   "metadata": {},
   "outputs": [
    {
     "name": "stdout",
     "output_type": "stream",
     "text": [
      "6.56239222147\n",
      "6.35056031464\n"
     ]
    }
   ],
   "source": [
    "print(df[df['nt']].df10.mean())\n",
    "print(df[df['nt']==False].df10.mean())"
   ]
  },
  {
   "cell_type": "markdown",
   "metadata": {
    "_cell_guid": "45e5e50d-fbaf-4ef3-915f-23edfcb21245",
    "_uuid": "2034dc81210570dde4db6f03ad40a6076109acc6"
   },
   "source": [
    "## Word length\n",
    "We are now ready to extract our first feature, which will be the word length. I do not expect any differences between NT'ers and ASD'ers, although I'm curious to what is the average length of English words. "
   ]
  },
  {
   "cell_type": "code",
   "execution_count": 14,
   "metadata": {
    "_cell_guid": "4fc5224c-8f48-466e-96ea-f46056edc686",
    "_execution_state": "idle",
    "_uuid": "8c4eba005db805cc4aede690485bfebc502ed4be"
   },
   "outputs": [
    {
     "name": "stdout",
     "output_type": "stream",
     "text": [
      "Longest word: 200\n"
     ]
    },
    {
     "data": {
      "image/png": "[encoded data removed]",
      "text/plain": [
       "<matplotlib.figure.Figure at 0x7f62c84cb198>"
      ]
     },
     "metadata": {},
     "output_type": "display_data"
    }
   ],
   "source": [
    "df['len1'] = df['word1'].apply(lambda x:len(x))\n",
    "df['len2'] = df['word2'].apply(lambda x:len(x))\n",
    "print(\"Longest word: \" +str(df['len1'].max()))\n",
    "\n",
    "## plot word length histogram\n",
    "nt = df[df['nt']].len1\n",
    "asd = df[df['nt']==False].len1\n",
    "\n",
    "w1 = np.ones_like(nt)/len(nt)\n",
    "w2 = np.ones_like(asd)/len(asd)\n",
    "\n",
    "bins = np.arange(1,30)\n",
    "\n",
    "plt.figure(figsize=(12, 5))\n",
    "plt.hist(nt, bins=bins, alpha=0.5, label=\"NT\", weights=w1)\n",
    "plt.hist(asd, bins=bins,alpha=0.5, label=\"ASD\", weights=w2)\n",
    "plt.title('Histogram of word lengths')\n",
    "plt.xlabel('Word length')\n",
    "plt.ylabel('Frequency')\n",
    "plt.legend(loc='upper right')\n",
    "axes = plt.gca()\n",
    "axes.set_xlim([1,20])\n",
    "plt.show()"
   ]
  },
  {
   "cell_type": "markdown",
   "metadata": {
    "_cell_guid": "6e7aa25a-8968-452e-95ec-c8dd5b649554",
    "_uuid": "c7571019d430e717d37d537f5c099126dc874670"
   },
   "source": [
    "A post contains on average 7 characters. Most words are between 3 and 15 characters long. The longest word (although it is probably a sentence) is 200 characters long. Interestingly, both NT'ers and ASD'ers use words with exactly 7 characters with similar frequency although **ASD'ers tend to use words shorter than 7 characters less frequently and longer words slightly more frequently.**"
   ]
  },
  {
   "cell_type": "markdown",
   "metadata": {
    "_cell_guid": "77322615-4a1c-4e95-93ff-d08c9fe356c1",
    "_uuid": "0b30752a00294889b98cac9660ea3a81ba97cec0"
   },
   "source": [
    "## Word length difference\n",
    "We can also look at the difference between the word lenght of word1 and word2.\n",
    "\n"
   ]
  },
  {
   "cell_type": "code",
   "execution_count": null,
   "metadata": {
    "_cell_guid": "3ef3d468-fcd5-4386-911a-9439b7924b1c",
    "_execution_state": "idle",
    "_uuid": "47df7e10281ffc6a2678dec626a0331c7b1b8b1e",
    "collapsed": true
   },
   "outputs": [],
   "source": [
    "df['d_len'] = np.abs(df.len1 - df.len2)\n",
    "\n",
    "## plot word length histogram\n",
    "nt = df[df['nt']].d_len\n",
    "asd = df[df['nt']==False].d_len\n",
    "\n",
    "w1 = np.ones_like(nt)/len(nt)\n",
    "w2 = np.ones_like(asd)/len(asd)\n",
    "\n",
    "bins = np.arange(0,20)\n",
    "\n",
    "plt.figure(figsize=(12, 5))\n",
    "plt.hist(nt, bins=bins, alpha=0.5, label=\"NT\", weights=w1)\n",
    "plt.hist(asd, bins=bins,alpha=0.5, label=\"ASD\", weights=w2)\n",
    "plt.title('Histogram of word lengths')\n",
    "plt.xlabel('Word length difference')\n",
    "plt.ylabel('Frequency')\n",
    "plt.legend(loc='upper right')\n",
    "axes = plt.gca()\n",
    "axes.set_xlim([0,15])\n",
    "plt.show()"
   ]
  },
  {
   "cell_type": "markdown",
   "metadata": {
    "_cell_guid": "e37d3532-58ee-4f67-b395-9895681ce43c",
    "_uuid": "152e003cafc9af95992e1c8a4dcb3a761613d3d7"
   },
   "source": [
    "Consistent with word length.."
   ]
  },
  {
   "cell_type": "code",
   "execution_count": null,
   "metadata": {
    "_cell_guid": "28711ea0-a5c6-4e32-94d4-915e0c723e38",
    "_execution_state": "idle",
    "_uuid": "6580bfa5384dac4ed89447cf9246f3e6f26cbb8d",
    "collapsed": true
   },
   "outputs": [],
   "source": [
    "df['d_len'] = np.abs(df.len1 - df.len2)\n",
    "\n",
    "## plot word length histogram\n",
    "nt = df[df['nt']].d_len\n",
    "asd = df[df['nt']==False].d_len\n",
    "\n",
    "w1 = np.ones_like(nt)/len(nt)\n",
    "w2 = np.ones_like(asd)/len(asd)\n",
    "\n",
    "bins = np.arange(0,20)\n",
    "\n",
    "plt.figure(figsize=(12, 5))\n",
    "plt.hist(nt, bins=bins, alpha=0.5, label=\"NT\", weights=w1)\n",
    "plt.hist(asd, bins=bins,alpha=0.5, label=\"ASD\", weights=w2)\n",
    "plt.title('Histogram of pairwise word lengths')\n",
    "plt.xlabel('Word length difference')\n",
    "plt.ylabel('Frequency')\n",
    "plt.legend(loc='upper right')\n",
    "axes = plt.gca()\n",
    "axes.set_xlim([0,15])\n",
    "plt.show()"
   ]
  },
  {
   "cell_type": "markdown",
   "metadata": {
    "_cell_guid": "3dc9a206-2c21-4533-818c-62f2b02da78e",
    "_uuid": "dbea05d449c4b0ba08c9e73821834365d62f7da5"
   },
   "source": [
    "Often difference is 1"
   ]
  },
  {
   "cell_type": "markdown",
   "metadata": {
    "_cell_guid": "1cc2897c-355a-4a15-8272-c76614310002",
    "_uuid": "a52fed6368b964e861c6093a58fa1226bdcfa205"
   },
   "source": [
    "## User activity\n",
    "Another highly important aspect is the number and distribution of users, because ultimately we want to develop a generalizable model and not a model that models the the difference between user A and user B. Fortunately, we have a very large dataset, which makes the distribution of users a little less important. "
   ]
  },
  {
   "cell_type": "code",
   "execution_count": null,
   "metadata": {
    "_cell_guid": "af7d5679-c7e3-4d89-b490-38664064ab44",
    "_execution_state": "idle",
    "_uuid": "dba8e3992d109b08b7189c93c6d56e89a0792024",
    "collapsed": true
   },
   "outputs": [],
   "source": [
    "#\n",
    "print(\"Post count of most active user: \" + str(df['author'].value_counts().max()))\n",
    "print(\"Total number of users: \" + str(len(df.groupby(['author']))))\n",
    "\n",
    "nt = df[df['nt']]\n",
    "asd = df[df['nt']==False]\n",
    "nt = nt['author'].value_counts()\n",
    "asd = asd['author'].value_counts()\n",
    "\n",
    "print(\"\\tNumber of NT'ers: \" + str(len(nt)))\n",
    "print(\"\\tNumber of ASD'ers: \" + str(len(asd)))\n",
    "\n",
    "bins = np.arange(1,11800,100)\n",
    "w1 = np.ones_like(nt)/len(nt)\n",
    "w2 = np.ones_like(asd)/len(asd)\n",
    "\n",
    "#Plot\n",
    "plt.figure(figsize=(20, 5))\n",
    "plt.hist(nt, bins=bins, alpha=0.5, label=\"NT\", weights=w1)\n",
    "plt.hist(asd, bins=bins, alpha=0.5, label=\"ASD\", weights=w2)\n",
    "plt.yscale('log')\n",
    "plt.title('Log-Histogram of posts per author')\n",
    "plt.xlabel('Number of posts')\n",
    "plt.ylabel('Weighted frequency')\n",
    "plt.legend(loc='upper right')\n",
    "axes = plt.gca()\n",
    "axes.set_xlim([1,11800])\n",
    "plt.show()"
   ]
  },
  {
   "cell_type": "markdown",
   "metadata": {
    "_cell_guid": "aa8c1f07-5fa8-4874-ae53-0d5282088590",
    "_uuid": "2d89f6b61f723835f330fa5fcc917571426e9db0"
   },
   "source": [
    "Fortunately, almost 100% of all users in both datasets have 100 or less posts. However, there are are also 3 users in the NT set who have more than 7000 posts each, one of these users even has 11053 posts, accounting for 5% of the whole NT dataset. I think he is bit obsessed with the word game.. It might be better randomly drop most of their posts from the dataset, but for now I will leave them in. "
   ]
  },
  {
   "cell_type": "markdown",
   "metadata": {
    "_cell_guid": "9d3cdf34-2fc9-481c-b450-2992c5f53ff2",
    "_uuid": "0408260e129bb698075a4f95fc1d3a66e13dff67"
   },
   "source": [
    "## Frequent words\n",
    "So far we know that we have more 300000 posts from more than 6000 users, but what are the most frequently occurring words? Will these words be very meaningful or just random?"
   ]
  },
  {
   "cell_type": "code",
   "execution_count": null,
   "metadata": {
    "_cell_guid": "69332918-f097-4b1a-9c70-6013a25964f9",
    "_execution_state": "idle",
    "_uuid": "f3d9b21e497fc67245cc0aca6241208d4597354b",
    "collapsed": true
   },
   "outputs": [],
   "source": [
    "# convert all words to lowercase\n",
    "#df['word1'] = df['word1'].map(str).apply(lambda x: x.lower())\n",
    "#df['word2'] = df['word2'].map(str).apply(lambda x: x.lower())\n",
    "\n",
    "# split NT and ASD data\n",
    "nt = df[df['nt']]\n",
    "asd = df[df['nt']==False]\n",
    "\n",
    "#word count\n",
    "print(\"NT'ers most frequent words:\\n\" + str(nt['word2'].value_counts().head(10)))\n",
    "print(\"ASD'ers most frequent words:\\n\" + str(asd['word2'].value_counts().head(10)))"
   ]
  },
  {
   "cell_type": "markdown",
   "metadata": {
    "_cell_guid": "d3793149-9043-42f8-a92f-11d96c725c3a",
    "_uuid": "9e7300f71c4b82ed838ab98f500b2fdd208933c3"
   },
   "source": [
    "The most frequent words are definitely meaningful and **NT'ers and ASD'ers seem to use the same words most frequently.** Both groups even agree that *water* is (by far) the most important word of all and that *music* is the third most important word. "
   ]
  },
  {
   "cell_type": "markdown",
   "metadata": {
    "_cell_guid": "aa8e7cb1-afc6-4338-8959-de59a3a6b10c",
    "_uuid": "0271351da38569c00e22882437f92298e194e1bf"
   },
   "source": [
    "## Levenshtein Distance\n",
    "We can expect that the pairs word1-word2 contain the most the most information about the human mind. For example, when someone says *rice* you might say *food* whereas I might say *mice* (because rice sounds like mice). Which of these types of word associations can be considered to be more typically autistic?\n",
    "\n",
    "To determine this, we will use the **Levensthein Distance** (also called edit distance), which measures the similarity of two words by counting the minimum number of character *edits* (insertion, deletion or substitution) required to change one word into the other. In our example rice->food will has edit distance 4, whereas rice->mice has edit distance 1.  "
   ]
  },
  {
   "cell_type": "code",
   "execution_count": null,
   "metadata": {
    "_cell_guid": "9b1f1840-d114-4418-922e-eff06e40b872",
    "_execution_state": "idle",
    "_uuid": "e65a1d1a8e02ff8d100c0d45330f8d479a3f52d9"
   },
   "outputs": [],
   "source": [
    "import Levenshtein\n",
    "\n",
    "def levenshtein(r):\n",
    "\treturn Levenshtein.distance(r.word1, r.word2)\n",
    "\n",
    "#calculate levenstein distance on each row and add to dataframe\n",
    "df['edit'] = df.apply(levenshtein, axis=1)\n",
    "\n",
    "#print mean edit distance\n",
    "print(\"Mean edit distance: \"+ str(df['edit'].mean()))\n",
    "\n",
    "#split data into NT and ASD set\n",
    "nt = df[(df['nt'] == True)]\n",
    "asd = df[(df['nt'] == False)]\n",
    "\n",
    "bins = np.arange(0,20)\n",
    "weights_nt = np.ones_like(nt['edit'])/len(nt['edit'])\n",
    "weights_asd = np.ones_like(asd['edit'])/len(asd['edit'])\n",
    "\n",
    "#Plot\n",
    "plt.figure(figsize=(4, 5))\n",
    "plt.hist(nt['edit'], bins=bins, alpha=0.5, label=\"NT\", weights=weights_nt)\n",
    "plt.hist(asd['edit'], bins=bins, alpha=0.5, label=\"ASD\", weights=weights_asd)\n",
    "plt.title('Histogram of edit distance')\n",
    "plt.xlabel('Edit distance')\n",
    "plt.ylabel('Frequency')\n",
    "plt.legend(loc='upper right')\n",
    "axes = plt.gca()\n",
    "axes.set_xlim([1,2])\n",
    "axes.set_ylim([0,0.015])\n",
    "plt.show()"
   ]
  },
  {
   "cell_type": "markdown",
   "metadata": {
    "_cell_guid": "d50726eb-434b-4e6a-9d26-9a0a77a1d7e7",
    "_uuid": "4515655175c8365598bad6d888aa45f40b3189f7"
   },
   "source": [
    "formula"
   ]
  },
  {
   "cell_type": "code",
   "execution_count": null,
   "metadata": {
    "_cell_guid": "1e722e5c-ef64-4e74-8577-fcd0af34f4f6",
    "_execution_state": "idle",
    "_uuid": "44f5f49e4d8f9f4d8276bfcd3834fc11683c3c54",
    "collapsed": true
   },
   "outputs": [],
   "source": [
    "def norm_levenshtein(r):\n",
    "    return (r.edit/((r.len1)**2 + (r.len2)**2))\n",
    "\n",
    "#calculate levenstein distance on each row and add to dataframe\n",
    "df['n_edit'] = df.apply(norm_levenshtein, axis=1)\n",
    "\n",
    "#split data into NT and ASD set\n",
    "nt = df[(df['nt'] == True)]\n",
    "asd = df[(df['nt'] == False)]\n",
    "\n",
    "bins = np.arange(0,1,0.02)\n",
    "weights_nt = np.ones_like(nt['n_edit'])/len(nt['n_edit'])\n",
    "weights_asd = np.ones_like(asd['n_edit'])/len(asd['n_edit'])\n",
    "\n",
    "#Plot\n",
    "plt.figure(figsize=(12, 5))\n",
    "plt.hist(nt['n_edit'], bins=bins, alpha=0.5, label=\"NT\", weights=weights_nt)\n",
    "plt.hist(asd['n_edit'], bins=bins, alpha=0.5, label=\"ASD\", weights=weights_asd)\n",
    "plt.title('Histogram of normalised levenshtein distance')\n",
    "plt.xlabel('Normalised Levenshtein distance')\n",
    "plt.ylabel('Frequency')\n",
    "plt.legend(loc='upper right')\n",
    "axes = plt.gca()\n",
    "axes.set_xlim([0,0.25])\n",
    "plt.show()"
   ]
  },
  {
   "cell_type": "markdown",
   "metadata": {
    "_cell_guid": "81a6e918-4227-41e9-bff2-25da361b0be5",
    "_uuid": "22ce14bcc025eb02e91522973b6927d0bebee3cf"
   },
   "source": [
    "# .."
   ]
  },
  {
   "cell_type": "code",
   "execution_count": null,
   "metadata": {
    "_cell_guid": "41b7930d-52d7-4b23-8d7c-745c242ffe52",
    "_execution_state": "idle",
    "_uuid": "eca55cbcbf473b8b1c28769658b49aedc7c58b06",
    "collapsed": true
   },
   "outputs": [],
   "source": [
    "\n",
    "\n",
    "#set output filename\n",
    "outfile = \"../data/processed/wordgame_20170628_basicfeatures.csv\"\n",
    "\n",
    "# write rows to file\n",
    "df.to_csv(outfile, sep=',', index=False)\n"
   ]
  }
 ],
 "metadata": {
  "kernelspec": {
   "display_name": "Python 3",
   "language": "python",
   "name": "python3"
  },
  "language_info": {
   "codemirror_mode": {
    "name": "ipython",
    "version": 3
   },
   "file_extension": ".py",
   "mimetype": "text/x-python",
   "name": "python",
   "nbconvert_exporter": "python",
   "pygments_lexer": "ipython3",
   "version": "3.5.2"
  }
 },
 "nbformat": 4,
 "nbformat_minor": 2
}
