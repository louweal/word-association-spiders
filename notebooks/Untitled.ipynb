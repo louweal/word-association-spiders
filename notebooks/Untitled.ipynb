{
 "cells": [
  {
   "cell_type": "code",
   "execution_count": 75,
   "metadata": {},
   "outputs": [
    {
     "data": {
      "image/png": "[encoded data removed]",
      "text/plain": [
       "<matplotlib.figure.Figure at 0x7f2c9bc61278>"
      ]
     },
     "metadata": {},
     "output_type": "display_data"
    }
   ],
   "source": [
    "import numpy as np\n",
    "import matplotlib.pyplot as plt\n",
    "import pandas as pd\n",
    "\n",
    "y = [['cat', '0'],\n",
    "    ['cat', '2'],\n",
    "    ['dog', '1'],\n",
    "    ['dog','2'],\n",
    "     ['dog','1']]\n",
    "\n",
    "y = pd.DataFrame(y, columns=['word','source'])\n",
    "\n",
    "ct = pd.crosstab(y.word, y.source)\n",
    "for i in range(0,3):\n",
    "    col = str(i)\n",
    "    ct[col] = ct[col]/ct[col].sum()\n",
    "    \n",
    "#ct['1'] = ct['1']/(ct['1'].sum())\n",
    "#ct['2'] = ct['2']/(ct['2'].sum())\n",
    "\n",
    "#print(ct)\n",
    "ct.plot.barh(stacked=True)\n",
    "\n",
    "plt.show()\n"
   ]
  }
 ],
 "metadata": {
  "kernelspec": {
   "display_name": "Python 3",
   "language": "python",
   "name": "python3"
  },
  "language_info": {
   "codemirror_mode": {
    "name": "ipython",
    "version": 3
   },
   "file_extension": ".py",
   "mimetype": "text/x-python",
   "name": "python",
   "nbconvert_exporter": "python",
   "pygments_lexer": "ipython3",
   "version": "3.5.2"
  }
 },
 "nbformat": 4,
 "nbformat_minor": 2
}
